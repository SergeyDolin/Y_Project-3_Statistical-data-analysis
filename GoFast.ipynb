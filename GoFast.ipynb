{
 "cells": [
  {
   "cell_type": "markdown",
   "id": "6b0e85d2",
   "metadata": {
    "toc": true
   },
   "source": [
    "<h1>Содержание<span class=\"tocSkip\"></span></h1>\n",
    "<div class=\"toc\"><ul class=\"toc-item\"><li><span><a href=\"#Загрузка-данных\" data-toc-modified-id=\"Загрузка-данных-1\"><span class=\"toc-item-num\">1&nbsp;&nbsp;</span>Загрузка данных</a></span></li><li><span><a href=\"#Предобработка-данных\" data-toc-modified-id=\"Предобработка-данных-2\"><span class=\"toc-item-num\">2&nbsp;&nbsp;</span>Предобработка данных</a></span></li><li><span><a href=\"#Исследовательский-анализ-данных\" data-toc-modified-id=\"Исследовательский-анализ-данных-3\"><span class=\"toc-item-num\">3&nbsp;&nbsp;</span>Исследовательский анализ данных</a></span><ul class=\"toc-item\"><li><span><a href=\"#Частота-встречаемости-городов\" data-toc-modified-id=\"Частота-встречаемости-городов-3.1\"><span class=\"toc-item-num\">3.1&nbsp;&nbsp;</span>Частота встречаемости городов</a></span></li><li><span><a href=\"#Cоотношение-пользователей-с-подпиской-и-без-подписки\" data-toc-modified-id=\"Cоотношение-пользователей-с-подпиской-и-без-подписки-3.2\"><span class=\"toc-item-num\">3.2&nbsp;&nbsp;</span>Cоотношение пользователей с подпиской и без подписки</a></span></li><li><span><a href=\"#Возраст-пользователей\" data-toc-modified-id=\"Возраст-пользователей-3.3\"><span class=\"toc-item-num\">3.3&nbsp;&nbsp;</span>Возраст пользователей</a></span></li><li><span><a href=\"#Расстояние,-которое-пользователь-преодолел-за-одну-поездку\" data-toc-modified-id=\"Расстояние,-которое-пользователь-преодолел-за-одну-поездку-3.4\"><span class=\"toc-item-num\">3.4&nbsp;&nbsp;</span>Расстояние, которое пользователь преодолел за одну поездку</a></span></li><li><span><a href=\"#Продолжительность-поездок\" data-toc-modified-id=\"Продолжительность-поездок-3.5\"><span class=\"toc-item-num\">3.5&nbsp;&nbsp;</span>Продолжительность поездок</a></span></li></ul></li><li><span><a href=\"#Объединение-данных\" data-toc-modified-id=\"Объединение-данных-4\"><span class=\"toc-item-num\">4&nbsp;&nbsp;</span>Объединение данных</a></span><ul class=\"toc-item\"><li><span><a href=\"#Датафрейм-c-данными-о-пользователях-c-подпиской\" data-toc-modified-id=\"Датафрейм-c-данными-о-пользователях-c-подпиской-4.1\"><span class=\"toc-item-num\">4.1&nbsp;&nbsp;</span>Датафрейм c данными о пользователях c подпиской</a></span><ul class=\"toc-item\"><li><span><a href=\"#Расстояние-и-время-поездки\" data-toc-modified-id=\"Расстояние-и-время-поездки-4.1.1\"><span class=\"toc-item-num\">4.1.1&nbsp;&nbsp;</span>Расстояние и время поездки</a></span></li></ul></li><li><span><a href=\"#Датафрейм-c-данными-о-пользователях-без-подписки\" data-toc-modified-id=\"Датафрейм-c-данными-о-пользователях-без-подписки-4.2\"><span class=\"toc-item-num\">4.2&nbsp;&nbsp;</span>Датафрейм c данными о пользователях без подписки</a></span><ul class=\"toc-item\"><li><span><a href=\"#Расстояние-и-время-поездки\" data-toc-modified-id=\"Расстояние-и-время-поездки-4.2.1\"><span class=\"toc-item-num\">4.2.1&nbsp;&nbsp;</span>Расстояние и время поездки</a></span></li></ul></li></ul></li><li><span><a href=\"#Подсчёт-выручки\" data-toc-modified-id=\"Подсчёт-выручки-5\"><span class=\"toc-item-num\">5&nbsp;&nbsp;</span>Подсчёт выручки</a></span></li><li><span><a href=\"#Проверка-гипотез\" data-toc-modified-id=\"Проверка-гипотез-6\"><span class=\"toc-item-num\">6&nbsp;&nbsp;</span>Проверка гипотез</a></span><ul class=\"toc-item\"><li><span><a href=\"#Гипотеза-№1.-Тратят-ли-пользователи-с-подпиской-больше-времени-на-поездки?\" data-toc-modified-id=\"Гипотеза-№1.-Тратят-ли-пользователи-с-подпиской-больше-времени-на-поездки?-6.1\"><span class=\"toc-item-num\">6.1&nbsp;&nbsp;</span>Гипотеза №1. Тратят ли пользователи с подпиской больше времени на поездки?</a></span></li><li><span><a href=\"#Гипотеза-№2.-Можно-ли-сказать,-что-расстояние,-которое-проезжают-пользователи-с-подпиской-за-одну-поездку,-не-превышает-3130-метров?\" data-toc-modified-id=\"Гипотеза-№2.-Можно-ли-сказать,-что-расстояние,-которое-проезжают-пользователи-с-подпиской-за-одну-поездку,-не-превышает-3130-метров?-6.2\"><span class=\"toc-item-num\">6.2&nbsp;&nbsp;</span>Гипотеза №2. Можно ли сказать, что расстояние, которое проезжают пользователи с подпиской за одну поездку, не превышает 3130 метров?</a></span></li><li><span><a href=\"#Гипотеза-№3.-Помесячная-выручка-от-пользователей-с-подпиской-по-месяцам-выше,-чем-выручка-от-пользователей-без-подписки.\" data-toc-modified-id=\"Гипотеза-№3.-Помесячная-выручка-от-пользователей-с-подпиской-по-месяцам-выше,-чем-выручка-от-пользователей-без-подписки.-6.3\"><span class=\"toc-item-num\">6.3&nbsp;&nbsp;</span>Гипотеза №3. Помесячная выручка от пользователей с подпиской по месяцам выше, чем выручка от пользователей без подписки.</a></span></li><li><span><a href=\"#Представьте-такую-ситуацию:-техническая-команда-сервиса-обновила-сервера,-с-которыми-взаимодействует-мобильное-приложение.-Она-надеется,-что-из-за-этого-количество-обращений-в-техподдержку-значимо-снизилось.-Некоторый-файл-содержит-для-каждого-пользователя-данные-о-количестве-обращений-до-обновления-и-после-него.-Какой-тест-вам-понадобился-бы-для-проверки-этой-гипотезы?\" data-toc-modified-id=\"Представьте-такую-ситуацию:-техническая-команда-сервиса-обновила-сервера,-с-которыми-взаимодействует-мобильное-приложение.-Она-надеется,-что-из-за-этого-количество-обращений-в-техподдержку-значимо-снизилось.-Некоторый-файл-содержит-для-каждого-пользователя-данные-о-количестве-обращений-до-обновления-и-после-него.-Какой-тест-вам-понадобился-бы-для-проверки-этой-гипотезы?-6.4\"><span class=\"toc-item-num\">6.4&nbsp;&nbsp;</span>Представьте такую ситуацию: техническая команда сервиса обновила сервера, с которыми взаимодействует мобильное приложение. Она надеется, что из-за этого количество обращений в техподдержку значимо снизилось. Некоторый файл содержит для каждого пользователя данные о количестве обращений до обновления и после него. Какой тест вам понадобился бы для проверки этой гипотезы?</a></span></li></ul></li><li><span><a href=\"#Выводы\" data-toc-modified-id=\"Выводы-7\"><span class=\"toc-item-num\">7&nbsp;&nbsp;</span>Выводы</a></span></li>"
   ]
  },
  {
   "cell_type": "markdown",
   "id": "2de2a195",
   "metadata": {},
   "source": [
    "# Анализ сервиса аренды самокатов GoFast"
   ]
  },
  {
   "cell_type": "markdown",
   "id": "9cfb4e02",
   "metadata": {},
   "source": [
    "Необходимо на основе данных об использовании сервиса пользователями, проверить гипотезы:\n",
    "- Тратят ли пользователи с подпиской больше времени на поездки? Если да, то действительно ли пользователи с подпиской «выгоднее» для компании.\n",
    "- Расстояние одной поездки в 3130 метров — оптимальное с точки зрения износа самоката. Можно ли сказать, что расстояние, которое проезжают пользователи с подпиской за одну поездку, не превышает 3130 метров?\n",
    "- Будет ли помесячная выручка от пользователей с подпиской по месяцам выше, чем выручка от пользователей без подписки. \n",
    "- Техническая команда сервиса обновила сервера, с которыми взаимодействует мобильное приложение. Она надеется, что из-за этого количество обращений в техподдержку значимо снизилось. Некоторый файл содержит для каждого пользователя данные о количестве обращений до обновления и после него.\n",
    "\n",
    "Чтобы совершать поездки по городу, пользователи сервиса GoFast пользуются мобильным приложением. Сервисом можно пользоваться:\n",
    "- без подписки\n",
    "    - абонентская плата отсутствует;\n",
    "    - стоимость одной минуты поездки — 8 рублей;\n",
    "    - стоимость старта (начала поездки) — 50 рублей;\n",
    "- подпиской Ultra\n",
    "    - абонентская плата — 199 рублей в месяц;\n",
    "    - стоимость одной минуты поездки — 6 рублей;\n",
    "    - стоимость старта — бесплатно."
   ]
  },
  {
   "cell_type": "markdown",
   "id": "90992620",
   "metadata": {},
   "source": [
    "**Используемые библиотеки**"
   ]
  },
  {
   "cell_type": "code",
   "execution_count": 1,
   "id": "72576667",
   "metadata": {},
   "outputs": [],
   "source": [
    "import pandas as pd\n",
    "from scipy import stats as st\n",
    "import numpy as np"
   ]
  },
  {
   "cell_type": "markdown",
   "id": "c42cbe00",
   "metadata": {},
   "source": [
    "## Загрузка данных"
   ]
  },
  {
   "cell_type": "markdown",
   "id": "f1f8ad8c",
   "metadata": {},
   "source": [
    "Загрузим три датасета:\n",
    "\n",
    "Пользователи\n",
    "- user_id -\tуникальный идентификатор пользователя\n",
    "- name\tимя пользователя\n",
    "- age\tвозраст\n",
    "- city\tгород\n",
    "- subscription_type\tтип подписки (free, ultra)\n",
    "\n",
    "Поездки\n",
    "- user_id\tуникальный идентификатор пользователя\n",
    "- distance\tрасстояние, которое пользователь проехал в текущей сессии (в метрах)\n",
    "- duration\tпродолжительность сессии (в минутах) — время с того момента, как пользователь нажал кнопку «Начать поездку» до момента, как он нажал кнопку «Завершить поездку»\n",
    "- date\tдата совершения поездки\n",
    "\n",
    "Подписки\n",
    "- subscription_type\tтип подписки\n",
    "- minute_price\tстоимость одной минуты поездки по данной подписке\n",
    "- start_ride_price\tстоимость начала поездки\n",
    "- subscription_fee\tстоимость ежемесячного платежа"
   ]
  },
  {
   "cell_type": "code",
   "execution_count": 2,
   "id": "eff9f206",
   "metadata": {},
   "outputs": [],
   "source": [
    "users = pd.read_csv('/datasets/users_go.csv')\n",
    "\n",
    "# конвертируем данные о дате и времени в формат datetime\n",
    "rides = pd.read_csv('/datasets/rides_go.csv', parse_dates=['date'])\n",
    "\n",
    "\n",
    "subs = pd.read_csv('/datasets/subscriptions_go.csv')"
   ]
  },
  {
   "cell_type": "code",
   "execution_count": 3,
   "id": "b057f6a0",
   "metadata": {},
   "outputs": [
    {
     "name": "stdout",
     "output_type": "stream",
     "text": [
      "<class 'pandas.core.frame.DataFrame'>\n",
      "RangeIndex: 1565 entries, 0 to 1564\n",
      "Data columns (total 5 columns):\n",
      " #   Column             Non-Null Count  Dtype \n",
      "---  ------             --------------  ----- \n",
      " 0   user_id            1565 non-null   int64 \n",
      " 1   name               1565 non-null   object\n",
      " 2   age                1565 non-null   int64 \n",
      " 3   city               1565 non-null   object\n",
      " 4   subscription_type  1565 non-null   object\n",
      "dtypes: int64(2), object(3)\n",
      "memory usage: 61.3+ KB\n"
     ]
    },
    {
     "data": {
      "text/html": [
       "<div>\n",
       "<style scoped>\n",
       "    .dataframe tbody tr th:only-of-type {\n",
       "        vertical-align: middle;\n",
       "    }\n",
       "\n",
       "    .dataframe tbody tr th {\n",
       "        vertical-align: top;\n",
       "    }\n",
       "\n",
       "    .dataframe thead th {\n",
       "        text-align: right;\n",
       "    }\n",
       "</style>\n",
       "<table border=\"1\" class=\"dataframe\">\n",
       "  <thead>\n",
       "    <tr style=\"text-align: right;\">\n",
       "      <th></th>\n",
       "      <th>user_id</th>\n",
       "      <th>name</th>\n",
       "      <th>age</th>\n",
       "      <th>city</th>\n",
       "      <th>subscription_type</th>\n",
       "    </tr>\n",
       "  </thead>\n",
       "  <tbody>\n",
       "    <tr>\n",
       "      <th>0</th>\n",
       "      <td>1</td>\n",
       "      <td>Кира</td>\n",
       "      <td>22</td>\n",
       "      <td>Тюмень</td>\n",
       "      <td>ultra</td>\n",
       "    </tr>\n",
       "    <tr>\n",
       "      <th>1</th>\n",
       "      <td>2</td>\n",
       "      <td>Станислав</td>\n",
       "      <td>31</td>\n",
       "      <td>Омск</td>\n",
       "      <td>ultra</td>\n",
       "    </tr>\n",
       "    <tr>\n",
       "      <th>2</th>\n",
       "      <td>3</td>\n",
       "      <td>Алексей</td>\n",
       "      <td>20</td>\n",
       "      <td>Москва</td>\n",
       "      <td>ultra</td>\n",
       "    </tr>\n",
       "    <tr>\n",
       "      <th>3</th>\n",
       "      <td>4</td>\n",
       "      <td>Константин</td>\n",
       "      <td>26</td>\n",
       "      <td>Ростов-на-Дону</td>\n",
       "      <td>ultra</td>\n",
       "    </tr>\n",
       "    <tr>\n",
       "      <th>4</th>\n",
       "      <td>5</td>\n",
       "      <td>Адель</td>\n",
       "      <td>28</td>\n",
       "      <td>Омск</td>\n",
       "      <td>ultra</td>\n",
       "    </tr>\n",
       "  </tbody>\n",
       "</table>\n",
       "</div>"
      ],
      "text/plain": [
       "   user_id        name  age            city subscription_type\n",
       "0        1        Кира   22          Тюмень             ultra\n",
       "1        2   Станислав   31            Омск             ultra\n",
       "2        3     Алексей   20          Москва             ultra\n",
       "3        4  Константин   26  Ростов-на-Дону             ultra\n",
       "4        5       Адель   28            Омск             ultra"
      ]
     },
     "execution_count": 3,
     "metadata": {},
     "output_type": "execute_result"
    }
   ],
   "source": [
    "users.info()\n",
    "users.head()"
   ]
  },
  {
   "cell_type": "code",
   "execution_count": 4,
   "id": "2ac87d31",
   "metadata": {},
   "outputs": [
    {
     "name": "stdout",
     "output_type": "stream",
     "text": [
      "<class 'pandas.core.frame.DataFrame'>\n",
      "RangeIndex: 18068 entries, 0 to 18067\n",
      "Data columns (total 4 columns):\n",
      " #   Column    Non-Null Count  Dtype         \n",
      "---  ------    --------------  -----         \n",
      " 0   user_id   18068 non-null  int64         \n",
      " 1   distance  18068 non-null  float64       \n",
      " 2   duration  18068 non-null  float64       \n",
      " 3   date      18068 non-null  datetime64[ns]\n",
      "dtypes: datetime64[ns](1), float64(2), int64(1)\n",
      "memory usage: 564.8 KB\n"
     ]
    },
    {
     "data": {
      "text/html": [
       "<div>\n",
       "<style scoped>\n",
       "    .dataframe tbody tr th:only-of-type {\n",
       "        vertical-align: middle;\n",
       "    }\n",
       "\n",
       "    .dataframe tbody tr th {\n",
       "        vertical-align: top;\n",
       "    }\n",
       "\n",
       "    .dataframe thead th {\n",
       "        text-align: right;\n",
       "    }\n",
       "</style>\n",
       "<table border=\"1\" class=\"dataframe\">\n",
       "  <thead>\n",
       "    <tr style=\"text-align: right;\">\n",
       "      <th></th>\n",
       "      <th>user_id</th>\n",
       "      <th>distance</th>\n",
       "      <th>duration</th>\n",
       "      <th>date</th>\n",
       "    </tr>\n",
       "  </thead>\n",
       "  <tbody>\n",
       "    <tr>\n",
       "      <th>0</th>\n",
       "      <td>1</td>\n",
       "      <td>4409.919140</td>\n",
       "      <td>25.599769</td>\n",
       "      <td>2021-01-01</td>\n",
       "    </tr>\n",
       "    <tr>\n",
       "      <th>1</th>\n",
       "      <td>1</td>\n",
       "      <td>2617.592153</td>\n",
       "      <td>15.816871</td>\n",
       "      <td>2021-01-18</td>\n",
       "    </tr>\n",
       "    <tr>\n",
       "      <th>2</th>\n",
       "      <td>1</td>\n",
       "      <td>754.159807</td>\n",
       "      <td>6.232113</td>\n",
       "      <td>2021-04-20</td>\n",
       "    </tr>\n",
       "    <tr>\n",
       "      <th>3</th>\n",
       "      <td>1</td>\n",
       "      <td>2694.783254</td>\n",
       "      <td>18.511000</td>\n",
       "      <td>2021-08-11</td>\n",
       "    </tr>\n",
       "    <tr>\n",
       "      <th>4</th>\n",
       "      <td>1</td>\n",
       "      <td>4028.687306</td>\n",
       "      <td>26.265803</td>\n",
       "      <td>2021-08-28</td>\n",
       "    </tr>\n",
       "  </tbody>\n",
       "</table>\n",
       "</div>"
      ],
      "text/plain": [
       "   user_id     distance   duration       date\n",
       "0        1  4409.919140  25.599769 2021-01-01\n",
       "1        1  2617.592153  15.816871 2021-01-18\n",
       "2        1   754.159807   6.232113 2021-04-20\n",
       "3        1  2694.783254  18.511000 2021-08-11\n",
       "4        1  4028.687306  26.265803 2021-08-28"
      ]
     },
     "execution_count": 4,
     "metadata": {},
     "output_type": "execute_result"
    }
   ],
   "source": [
    "rides.info()\n",
    "rides.head()"
   ]
  },
  {
   "cell_type": "code",
   "execution_count": 5,
   "id": "6d4849e5",
   "metadata": {},
   "outputs": [
    {
     "name": "stdout",
     "output_type": "stream",
     "text": [
      "<class 'pandas.core.frame.DataFrame'>\n",
      "RangeIndex: 2 entries, 0 to 1\n",
      "Data columns (total 4 columns):\n",
      " #   Column             Non-Null Count  Dtype \n",
      "---  ------             --------------  ----- \n",
      " 0   subscription_type  2 non-null      object\n",
      " 1   minute_price       2 non-null      int64 \n",
      " 2   start_ride_price   2 non-null      int64 \n",
      " 3   subscription_fee   2 non-null      int64 \n",
      "dtypes: int64(3), object(1)\n",
      "memory usage: 192.0+ bytes\n"
     ]
    },
    {
     "data": {
      "text/html": [
       "<div>\n",
       "<style scoped>\n",
       "    .dataframe tbody tr th:only-of-type {\n",
       "        vertical-align: middle;\n",
       "    }\n",
       "\n",
       "    .dataframe tbody tr th {\n",
       "        vertical-align: top;\n",
       "    }\n",
       "\n",
       "    .dataframe thead th {\n",
       "        text-align: right;\n",
       "    }\n",
       "</style>\n",
       "<table border=\"1\" class=\"dataframe\">\n",
       "  <thead>\n",
       "    <tr style=\"text-align: right;\">\n",
       "      <th></th>\n",
       "      <th>subscription_type</th>\n",
       "      <th>minute_price</th>\n",
       "      <th>start_ride_price</th>\n",
       "      <th>subscription_fee</th>\n",
       "    </tr>\n",
       "  </thead>\n",
       "  <tbody>\n",
       "    <tr>\n",
       "      <th>0</th>\n",
       "      <td>free</td>\n",
       "      <td>8</td>\n",
       "      <td>50</td>\n",
       "      <td>0</td>\n",
       "    </tr>\n",
       "    <tr>\n",
       "      <th>1</th>\n",
       "      <td>ultra</td>\n",
       "      <td>6</td>\n",
       "      <td>0</td>\n",
       "      <td>199</td>\n",
       "    </tr>\n",
       "  </tbody>\n",
       "</table>\n",
       "</div>"
      ],
      "text/plain": [
       "  subscription_type  minute_price  start_ride_price  subscription_fee\n",
       "0              free             8                50                 0\n",
       "1             ultra             6                 0               199"
      ]
     },
     "execution_count": 5,
     "metadata": {},
     "output_type": "execute_result"
    }
   ],
   "source": [
    "subs.info()\n",
    "subs.head()"
   ]
  },
  {
   "cell_type": "markdown",
   "id": "0c61858b",
   "metadata": {},
   "source": [
    "**Выводы**"
   ]
  },
  {
   "cell_type": "markdown",
   "id": "44229946",
   "metadata": {},
   "source": [
    "Импортированный датасет `users` не содержит ошибок в типах данных и явных пропусков, первые пять строчек сета выгледят адекватно.\n",
    "\n",
    "Импортированный датасет `rides` не содержит ошибок в типах данных (за исключением колонки с датой и временем, но за счёт знания о наполнении этой колонки, было выполнено явное преобразование на стадии загрузки).\n",
    "\n",
    "Импортированный датасет `subs` представляет из себя вспомогательную таблицу с прайсом для каждого типа подписки."
   ]
  },
  {
   "cell_type": "markdown",
   "id": "e95ebca7",
   "metadata": {},
   "source": [
    "## Предобработка данных"
   ]
  },
  {
   "cell_type": "markdown",
   "id": "6386fb26",
   "metadata": {},
   "source": [
    "Посмотрим на расспределение данных в трёх датасетах"
   ]
  },
  {
   "cell_type": "code",
   "execution_count": 6,
   "id": "af6d202c",
   "metadata": {
    "scrolled": true
   },
   "outputs": [
    {
     "data": {
      "image/png": "[encoded data removed]",
      "text/plain": [
       "<Figure size 432x288 with 2 Axes>"
      ]
     },
     "metadata": {
      "needs_background": "light"
     },
     "output_type": "display_data"
    }
   ],
   "source": [
    "users.hist();"
   ]
  },
  {
   "cell_type": "code",
   "execution_count": 7,
   "id": "c8d933e3",
   "metadata": {
    "scrolled": false
   },
   "outputs": [
    {
     "data": {
      "image/png": "[encoded data removed]",
      "text/plain": [
       "<Figure size 720x720 with 4 Axes>"
      ]
     },
     "metadata": {
      "needs_background": "light"
     },
     "output_type": "display_data"
    }
   ],
   "source": [
    "rides.hist(figsize=(10, 10));"
   ]
  },
  {
   "cell_type": "markdown",
   "id": "38ff9d20",
   "metadata": {},
   "source": [
    "Можно сказать, что данные о возрасте, расстоянии и времени расспределены нормально. "
   ]
  },
  {
   "cell_type": "markdown",
   "id": "b958bd46",
   "metadata": {},
   "source": [
    "Создадим новый столбец с месяцами в датасете `rides`"
   ]
  },
  {
   "cell_type": "code",
   "execution_count": 8,
   "id": "4003103e",
   "metadata": {},
   "outputs": [
    {
     "name": "stdout",
     "output_type": "stream",
     "text": [
      "<class 'pandas.core.frame.DataFrame'>\n",
      "RangeIndex: 18068 entries, 0 to 18067\n",
      "Data columns (total 5 columns):\n",
      " #   Column    Non-Null Count  Dtype         \n",
      "---  ------    --------------  -----         \n",
      " 0   user_id   18068 non-null  int64         \n",
      " 1   distance  18068 non-null  float64       \n",
      " 2   duration  18068 non-null  float64       \n",
      " 3   date      18068 non-null  datetime64[ns]\n",
      " 4   months    18068 non-null  int64         \n",
      "dtypes: datetime64[ns](1), float64(2), int64(2)\n",
      "memory usage: 705.9 KB\n"
     ]
    }
   ],
   "source": [
    "rides['months'] = rides['date'].dt.month\n",
    "rides.info()"
   ]
  },
  {
   "cell_type": "markdown",
   "id": "8e52eec3",
   "metadata": {},
   "source": [
    "**Явные дубликаты**"
   ]
  },
  {
   "cell_type": "code",
   "execution_count": 9,
   "id": "930b60d3",
   "metadata": {},
   "outputs": [
    {
     "data": {
      "text/plain": [
       "31"
      ]
     },
     "execution_count": 9,
     "metadata": {},
     "output_type": "execute_result"
    }
   ],
   "source": [
    "users.duplicated().sum()"
   ]
  },
  {
   "cell_type": "code",
   "execution_count": 10,
   "id": "67c60b60",
   "metadata": {},
   "outputs": [
    {
     "data": {
      "text/plain": [
       "0"
      ]
     },
     "execution_count": 10,
     "metadata": {},
     "output_type": "execute_result"
    }
   ],
   "source": [
    "rides.duplicated().sum()"
   ]
  },
  {
   "cell_type": "code",
   "execution_count": 11,
   "id": "2a53ab53",
   "metadata": {
    "scrolled": true
   },
   "outputs": [
    {
     "data": {
      "text/plain": [
       "0"
      ]
     },
     "execution_count": 11,
     "metadata": {},
     "output_type": "execute_result"
    }
   ],
   "source": [
    "subs.duplicated().sum()"
   ]
  },
  {
   "cell_type": "markdown",
   "id": "94adb28f",
   "metadata": {},
   "source": [
    "В датасете пользователей обнаружен 31 явный дубликат, удалим их"
   ]
  },
  {
   "cell_type": "code",
   "execution_count": 12,
   "id": "294b47a9",
   "metadata": {},
   "outputs": [],
   "source": [
    "users = users.drop_duplicates()"
   ]
  },
  {
   "cell_type": "markdown",
   "id": "afabeb08",
   "metadata": {},
   "source": [
    "**Заключение по предобработке данных**"
   ]
  },
  {
   "cell_type": "markdown",
   "id": "93f35a5a",
   "metadata": {},
   "source": [
    "Загружены три датасета `users`, `rides` и `subs`. Для датасета `rides` было выполнено преобразование типа данных для колонки `date` на стадии загрузки датасета, а также создана новая колонка `month`. Выявлены и исключены явные дублкаты в датасете `rides`\n",
    "\n",
    "Графики дистанции поездок, возраста и длительности поездки имеют вид нормального расспределения"
   ]
  },
  {
   "cell_type": "markdown",
   "id": "212593c7",
   "metadata": {},
   "source": [
    "## Исследовательский анализ данных"
   ]
  },
  {
   "cell_type": "markdown",
   "id": "1544902b",
   "metadata": {},
   "source": [
    "### Частота встречаемости городов"
   ]
  },
  {
   "cell_type": "markdown",
   "id": "b6f7ce7a",
   "metadata": {},
   "source": [
    "Построим биноминальный график для отображения "
   ]
  },
  {
   "cell_type": "code",
   "execution_count": 13,
   "id": "e3a4274c",
   "metadata": {},
   "outputs": [
    {
     "data": {
      "image/png": "[encoded data removed]",
      "text/plain": [
       "<Figure size 432x288 with 1 Axes>"
      ]
     },
     "metadata": {
      "needs_background": "light"
     },
     "output_type": "display_data"
    }
   ],
   "source": [
    "users['city'].value_counts(ascending=True).plot.bar();"
   ]
  },
  {
   "cell_type": "markdown",
   "id": "4d867751",
   "metadata": {},
   "source": [
    "Главным лидером по использованию сервиса, является город `Пятигорск`. Странно, почему не Москва, но на то могут быть несколько причин, компания основана в `Пеятигорске` или в `Москве` слишком высокая конкуренция?"
   ]
  },
  {
   "cell_type": "markdown",
   "id": "1d2b5673",
   "metadata": {},
   "source": [
    "### Cоотношение пользователей с подпиской и без подписки"
   ]
  },
  {
   "cell_type": "code",
   "execution_count": 14,
   "id": "c8636c54",
   "metadata": {
    "scrolled": true
   },
   "outputs": [
    {
     "data": {
      "image/png": "[encoded data removed]",
      "text/plain": [
       "<Figure size 360x360 with 1 Axes>"
      ]
     },
     "metadata": {},
     "output_type": "display_data"
    }
   ],
   "source": [
    "users['subscription_type'].value_counts(ascending=True).plot.pie(autopct='%1.1f%%', legend=True, figsize=(5,5));"
   ]
  },
  {
   "cell_type": "markdown",
   "id": "3b16ee44",
   "metadata": {},
   "source": [
    "Пользователей с подпиской на 8.8% меньше, чем без неё"
   ]
  },
  {
   "cell_type": "markdown",
   "id": "c09e9124",
   "metadata": {},
   "source": [
    "### Возраст пользователей"
   ]
  },
  {
   "cell_type": "code",
   "execution_count": 15,
   "id": "0a7a7f6d",
   "metadata": {},
   "outputs": [
    {
     "data": {
      "image/png": "[encoded data removed]",
      "text/plain": [
       "<Figure size 432x288 with 1 Axes>"
      ]
     },
     "metadata": {
      "needs_background": "light"
     },
     "output_type": "display_data"
    }
   ],
   "source": [
    "for _ in users.hist(column='age',bins=15, rwidth=0.9, grid=False)[0]:\n",
    "    _.set_title('Распределение возрастов пользователей')\n",
    "    _.set_xlabel('Возраст')\n",
    "    _.set_ylabel('Количество пользователей')"
   ]
  },
  {
   "cell_type": "markdown",
   "id": "c8be7c89",
   "metadata": {},
   "source": [
    "Основная целевая аудитория сервиса это люди от 18 до 33.  "
   ]
  },
  {
   "cell_type": "markdown",
   "id": "04719c93",
   "metadata": {},
   "source": [
    "### Расстояние, которое пользователь преодолел за одну поездку"
   ]
  },
  {
   "cell_type": "code",
   "execution_count": 16,
   "id": "bcea04b2",
   "metadata": {
    "scrolled": true
   },
   "outputs": [
    {
     "data": {
      "image/png": "[encoded data removed]",
      "text/plain": [
       "<Figure size 432x288 with 1 Axes>"
      ]
     },
     "metadata": {
      "needs_background": "light"
     },
     "output_type": "display_data"
    }
   ],
   "source": [
    "for _ in rides.hist(column='distance',bins=25, rwidth=0.9, grid=False)[0]:\n",
    "    _.set_title('Распределение дистанций поездок')\n",
    "    _.set_xlabel('Дистанция, м.')\n",
    "    _.set_ylabel('Количество поездок')"
   ]
  },
  {
   "cell_type": "code",
   "execution_count": 17,
   "id": "2af1f6ba",
   "metadata": {},
   "outputs": [
    {
     "data": {
      "text/plain": [
       "count    18068.000000\n",
       "mean      3070.659976\n",
       "std       1116.831209\n",
       "min          0.855683\n",
       "25%       2543.226360\n",
       "50%       3133.609994\n",
       "75%       3776.222735\n",
       "max       7211.007745\n",
       "Name: distance, dtype: float64"
      ]
     },
     "execution_count": 17,
     "metadata": {},
     "output_type": "execute_result"
    }
   ],
   "source": [
    "rides['distance'].describe()"
   ]
  },
  {
   "cell_type": "markdown",
   "id": "3dcf3f7c",
   "metadata": {},
   "source": [
    "В среднем пользователи проезжают 3070 метров за одну поездку"
   ]
  },
  {
   "cell_type": "markdown",
   "id": "7f4316ca",
   "metadata": {},
   "source": [
    "### Продолжительность поездок"
   ]
  },
  {
   "cell_type": "code",
   "execution_count": 18,
   "id": "a116388a",
   "metadata": {
    "scrolled": true
   },
   "outputs": [
    {
     "data": {
      "image/png": "[encoded data removed]",
      "text/plain": [
       "<Figure size 432x288 with 1 Axes>"
      ]
     },
     "metadata": {
      "needs_background": "light"
     },
     "output_type": "display_data"
    }
   ],
   "source": [
    "for _ in rides.hist(column='duration',bins=17, rwidth=0.9, grid=False)[0]:\n",
    "    _.set_title('Распределение длительностей поездок')\n",
    "    _.set_xlabel('Длительнось, мин.')\n",
    "    _.set_ylabel('Количество поездок')"
   ]
  },
  {
   "cell_type": "code",
   "execution_count": 19,
   "id": "46051877",
   "metadata": {},
   "outputs": [
    {
     "data": {
      "text/plain": [
       "count    18068.000000\n",
       "mean        17.805011\n",
       "std          6.091051\n",
       "min          0.500000\n",
       "25%         13.597563\n",
       "50%         17.678395\n",
       "75%         21.724800\n",
       "max         40.823963\n",
       "Name: duration, dtype: float64"
      ]
     },
     "execution_count": 19,
     "metadata": {},
     "output_type": "execute_result"
    }
   ],
   "source": [
    "rides['duration'].describe()"
   ]
  },
  {
   "cell_type": "markdown",
   "id": "3e92fe86",
   "metadata": {},
   "source": [
    "В среднем поездка длится 17-18 минут, также видны поездки продолжительностью 30 секунд, эти поездки нельзя назвать аномальными, в силу того, что человек мог передумать после того как активировал самокат. "
   ]
  },
  {
   "cell_type": "markdown",
   "id": "ff596491",
   "metadata": {},
   "source": [
    "**Вывод по исследовательскому анализу данных**"
   ]
  },
  {
   "cell_type": "markdown",
   "id": "63b358b0",
   "metadata": {},
   "source": [
    "Пятигорск, Екатеринбург и Ростов-на-дону занимают лидирующие позиции по количеству пользователей в сервисе. Число пользователей без подписки примерно на 20% больше чем с подпиской. Каждая поездка в среднем длится около 17 минут за которые в среднем преодолевается 3070 метров пути. Основоной целевой аудиторией являются граждане в возрасте от 18 до 33 лет."
   ]
  },
  {
   "cell_type": "markdown",
   "id": "4ef51331",
   "metadata": {},
   "source": [
    "## Объединение данных"
   ]
  },
  {
   "cell_type": "markdown",
   "id": "4812b7c7",
   "metadata": {},
   "source": [
    "Объединим данные о пользователях, поездках и подписках в один датафрейм `full_df`"
   ]
  },
  {
   "cell_type": "code",
   "execution_count": 20,
   "id": "4ab4757f",
   "metadata": {},
   "outputs": [],
   "source": [
    "full_df = users.merge(rides)\n",
    "full_df = full_df.merge(subs)"
   ]
  },
  {
   "cell_type": "code",
   "execution_count": 21,
   "id": "67ff6022",
   "metadata": {},
   "outputs": [
    {
     "data": {
      "text/html": [
       "<div>\n",
       "<style scoped>\n",
       "    .dataframe tbody tr th:only-of-type {\n",
       "        vertical-align: middle;\n",
       "    }\n",
       "\n",
       "    .dataframe tbody tr th {\n",
       "        vertical-align: top;\n",
       "    }\n",
       "\n",
       "    .dataframe thead th {\n",
       "        text-align: right;\n",
       "    }\n",
       "</style>\n",
       "<table border=\"1\" class=\"dataframe\">\n",
       "  <thead>\n",
       "    <tr style=\"text-align: right;\">\n",
       "      <th></th>\n",
       "      <th>user_id</th>\n",
       "      <th>name</th>\n",
       "      <th>age</th>\n",
       "      <th>city</th>\n",
       "      <th>subscription_type</th>\n",
       "      <th>distance</th>\n",
       "      <th>duration</th>\n",
       "      <th>date</th>\n",
       "      <th>months</th>\n",
       "      <th>minute_price</th>\n",
       "      <th>start_ride_price</th>\n",
       "      <th>subscription_fee</th>\n",
       "    </tr>\n",
       "  </thead>\n",
       "  <tbody>\n",
       "    <tr>\n",
       "      <th>0</th>\n",
       "      <td>1</td>\n",
       "      <td>Кира</td>\n",
       "      <td>22</td>\n",
       "      <td>Тюмень</td>\n",
       "      <td>ultra</td>\n",
       "      <td>4409.919140</td>\n",
       "      <td>25.599769</td>\n",
       "      <td>2021-01-01</td>\n",
       "      <td>1</td>\n",
       "      <td>6</td>\n",
       "      <td>0</td>\n",
       "      <td>199</td>\n",
       "    </tr>\n",
       "    <tr>\n",
       "      <th>1</th>\n",
       "      <td>1</td>\n",
       "      <td>Кира</td>\n",
       "      <td>22</td>\n",
       "      <td>Тюмень</td>\n",
       "      <td>ultra</td>\n",
       "      <td>2617.592153</td>\n",
       "      <td>15.816871</td>\n",
       "      <td>2021-01-18</td>\n",
       "      <td>1</td>\n",
       "      <td>6</td>\n",
       "      <td>0</td>\n",
       "      <td>199</td>\n",
       "    </tr>\n",
       "    <tr>\n",
       "      <th>2</th>\n",
       "      <td>1</td>\n",
       "      <td>Кира</td>\n",
       "      <td>22</td>\n",
       "      <td>Тюмень</td>\n",
       "      <td>ultra</td>\n",
       "      <td>754.159807</td>\n",
       "      <td>6.232113</td>\n",
       "      <td>2021-04-20</td>\n",
       "      <td>4</td>\n",
       "      <td>6</td>\n",
       "      <td>0</td>\n",
       "      <td>199</td>\n",
       "    </tr>\n",
       "    <tr>\n",
       "      <th>3</th>\n",
       "      <td>1</td>\n",
       "      <td>Кира</td>\n",
       "      <td>22</td>\n",
       "      <td>Тюмень</td>\n",
       "      <td>ultra</td>\n",
       "      <td>2694.783254</td>\n",
       "      <td>18.511000</td>\n",
       "      <td>2021-08-11</td>\n",
       "      <td>8</td>\n",
       "      <td>6</td>\n",
       "      <td>0</td>\n",
       "      <td>199</td>\n",
       "    </tr>\n",
       "    <tr>\n",
       "      <th>4</th>\n",
       "      <td>1</td>\n",
       "      <td>Кира</td>\n",
       "      <td>22</td>\n",
       "      <td>Тюмень</td>\n",
       "      <td>ultra</td>\n",
       "      <td>4028.687306</td>\n",
       "      <td>26.265803</td>\n",
       "      <td>2021-08-28</td>\n",
       "      <td>8</td>\n",
       "      <td>6</td>\n",
       "      <td>0</td>\n",
       "      <td>199</td>\n",
       "    </tr>\n",
       "    <tr>\n",
       "      <th>...</th>\n",
       "      <td>...</td>\n",
       "      <td>...</td>\n",
       "      <td>...</td>\n",
       "      <td>...</td>\n",
       "      <td>...</td>\n",
       "      <td>...</td>\n",
       "      <td>...</td>\n",
       "      <td>...</td>\n",
       "      <td>...</td>\n",
       "      <td>...</td>\n",
       "      <td>...</td>\n",
       "      <td>...</td>\n",
       "    </tr>\n",
       "    <tr>\n",
       "      <th>18063</th>\n",
       "      <td>1534</td>\n",
       "      <td>Альберт</td>\n",
       "      <td>25</td>\n",
       "      <td>Краснодар</td>\n",
       "      <td>free</td>\n",
       "      <td>3781.098080</td>\n",
       "      <td>19.822962</td>\n",
       "      <td>2021-11-04</td>\n",
       "      <td>11</td>\n",
       "      <td>8</td>\n",
       "      <td>50</td>\n",
       "      <td>0</td>\n",
       "    </tr>\n",
       "    <tr>\n",
       "      <th>18064</th>\n",
       "      <td>1534</td>\n",
       "      <td>Альберт</td>\n",
       "      <td>25</td>\n",
       "      <td>Краснодар</td>\n",
       "      <td>free</td>\n",
       "      <td>2840.423057</td>\n",
       "      <td>21.409799</td>\n",
       "      <td>2021-11-16</td>\n",
       "      <td>11</td>\n",
       "      <td>8</td>\n",
       "      <td>50</td>\n",
       "      <td>0</td>\n",
       "    </tr>\n",
       "    <tr>\n",
       "      <th>18065</th>\n",
       "      <td>1534</td>\n",
       "      <td>Альберт</td>\n",
       "      <td>25</td>\n",
       "      <td>Краснодар</td>\n",
       "      <td>free</td>\n",
       "      <td>3826.185507</td>\n",
       "      <td>18.435051</td>\n",
       "      <td>2021-11-18</td>\n",
       "      <td>11</td>\n",
       "      <td>8</td>\n",
       "      <td>50</td>\n",
       "      <td>0</td>\n",
       "    </tr>\n",
       "    <tr>\n",
       "      <th>18066</th>\n",
       "      <td>1534</td>\n",
       "      <td>Альберт</td>\n",
       "      <td>25</td>\n",
       "      <td>Краснодар</td>\n",
       "      <td>free</td>\n",
       "      <td>2902.308661</td>\n",
       "      <td>16.674362</td>\n",
       "      <td>2021-11-27</td>\n",
       "      <td>11</td>\n",
       "      <td>8</td>\n",
       "      <td>50</td>\n",
       "      <td>0</td>\n",
       "    </tr>\n",
       "    <tr>\n",
       "      <th>18067</th>\n",
       "      <td>1534</td>\n",
       "      <td>Альберт</td>\n",
       "      <td>25</td>\n",
       "      <td>Краснодар</td>\n",
       "      <td>free</td>\n",
       "      <td>2371.711192</td>\n",
       "      <td>15.893917</td>\n",
       "      <td>2021-12-29</td>\n",
       "      <td>12</td>\n",
       "      <td>8</td>\n",
       "      <td>50</td>\n",
       "      <td>0</td>\n",
       "    </tr>\n",
       "  </tbody>\n",
       "</table>\n",
       "<p>18068 rows × 12 columns</p>\n",
       "</div>"
      ],
      "text/plain": [
       "       user_id     name  age       city subscription_type     distance  \\\n",
       "0            1     Кира   22     Тюмень             ultra  4409.919140   \n",
       "1            1     Кира   22     Тюмень             ultra  2617.592153   \n",
       "2            1     Кира   22     Тюмень             ultra   754.159807   \n",
       "3            1     Кира   22     Тюмень             ultra  2694.783254   \n",
       "4            1     Кира   22     Тюмень             ultra  4028.687306   \n",
       "...        ...      ...  ...        ...               ...          ...   \n",
       "18063     1534  Альберт   25  Краснодар              free  3781.098080   \n",
       "18064     1534  Альберт   25  Краснодар              free  2840.423057   \n",
       "18065     1534  Альберт   25  Краснодар              free  3826.185507   \n",
       "18066     1534  Альберт   25  Краснодар              free  2902.308661   \n",
       "18067     1534  Альберт   25  Краснодар              free  2371.711192   \n",
       "\n",
       "        duration       date  months  minute_price  start_ride_price  \\\n",
       "0      25.599769 2021-01-01       1             6                 0   \n",
       "1      15.816871 2021-01-18       1             6                 0   \n",
       "2       6.232113 2021-04-20       4             6                 0   \n",
       "3      18.511000 2021-08-11       8             6                 0   \n",
       "4      26.265803 2021-08-28       8             6                 0   \n",
       "...          ...        ...     ...           ...               ...   \n",
       "18063  19.822962 2021-11-04      11             8                50   \n",
       "18064  21.409799 2021-11-16      11             8                50   \n",
       "18065  18.435051 2021-11-18      11             8                50   \n",
       "18066  16.674362 2021-11-27      11             8                50   \n",
       "18067  15.893917 2021-12-29      12             8                50   \n",
       "\n",
       "       subscription_fee  \n",
       "0                   199  \n",
       "1                   199  \n",
       "2                   199  \n",
       "3                   199  \n",
       "4                   199  \n",
       "...                 ...  \n",
       "18063                 0  \n",
       "18064                 0  \n",
       "18065                 0  \n",
       "18066                 0  \n",
       "18067                 0  \n",
       "\n",
       "[18068 rows x 12 columns]"
      ]
     },
     "execution_count": 21,
     "metadata": {},
     "output_type": "execute_result"
    }
   ],
   "source": [
    "full_df"
   ]
  },
  {
   "cell_type": "markdown",
   "id": "fcabea0b",
   "metadata": {},
   "source": [
    "### Датафрейм c данными о пользователях c подпиской"
   ]
  },
  {
   "cell_type": "code",
   "execution_count": 22,
   "id": "66759512",
   "metadata": {},
   "outputs": [],
   "source": [
    "df_subs = full_df.query('subscription_type == \"ultra\"')"
   ]
  },
  {
   "cell_type": "code",
   "execution_count": 23,
   "id": "b5471fd9",
   "metadata": {
    "scrolled": false
   },
   "outputs": [
    {
     "data": {
      "text/html": [
       "<div>\n",
       "<style scoped>\n",
       "    .dataframe tbody tr th:only-of-type {\n",
       "        vertical-align: middle;\n",
       "    }\n",
       "\n",
       "    .dataframe tbody tr th {\n",
       "        vertical-align: top;\n",
       "    }\n",
       "\n",
       "    .dataframe thead th {\n",
       "        text-align: right;\n",
       "    }\n",
       "</style>\n",
       "<table border=\"1\" class=\"dataframe\">\n",
       "  <thead>\n",
       "    <tr style=\"text-align: right;\">\n",
       "      <th></th>\n",
       "      <th>user_id</th>\n",
       "      <th>name</th>\n",
       "      <th>age</th>\n",
       "      <th>city</th>\n",
       "      <th>subscription_type</th>\n",
       "      <th>distance</th>\n",
       "      <th>duration</th>\n",
       "      <th>date</th>\n",
       "      <th>months</th>\n",
       "      <th>minute_price</th>\n",
       "      <th>start_ride_price</th>\n",
       "      <th>subscription_fee</th>\n",
       "    </tr>\n",
       "  </thead>\n",
       "  <tbody>\n",
       "    <tr>\n",
       "      <th>0</th>\n",
       "      <td>1</td>\n",
       "      <td>Кира</td>\n",
       "      <td>22</td>\n",
       "      <td>Тюмень</td>\n",
       "      <td>ultra</td>\n",
       "      <td>4409.919140</td>\n",
       "      <td>25.599769</td>\n",
       "      <td>2021-01-01</td>\n",
       "      <td>1</td>\n",
       "      <td>6</td>\n",
       "      <td>0</td>\n",
       "      <td>199</td>\n",
       "    </tr>\n",
       "    <tr>\n",
       "      <th>1</th>\n",
       "      <td>1</td>\n",
       "      <td>Кира</td>\n",
       "      <td>22</td>\n",
       "      <td>Тюмень</td>\n",
       "      <td>ultra</td>\n",
       "      <td>2617.592153</td>\n",
       "      <td>15.816871</td>\n",
       "      <td>2021-01-18</td>\n",
       "      <td>1</td>\n",
       "      <td>6</td>\n",
       "      <td>0</td>\n",
       "      <td>199</td>\n",
       "    </tr>\n",
       "    <tr>\n",
       "      <th>2</th>\n",
       "      <td>1</td>\n",
       "      <td>Кира</td>\n",
       "      <td>22</td>\n",
       "      <td>Тюмень</td>\n",
       "      <td>ultra</td>\n",
       "      <td>754.159807</td>\n",
       "      <td>6.232113</td>\n",
       "      <td>2021-04-20</td>\n",
       "      <td>4</td>\n",
       "      <td>6</td>\n",
       "      <td>0</td>\n",
       "      <td>199</td>\n",
       "    </tr>\n",
       "    <tr>\n",
       "      <th>3</th>\n",
       "      <td>1</td>\n",
       "      <td>Кира</td>\n",
       "      <td>22</td>\n",
       "      <td>Тюмень</td>\n",
       "      <td>ultra</td>\n",
       "      <td>2694.783254</td>\n",
       "      <td>18.511000</td>\n",
       "      <td>2021-08-11</td>\n",
       "      <td>8</td>\n",
       "      <td>6</td>\n",
       "      <td>0</td>\n",
       "      <td>199</td>\n",
       "    </tr>\n",
       "    <tr>\n",
       "      <th>4</th>\n",
       "      <td>1</td>\n",
       "      <td>Кира</td>\n",
       "      <td>22</td>\n",
       "      <td>Тюмень</td>\n",
       "      <td>ultra</td>\n",
       "      <td>4028.687306</td>\n",
       "      <td>26.265803</td>\n",
       "      <td>2021-08-28</td>\n",
       "      <td>8</td>\n",
       "      <td>6</td>\n",
       "      <td>0</td>\n",
       "      <td>199</td>\n",
       "    </tr>\n",
       "    <tr>\n",
       "      <th>...</th>\n",
       "      <td>...</td>\n",
       "      <td>...</td>\n",
       "      <td>...</td>\n",
       "      <td>...</td>\n",
       "      <td>...</td>\n",
       "      <td>...</td>\n",
       "      <td>...</td>\n",
       "      <td>...</td>\n",
       "      <td>...</td>\n",
       "      <td>...</td>\n",
       "      <td>...</td>\n",
       "      <td>...</td>\n",
       "    </tr>\n",
       "    <tr>\n",
       "      <th>6495</th>\n",
       "      <td>699</td>\n",
       "      <td>Оксана</td>\n",
       "      <td>22</td>\n",
       "      <td>Москва</td>\n",
       "      <td>ultra</td>\n",
       "      <td>3973.046497</td>\n",
       "      <td>24.671163</td>\n",
       "      <td>2021-08-29</td>\n",
       "      <td>8</td>\n",
       "      <td>6</td>\n",
       "      <td>0</td>\n",
       "      <td>199</td>\n",
       "    </tr>\n",
       "    <tr>\n",
       "      <th>6496</th>\n",
       "      <td>699</td>\n",
       "      <td>Оксана</td>\n",
       "      <td>22</td>\n",
       "      <td>Москва</td>\n",
       "      <td>ultra</td>\n",
       "      <td>3288.702563</td>\n",
       "      <td>15.892886</td>\n",
       "      <td>2021-09-12</td>\n",
       "      <td>9</td>\n",
       "      <td>6</td>\n",
       "      <td>0</td>\n",
       "      <td>199</td>\n",
       "    </tr>\n",
       "    <tr>\n",
       "      <th>6497</th>\n",
       "      <td>699</td>\n",
       "      <td>Оксана</td>\n",
       "      <td>22</td>\n",
       "      <td>Москва</td>\n",
       "      <td>ultra</td>\n",
       "      <td>3076.159348</td>\n",
       "      <td>14.389525</td>\n",
       "      <td>2021-09-26</td>\n",
       "      <td>9</td>\n",
       "      <td>6</td>\n",
       "      <td>0</td>\n",
       "      <td>199</td>\n",
       "    </tr>\n",
       "    <tr>\n",
       "      <th>6498</th>\n",
       "      <td>699</td>\n",
       "      <td>Оксана</td>\n",
       "      <td>22</td>\n",
       "      <td>Москва</td>\n",
       "      <td>ultra</td>\n",
       "      <td>4707.845501</td>\n",
       "      <td>15.839579</td>\n",
       "      <td>2021-10-17</td>\n",
       "      <td>10</td>\n",
       "      <td>6</td>\n",
       "      <td>0</td>\n",
       "      <td>199</td>\n",
       "    </tr>\n",
       "    <tr>\n",
       "      <th>6499</th>\n",
       "      <td>699</td>\n",
       "      <td>Оксана</td>\n",
       "      <td>22</td>\n",
       "      <td>Москва</td>\n",
       "      <td>ultra</td>\n",
       "      <td>3202.890770</td>\n",
       "      <td>25.217345</td>\n",
       "      <td>2021-12-03</td>\n",
       "      <td>12</td>\n",
       "      <td>6</td>\n",
       "      <td>0</td>\n",
       "      <td>199</td>\n",
       "    </tr>\n",
       "  </tbody>\n",
       "</table>\n",
       "<p>6500 rows × 12 columns</p>\n",
       "</div>"
      ],
      "text/plain": [
       "      user_id    name  age    city subscription_type     distance   duration  \\\n",
       "0           1    Кира   22  Тюмень             ultra  4409.919140  25.599769   \n",
       "1           1    Кира   22  Тюмень             ultra  2617.592153  15.816871   \n",
       "2           1    Кира   22  Тюмень             ultra   754.159807   6.232113   \n",
       "3           1    Кира   22  Тюмень             ultra  2694.783254  18.511000   \n",
       "4           1    Кира   22  Тюмень             ultra  4028.687306  26.265803   \n",
       "...       ...     ...  ...     ...               ...          ...        ...   \n",
       "6495      699  Оксана   22  Москва             ultra  3973.046497  24.671163   \n",
       "6496      699  Оксана   22  Москва             ultra  3288.702563  15.892886   \n",
       "6497      699  Оксана   22  Москва             ultra  3076.159348  14.389525   \n",
       "6498      699  Оксана   22  Москва             ultra  4707.845501  15.839579   \n",
       "6499      699  Оксана   22  Москва             ultra  3202.890770  25.217345   \n",
       "\n",
       "           date  months  minute_price  start_ride_price  subscription_fee  \n",
       "0    2021-01-01       1             6                 0               199  \n",
       "1    2021-01-18       1             6                 0               199  \n",
       "2    2021-04-20       4             6                 0               199  \n",
       "3    2021-08-11       8             6                 0               199  \n",
       "4    2021-08-28       8             6                 0               199  \n",
       "...         ...     ...           ...               ...               ...  \n",
       "6495 2021-08-29       8             6                 0               199  \n",
       "6496 2021-09-12       9             6                 0               199  \n",
       "6497 2021-09-26       9             6                 0               199  \n",
       "6498 2021-10-17      10             6                 0               199  \n",
       "6499 2021-12-03      12             6                 0               199  \n",
       "\n",
       "[6500 rows x 12 columns]"
      ]
     },
     "execution_count": 23,
     "metadata": {},
     "output_type": "execute_result"
    }
   ],
   "source": [
    "df_subs"
   ]
  },
  {
   "cell_type": "markdown",
   "id": "a1bc3f84",
   "metadata": {},
   "source": [
    "#### Расстояние и время поездки"
   ]
  },
  {
   "cell_type": "markdown",
   "id": "6e72cd74",
   "metadata": {},
   "source": [
    "**Расстояние**"
   ]
  },
  {
   "cell_type": "code",
   "execution_count": 24,
   "id": "d569d6e8",
   "metadata": {
    "scrolled": true
   },
   "outputs": [
    {
     "data": {
      "image/png": "[encoded data removed]",
      "text/plain": [
       "<Figure size 432x288 with 1 Axes>"
      ]
     },
     "metadata": {
      "needs_background": "light"
     },
     "output_type": "display_data"
    }
   ],
   "source": [
    "for _ in df_subs.hist(column='distance',bins=37, rwidth=0.9, grid=False)[0]:\n",
    "    _.set_title('Распределение дистанций поездок')\n",
    "    _.set_xlabel('Дистанция, м.')\n",
    "    _.set_ylabel('Количество поездок')"
   ]
  },
  {
   "cell_type": "code",
   "execution_count": 25,
   "id": "8bfcd1be",
   "metadata": {},
   "outputs": [
    {
     "data": {
      "text/plain": [
       "count    6500.000000\n",
       "mean     3115.445388\n",
       "std       836.895330\n",
       "min       244.210438\n",
       "25%      2785.444017\n",
       "50%      3148.637229\n",
       "75%      3560.574425\n",
       "max      5699.769662\n",
       "Name: distance, dtype: float64"
      ]
     },
     "execution_count": 25,
     "metadata": {},
     "output_type": "execute_result"
    }
   ],
   "source": [
    "df_subs['distance'].describe()"
   ]
  },
  {
   "cell_type": "markdown",
   "id": "137f3086",
   "metadata": {},
   "source": [
    "Среднее расстояние поездки состовляет 3115 метра, медиана 3148 метра."
   ]
  },
  {
   "cell_type": "markdown",
   "id": "d1f7666d",
   "metadata": {},
   "source": [
    "**Время поездки**"
   ]
  },
  {
   "cell_type": "code",
   "execution_count": 26,
   "id": "86c4e00a",
   "metadata": {
    "scrolled": true
   },
   "outputs": [
    {
     "data": {
      "image/png": "[encoded data removed]",
      "text/plain": [
       "<Figure size 432x288 with 1 Axes>"
      ]
     },
     "metadata": {
      "needs_background": "light"
     },
     "output_type": "display_data"
    }
   ],
   "source": [
    "for _ in df_subs.hist(column='duration',bins=25, rwidth=0.9, grid=False)[0]:\n",
    "    _.set_title('Распределение длительностей поездок')\n",
    "    _.set_xlabel('Длительнось, мин.')\n",
    "    _.set_ylabel('Количество поездок')"
   ]
  },
  {
   "cell_type": "code",
   "execution_count": 27,
   "id": "bfe4898e",
   "metadata": {},
   "outputs": [
    {
     "data": {
      "text/plain": [
       "count    6500.000000\n",
       "mean       18.541985\n",
       "std         5.572048\n",
       "min         3.760353\n",
       "25%        14.524654\n",
       "50%        18.178153\n",
       "75%        21.884129\n",
       "max        40.823963\n",
       "Name: duration, dtype: float64"
      ]
     },
     "execution_count": 27,
     "metadata": {},
     "output_type": "execute_result"
    }
   ],
   "source": [
    "df_subs['duration'].describe()"
   ]
  },
  {
   "cell_type": "markdown",
   "id": "5768966b",
   "metadata": {},
   "source": [
    "Среднее время поездки состовляет 18.5 минут, медиана 18.1 минута."
   ]
  },
  {
   "cell_type": "markdown",
   "id": "54a287f9",
   "metadata": {},
   "source": [
    "### Датафрейм c данными о пользователях без подписки"
   ]
  },
  {
   "cell_type": "code",
   "execution_count": 28,
   "id": "a0a2dae2",
   "metadata": {},
   "outputs": [],
   "source": [
    "df_free = full_df.query('subscription_type == \"free\"')"
   ]
  },
  {
   "cell_type": "code",
   "execution_count": 29,
   "id": "655afe3f",
   "metadata": {
    "scrolled": false
   },
   "outputs": [
    {
     "data": {
      "text/html": [
       "<div>\n",
       "<style scoped>\n",
       "    .dataframe tbody tr th:only-of-type {\n",
       "        vertical-align: middle;\n",
       "    }\n",
       "\n",
       "    .dataframe tbody tr th {\n",
       "        vertical-align: top;\n",
       "    }\n",
       "\n",
       "    .dataframe thead th {\n",
       "        text-align: right;\n",
       "    }\n",
       "</style>\n",
       "<table border=\"1\" class=\"dataframe\">\n",
       "  <thead>\n",
       "    <tr style=\"text-align: right;\">\n",
       "      <th></th>\n",
       "      <th>user_id</th>\n",
       "      <th>name</th>\n",
       "      <th>age</th>\n",
       "      <th>city</th>\n",
       "      <th>subscription_type</th>\n",
       "      <th>distance</th>\n",
       "      <th>duration</th>\n",
       "      <th>date</th>\n",
       "      <th>months</th>\n",
       "      <th>minute_price</th>\n",
       "      <th>start_ride_price</th>\n",
       "      <th>subscription_fee</th>\n",
       "    </tr>\n",
       "  </thead>\n",
       "  <tbody>\n",
       "    <tr>\n",
       "      <th>6500</th>\n",
       "      <td>700</td>\n",
       "      <td>Айдар</td>\n",
       "      <td>22</td>\n",
       "      <td>Омск</td>\n",
       "      <td>free</td>\n",
       "      <td>2515.690719</td>\n",
       "      <td>14.944286</td>\n",
       "      <td>2021-01-02</td>\n",
       "      <td>1</td>\n",
       "      <td>8</td>\n",
       "      <td>50</td>\n",
       "      <td>0</td>\n",
       "    </tr>\n",
       "    <tr>\n",
       "      <th>6501</th>\n",
       "      <td>700</td>\n",
       "      <td>Айдар</td>\n",
       "      <td>22</td>\n",
       "      <td>Омск</td>\n",
       "      <td>free</td>\n",
       "      <td>846.932642</td>\n",
       "      <td>16.234663</td>\n",
       "      <td>2021-02-01</td>\n",
       "      <td>2</td>\n",
       "      <td>8</td>\n",
       "      <td>50</td>\n",
       "      <td>0</td>\n",
       "    </tr>\n",
       "    <tr>\n",
       "      <th>6502</th>\n",
       "      <td>700</td>\n",
       "      <td>Айдар</td>\n",
       "      <td>22</td>\n",
       "      <td>Омск</td>\n",
       "      <td>free</td>\n",
       "      <td>4004.434142</td>\n",
       "      <td>20.016628</td>\n",
       "      <td>2021-02-04</td>\n",
       "      <td>2</td>\n",
       "      <td>8</td>\n",
       "      <td>50</td>\n",
       "      <td>0</td>\n",
       "    </tr>\n",
       "    <tr>\n",
       "      <th>6503</th>\n",
       "      <td>700</td>\n",
       "      <td>Айдар</td>\n",
       "      <td>22</td>\n",
       "      <td>Омск</td>\n",
       "      <td>free</td>\n",
       "      <td>1205.911290</td>\n",
       "      <td>9.782872</td>\n",
       "      <td>2021-02-10</td>\n",
       "      <td>2</td>\n",
       "      <td>8</td>\n",
       "      <td>50</td>\n",
       "      <td>0</td>\n",
       "    </tr>\n",
       "    <tr>\n",
       "      <th>6504</th>\n",
       "      <td>700</td>\n",
       "      <td>Айдар</td>\n",
       "      <td>22</td>\n",
       "      <td>Омск</td>\n",
       "      <td>free</td>\n",
       "      <td>3047.379435</td>\n",
       "      <td>17.427673</td>\n",
       "      <td>2021-02-14</td>\n",
       "      <td>2</td>\n",
       "      <td>8</td>\n",
       "      <td>50</td>\n",
       "      <td>0</td>\n",
       "    </tr>\n",
       "    <tr>\n",
       "      <th>...</th>\n",
       "      <td>...</td>\n",
       "      <td>...</td>\n",
       "      <td>...</td>\n",
       "      <td>...</td>\n",
       "      <td>...</td>\n",
       "      <td>...</td>\n",
       "      <td>...</td>\n",
       "      <td>...</td>\n",
       "      <td>...</td>\n",
       "      <td>...</td>\n",
       "      <td>...</td>\n",
       "      <td>...</td>\n",
       "    </tr>\n",
       "    <tr>\n",
       "      <th>18063</th>\n",
       "      <td>1534</td>\n",
       "      <td>Альберт</td>\n",
       "      <td>25</td>\n",
       "      <td>Краснодар</td>\n",
       "      <td>free</td>\n",
       "      <td>3781.098080</td>\n",
       "      <td>19.822962</td>\n",
       "      <td>2021-11-04</td>\n",
       "      <td>11</td>\n",
       "      <td>8</td>\n",
       "      <td>50</td>\n",
       "      <td>0</td>\n",
       "    </tr>\n",
       "    <tr>\n",
       "      <th>18064</th>\n",
       "      <td>1534</td>\n",
       "      <td>Альберт</td>\n",
       "      <td>25</td>\n",
       "      <td>Краснодар</td>\n",
       "      <td>free</td>\n",
       "      <td>2840.423057</td>\n",
       "      <td>21.409799</td>\n",
       "      <td>2021-11-16</td>\n",
       "      <td>11</td>\n",
       "      <td>8</td>\n",
       "      <td>50</td>\n",
       "      <td>0</td>\n",
       "    </tr>\n",
       "    <tr>\n",
       "      <th>18065</th>\n",
       "      <td>1534</td>\n",
       "      <td>Альберт</td>\n",
       "      <td>25</td>\n",
       "      <td>Краснодар</td>\n",
       "      <td>free</td>\n",
       "      <td>3826.185507</td>\n",
       "      <td>18.435051</td>\n",
       "      <td>2021-11-18</td>\n",
       "      <td>11</td>\n",
       "      <td>8</td>\n",
       "      <td>50</td>\n",
       "      <td>0</td>\n",
       "    </tr>\n",
       "    <tr>\n",
       "      <th>18066</th>\n",
       "      <td>1534</td>\n",
       "      <td>Альберт</td>\n",
       "      <td>25</td>\n",
       "      <td>Краснодар</td>\n",
       "      <td>free</td>\n",
       "      <td>2902.308661</td>\n",
       "      <td>16.674362</td>\n",
       "      <td>2021-11-27</td>\n",
       "      <td>11</td>\n",
       "      <td>8</td>\n",
       "      <td>50</td>\n",
       "      <td>0</td>\n",
       "    </tr>\n",
       "    <tr>\n",
       "      <th>18067</th>\n",
       "      <td>1534</td>\n",
       "      <td>Альберт</td>\n",
       "      <td>25</td>\n",
       "      <td>Краснодар</td>\n",
       "      <td>free</td>\n",
       "      <td>2371.711192</td>\n",
       "      <td>15.893917</td>\n",
       "      <td>2021-12-29</td>\n",
       "      <td>12</td>\n",
       "      <td>8</td>\n",
       "      <td>50</td>\n",
       "      <td>0</td>\n",
       "    </tr>\n",
       "  </tbody>\n",
       "</table>\n",
       "<p>11568 rows × 12 columns</p>\n",
       "</div>"
      ],
      "text/plain": [
       "       user_id     name  age       city subscription_type     distance  \\\n",
       "6500       700    Айдар   22       Омск              free  2515.690719   \n",
       "6501       700    Айдар   22       Омск              free   846.932642   \n",
       "6502       700    Айдар   22       Омск              free  4004.434142   \n",
       "6503       700    Айдар   22       Омск              free  1205.911290   \n",
       "6504       700    Айдар   22       Омск              free  3047.379435   \n",
       "...        ...      ...  ...        ...               ...          ...   \n",
       "18063     1534  Альберт   25  Краснодар              free  3781.098080   \n",
       "18064     1534  Альберт   25  Краснодар              free  2840.423057   \n",
       "18065     1534  Альберт   25  Краснодар              free  3826.185507   \n",
       "18066     1534  Альберт   25  Краснодар              free  2902.308661   \n",
       "18067     1534  Альберт   25  Краснодар              free  2371.711192   \n",
       "\n",
       "        duration       date  months  minute_price  start_ride_price  \\\n",
       "6500   14.944286 2021-01-02       1             8                50   \n",
       "6501   16.234663 2021-02-01       2             8                50   \n",
       "6502   20.016628 2021-02-04       2             8                50   \n",
       "6503    9.782872 2021-02-10       2             8                50   \n",
       "6504   17.427673 2021-02-14       2             8                50   \n",
       "...          ...        ...     ...           ...               ...   \n",
       "18063  19.822962 2021-11-04      11             8                50   \n",
       "18064  21.409799 2021-11-16      11             8                50   \n",
       "18065  18.435051 2021-11-18      11             8                50   \n",
       "18066  16.674362 2021-11-27      11             8                50   \n",
       "18067  15.893917 2021-12-29      12             8                50   \n",
       "\n",
       "       subscription_fee  \n",
       "6500                  0  \n",
       "6501                  0  \n",
       "6502                  0  \n",
       "6503                  0  \n",
       "6504                  0  \n",
       "...                 ...  \n",
       "18063                 0  \n",
       "18064                 0  \n",
       "18065                 0  \n",
       "18066                 0  \n",
       "18067                 0  \n",
       "\n",
       "[11568 rows x 12 columns]"
      ]
     },
     "execution_count": 29,
     "metadata": {},
     "output_type": "execute_result"
    }
   ],
   "source": [
    "df_free"
   ]
  },
  {
   "cell_type": "markdown",
   "id": "ad8bd43d",
   "metadata": {},
   "source": [
    "#### Расстояние и время поездки"
   ]
  },
  {
   "cell_type": "markdown",
   "id": "290ca7a7",
   "metadata": {},
   "source": [
    "**Расстояние**"
   ]
  },
  {
   "cell_type": "code",
   "execution_count": 30,
   "id": "fd5754b5",
   "metadata": {
    "scrolled": false
   },
   "outputs": [
    {
     "data": {
      "image/png": "[encoded data removed]",
      "text/plain": [
       "<Figure size 432x288 with 1 Axes>"
      ]
     },
     "metadata": {
      "needs_background": "light"
     },
     "output_type": "display_data"
    }
   ],
   "source": [
    "for _ in df_free.hist(column='distance',bins=27, rwidth=0.9, grid=False)[0]:\n",
    "    _.set_title('Распределение дистанций поездок')\n",
    "    _.set_xlabel('Дистанция, м.')\n",
    "    _.set_ylabel('Количество поездок')"
   ]
  },
  {
   "cell_type": "code",
   "execution_count": 31,
   "id": "3ca6ca77",
   "metadata": {},
   "outputs": [
    {
     "data": {
      "text/plain": [
       "count    11568.000000\n",
       "mean      3045.495282\n",
       "std       1246.173806\n",
       "min          0.855683\n",
       "25%       2366.562689\n",
       "50%       3114.648465\n",
       "75%       3905.697894\n",
       "max       7211.007745\n",
       "Name: distance, dtype: float64"
      ]
     },
     "execution_count": 31,
     "metadata": {},
     "output_type": "execute_result"
    }
   ],
   "source": [
    "df_free['distance'].describe()"
   ]
  },
  {
   "cell_type": "markdown",
   "id": "9bf18d60",
   "metadata": {},
   "source": [
    "Среднее расстояние поездки состовляет 3045 метра, медиана 3114 метра."
   ]
  },
  {
   "cell_type": "markdown",
   "id": "6ea7906e",
   "metadata": {},
   "source": [
    "**Время поездки**"
   ]
  },
  {
   "cell_type": "code",
   "execution_count": 32,
   "id": "90730aef",
   "metadata": {
    "scrolled": true
   },
   "outputs": [
    {
     "data": {
      "image/png": "[encoded data removed]",
      "text/plain": [
       "<Figure size 432x288 with 1 Axes>"
      ]
     },
     "metadata": {
      "needs_background": "light"
     },
     "output_type": "display_data"
    }
   ],
   "source": [
    "for _ in df_free.hist(column='duration',bins=25, rwidth=0.9, grid=False)[0]:\n",
    "    _.set_title('Распределение длительностей поездок')\n",
    "    _.set_xlabel('Длительнось, мин.')\n",
    "    _.set_ylabel('Количество поездок')"
   ]
  },
  {
   "cell_type": "code",
   "execution_count": 33,
   "id": "a3ad2442",
   "metadata": {},
   "outputs": [
    {
     "data": {
      "text/plain": [
       "count    11568.000000\n",
       "mean        17.390909\n",
       "std          6.326803\n",
       "min          0.500000\n",
       "25%         12.958437\n",
       "50%         17.326890\n",
       "75%         21.594071\n",
       "max         34.948498\n",
       "Name: duration, dtype: float64"
      ]
     },
     "execution_count": 33,
     "metadata": {},
     "output_type": "execute_result"
    }
   ],
   "source": [
    "df_free['duration'].describe()"
   ]
  },
  {
   "cell_type": "markdown",
   "id": "6885c9f0",
   "metadata": {},
   "source": [
    "Среднее время поездки состовляет 17.3 минуты, медиана 17.3 минуты."
   ]
  },
  {
   "cell_type": "markdown",
   "id": "402d620f",
   "metadata": {},
   "source": [
    "## Подсчёт выручки"
   ]
  },
  {
   "cell_type": "markdown",
   "id": "43e73122",
   "metadata": {},
   "source": [
    "Создадим датафрейм с агрегированными данными о поездках на основе датафрейма с объединёнными данными из шага 4\n",
    "\n",
    "Вычислим для каждого пользователя за каждый месяц:\n",
    "\n",
    "- суммарное расстояние;\n",
    "- количество поездок;\n",
    "- суммарное время."
   ]
  },
  {
   "cell_type": "markdown",
   "id": "ed6fbe87",
   "metadata": {},
   "source": [
    "**Агрегированный датафрейм**"
   ]
  },
  {
   "cell_type": "markdown",
   "id": "ca4ffae0",
   "metadata": {},
   "source": [
    "Напишем цикл по созданию агрегированного датафрема удовлетворяющего поставленным задачам"
   ]
  },
  {
   "cell_type": "code",
   "execution_count": 34,
   "id": "fe812b5b",
   "metadata": {},
   "outputs": [],
   "source": [
    "# Для каждого пользователя\n",
    "for users in full_df['user_id'].unique(): \n",
    "    # получим записи всех поездок.\n",
    "    user = full_df.query('user_id == @users')\n",
    "    # Для каждого месяца в который пользователь совершал поездку\n",
    "    for m in user['months'].unique(): \n",
    "        # найдём количество записей в датафрейме,\n",
    "        drop_i = user.loc[user['months'] == m].index \n",
    "        # вычислим и запишем количество поездок\n",
    "        full_df.loc[full_df.index == drop_i[0],['drive_count']] \\\n",
    "        = len(user.loc[user['months'] == m]) \n",
    "        # заменим значения для первой записи суммами для расстояния и времени поездки\n",
    "        full_df.loc[full_df.index == drop_i[0],['distance', 'duration']] \\\n",
    "        = [i for i in user.query('months == @m')[['distance', 'duration']].sum()] \n",
    "        # удалим все записи кроме первой за выбранный месяц\n",
    "        full_df = full_df.drop(drop_i[1:]) "
   ]
  },
  {
   "cell_type": "code",
   "execution_count": 35,
   "id": "87022571",
   "metadata": {},
   "outputs": [
    {
     "data": {
      "text/html": [
       "<div>\n",
       "<style scoped>\n",
       "    .dataframe tbody tr th:only-of-type {\n",
       "        vertical-align: middle;\n",
       "    }\n",
       "\n",
       "    .dataframe tbody tr th {\n",
       "        vertical-align: top;\n",
       "    }\n",
       "\n",
       "    .dataframe thead th {\n",
       "        text-align: right;\n",
       "    }\n",
       "</style>\n",
       "<table border=\"1\" class=\"dataframe\">\n",
       "  <thead>\n",
       "    <tr style=\"text-align: right;\">\n",
       "      <th></th>\n",
       "      <th>user_id</th>\n",
       "      <th>name</th>\n",
       "      <th>age</th>\n",
       "      <th>city</th>\n",
       "      <th>subscription_type</th>\n",
       "      <th>distance</th>\n",
       "      <th>duration</th>\n",
       "      <th>date</th>\n",
       "      <th>months</th>\n",
       "      <th>minute_price</th>\n",
       "      <th>start_ride_price</th>\n",
       "      <th>subscription_fee</th>\n",
       "      <th>drive_count</th>\n",
       "    </tr>\n",
       "  </thead>\n",
       "  <tbody>\n",
       "    <tr>\n",
       "      <th>0</th>\n",
       "      <td>1</td>\n",
       "      <td>Кира</td>\n",
       "      <td>22</td>\n",
       "      <td>Тюмень</td>\n",
       "      <td>ultra</td>\n",
       "      <td>7027.511294</td>\n",
       "      <td>41.416640</td>\n",
       "      <td>2021-01-01</td>\n",
       "      <td>1</td>\n",
       "      <td>6</td>\n",
       "      <td>0</td>\n",
       "      <td>199</td>\n",
       "      <td>2.0</td>\n",
       "    </tr>\n",
       "    <tr>\n",
       "      <th>1</th>\n",
       "      <td>1</td>\n",
       "      <td>Кира</td>\n",
       "      <td>22</td>\n",
       "      <td>Тюмень</td>\n",
       "      <td>ultra</td>\n",
       "      <td>754.159807</td>\n",
       "      <td>6.232113</td>\n",
       "      <td>2021-04-20</td>\n",
       "      <td>4</td>\n",
       "      <td>6</td>\n",
       "      <td>0</td>\n",
       "      <td>199</td>\n",
       "      <td>1.0</td>\n",
       "    </tr>\n",
       "    <tr>\n",
       "      <th>2</th>\n",
       "      <td>1</td>\n",
       "      <td>Кира</td>\n",
       "      <td>22</td>\n",
       "      <td>Тюмень</td>\n",
       "      <td>ultra</td>\n",
       "      <td>6723.470560</td>\n",
       "      <td>44.776802</td>\n",
       "      <td>2021-08-11</td>\n",
       "      <td>8</td>\n",
       "      <td>6</td>\n",
       "      <td>0</td>\n",
       "      <td>199</td>\n",
       "      <td>2.0</td>\n",
       "    </tr>\n",
       "    <tr>\n",
       "      <th>3</th>\n",
       "      <td>1</td>\n",
       "      <td>Кира</td>\n",
       "      <td>22</td>\n",
       "      <td>Тюмень</td>\n",
       "      <td>ultra</td>\n",
       "      <td>5809.911100</td>\n",
       "      <td>31.578017</td>\n",
       "      <td>2021-10-09</td>\n",
       "      <td>10</td>\n",
       "      <td>6</td>\n",
       "      <td>0</td>\n",
       "      <td>199</td>\n",
       "      <td>2.0</td>\n",
       "    </tr>\n",
       "    <tr>\n",
       "      <th>4</th>\n",
       "      <td>1</td>\n",
       "      <td>Кира</td>\n",
       "      <td>22</td>\n",
       "      <td>Тюмень</td>\n",
       "      <td>ultra</td>\n",
       "      <td>7003.499363</td>\n",
       "      <td>53.397424</td>\n",
       "      <td>2021-11-06</td>\n",
       "      <td>11</td>\n",
       "      <td>6</td>\n",
       "      <td>0</td>\n",
       "      <td>199</td>\n",
       "      <td>3.0</td>\n",
       "    </tr>\n",
       "    <tr>\n",
       "      <th>...</th>\n",
       "      <td>...</td>\n",
       "      <td>...</td>\n",
       "      <td>...</td>\n",
       "      <td>...</td>\n",
       "      <td>...</td>\n",
       "      <td>...</td>\n",
       "      <td>...</td>\n",
       "      <td>...</td>\n",
       "      <td>...</td>\n",
       "      <td>...</td>\n",
       "      <td>...</td>\n",
       "      <td>...</td>\n",
       "      <td>...</td>\n",
       "    </tr>\n",
       "    <tr>\n",
       "      <th>11326</th>\n",
       "      <td>1534</td>\n",
       "      <td>Альберт</td>\n",
       "      <td>25</td>\n",
       "      <td>Краснодар</td>\n",
       "      <td>free</td>\n",
       "      <td>3409.468534</td>\n",
       "      <td>24.812678</td>\n",
       "      <td>2021-06-11</td>\n",
       "      <td>6</td>\n",
       "      <td>8</td>\n",
       "      <td>50</td>\n",
       "      <td>0</td>\n",
       "      <td>2.0</td>\n",
       "    </tr>\n",
       "    <tr>\n",
       "      <th>11327</th>\n",
       "      <td>1534</td>\n",
       "      <td>Альберт</td>\n",
       "      <td>25</td>\n",
       "      <td>Краснодар</td>\n",
       "      <td>free</td>\n",
       "      <td>7622.453034</td>\n",
       "      <td>47.205960</td>\n",
       "      <td>2021-08-08</td>\n",
       "      <td>8</td>\n",
       "      <td>8</td>\n",
       "      <td>50</td>\n",
       "      <td>0</td>\n",
       "      <td>2.0</td>\n",
       "    </tr>\n",
       "    <tr>\n",
       "      <th>11328</th>\n",
       "      <td>1534</td>\n",
       "      <td>Альберт</td>\n",
       "      <td>25</td>\n",
       "      <td>Краснодар</td>\n",
       "      <td>free</td>\n",
       "      <td>4928.173852</td>\n",
       "      <td>22.560373</td>\n",
       "      <td>2021-09-13</td>\n",
       "      <td>9</td>\n",
       "      <td>8</td>\n",
       "      <td>50</td>\n",
       "      <td>0</td>\n",
       "      <td>1.0</td>\n",
       "    </tr>\n",
       "    <tr>\n",
       "      <th>11329</th>\n",
       "      <td>1534</td>\n",
       "      <td>Альберт</td>\n",
       "      <td>25</td>\n",
       "      <td>Краснодар</td>\n",
       "      <td>free</td>\n",
       "      <td>13350.015305</td>\n",
       "      <td>76.342174</td>\n",
       "      <td>2021-11-04</td>\n",
       "      <td>11</td>\n",
       "      <td>8</td>\n",
       "      <td>50</td>\n",
       "      <td>0</td>\n",
       "      <td>4.0</td>\n",
       "    </tr>\n",
       "    <tr>\n",
       "      <th>11330</th>\n",
       "      <td>1534</td>\n",
       "      <td>Альберт</td>\n",
       "      <td>25</td>\n",
       "      <td>Краснодар</td>\n",
       "      <td>free</td>\n",
       "      <td>2371.711192</td>\n",
       "      <td>15.893917</td>\n",
       "      <td>2021-12-29</td>\n",
       "      <td>12</td>\n",
       "      <td>8</td>\n",
       "      <td>50</td>\n",
       "      <td>0</td>\n",
       "      <td>1.0</td>\n",
       "    </tr>\n",
       "  </tbody>\n",
       "</table>\n",
       "<p>11331 rows × 13 columns</p>\n",
       "</div>"
      ],
      "text/plain": [
       "       user_id     name  age       city subscription_type      distance  \\\n",
       "0            1     Кира   22     Тюмень             ultra   7027.511294   \n",
       "1            1     Кира   22     Тюмень             ultra    754.159807   \n",
       "2            1     Кира   22     Тюмень             ultra   6723.470560   \n",
       "3            1     Кира   22     Тюмень             ultra   5809.911100   \n",
       "4            1     Кира   22     Тюмень             ultra   7003.499363   \n",
       "...        ...      ...  ...        ...               ...           ...   \n",
       "11326     1534  Альберт   25  Краснодар              free   3409.468534   \n",
       "11327     1534  Альберт   25  Краснодар              free   7622.453034   \n",
       "11328     1534  Альберт   25  Краснодар              free   4928.173852   \n",
       "11329     1534  Альберт   25  Краснодар              free  13350.015305   \n",
       "11330     1534  Альберт   25  Краснодар              free   2371.711192   \n",
       "\n",
       "        duration       date  months  minute_price  start_ride_price  \\\n",
       "0      41.416640 2021-01-01       1             6                 0   \n",
       "1       6.232113 2021-04-20       4             6                 0   \n",
       "2      44.776802 2021-08-11       8             6                 0   \n",
       "3      31.578017 2021-10-09      10             6                 0   \n",
       "4      53.397424 2021-11-06      11             6                 0   \n",
       "...          ...        ...     ...           ...               ...   \n",
       "11326  24.812678 2021-06-11       6             8                50   \n",
       "11327  47.205960 2021-08-08       8             8                50   \n",
       "11328  22.560373 2021-09-13       9             8                50   \n",
       "11329  76.342174 2021-11-04      11             8                50   \n",
       "11330  15.893917 2021-12-29      12             8                50   \n",
       "\n",
       "       subscription_fee  drive_count  \n",
       "0                   199          2.0  \n",
       "1                   199          1.0  \n",
       "2                   199          2.0  \n",
       "3                   199          2.0  \n",
       "4                   199          3.0  \n",
       "...                 ...          ...  \n",
       "11326                 0          2.0  \n",
       "11327                 0          2.0  \n",
       "11328                 0          1.0  \n",
       "11329                 0          4.0  \n",
       "11330                 0          1.0  \n",
       "\n",
       "[11331 rows x 13 columns]"
      ]
     },
     "execution_count": 35,
     "metadata": {},
     "output_type": "execute_result"
    }
   ],
   "source": [
    "full_df.reset_index(drop=True)"
   ]
  },
  {
   "cell_type": "markdown",
   "id": "f43359b0",
   "metadata": {},
   "source": [
    "**Прибыль в месяц**"
   ]
  },
  {
   "cell_type": "markdown",
   "id": "892931a1",
   "metadata": {},
   "source": [
    "Напишим функцию для вычисления ежимесячной выручки. Формула: `фремя поездки (округлённое вверх)` * `стоимость минуты` + `стоимость старта` + `стоимость подписки`"
   ]
  },
  {
   "cell_type": "code",
   "execution_count": 36,
   "id": "c79b5b14",
   "metadata": {},
   "outputs": [],
   "source": [
    "def bill_month(row):\n",
    "    return np.ceil(row['duration']) * row['minute_price'] + \\\n",
    "            + row['start_ride_price'] + row['subscription_fee']"
   ]
  },
  {
   "cell_type": "code",
   "execution_count": 37,
   "id": "ce1309b4",
   "metadata": {},
   "outputs": [],
   "source": [
    "full_df['bill_per_month'] = full_df.apply(bill_month, axis=1)"
   ]
  },
  {
   "cell_type": "code",
   "execution_count": 38,
   "id": "e2a94721",
   "metadata": {},
   "outputs": [
    {
     "data": {
      "text/html": [
       "<div>\n",
       "<style scoped>\n",
       "    .dataframe tbody tr th:only-of-type {\n",
       "        vertical-align: middle;\n",
       "    }\n",
       "\n",
       "    .dataframe tbody tr th {\n",
       "        vertical-align: top;\n",
       "    }\n",
       "\n",
       "    .dataframe thead th {\n",
       "        text-align: right;\n",
       "    }\n",
       "</style>\n",
       "<table border=\"1\" class=\"dataframe\">\n",
       "  <thead>\n",
       "    <tr style=\"text-align: right;\">\n",
       "      <th></th>\n",
       "      <th>user_id</th>\n",
       "      <th>name</th>\n",
       "      <th>age</th>\n",
       "      <th>city</th>\n",
       "      <th>subscription_type</th>\n",
       "      <th>distance</th>\n",
       "      <th>duration</th>\n",
       "      <th>date</th>\n",
       "      <th>months</th>\n",
       "      <th>minute_price</th>\n",
       "      <th>start_ride_price</th>\n",
       "      <th>subscription_fee</th>\n",
       "      <th>drive_count</th>\n",
       "      <th>bill_per_month</th>\n",
       "    </tr>\n",
       "  </thead>\n",
       "  <tbody>\n",
       "    <tr>\n",
       "      <th>0</th>\n",
       "      <td>1</td>\n",
       "      <td>Кира</td>\n",
       "      <td>22</td>\n",
       "      <td>Тюмень</td>\n",
       "      <td>ultra</td>\n",
       "      <td>7027.511294</td>\n",
       "      <td>41.416640</td>\n",
       "      <td>2021-01-01</td>\n",
       "      <td>1</td>\n",
       "      <td>6</td>\n",
       "      <td>0</td>\n",
       "      <td>199</td>\n",
       "      <td>2.0</td>\n",
       "      <td>451.0</td>\n",
       "    </tr>\n",
       "    <tr>\n",
       "      <th>2</th>\n",
       "      <td>1</td>\n",
       "      <td>Кира</td>\n",
       "      <td>22</td>\n",
       "      <td>Тюмень</td>\n",
       "      <td>ultra</td>\n",
       "      <td>754.159807</td>\n",
       "      <td>6.232113</td>\n",
       "      <td>2021-04-20</td>\n",
       "      <td>4</td>\n",
       "      <td>6</td>\n",
       "      <td>0</td>\n",
       "      <td>199</td>\n",
       "      <td>1.0</td>\n",
       "      <td>241.0</td>\n",
       "    </tr>\n",
       "    <tr>\n",
       "      <th>3</th>\n",
       "      <td>1</td>\n",
       "      <td>Кира</td>\n",
       "      <td>22</td>\n",
       "      <td>Тюмень</td>\n",
       "      <td>ultra</td>\n",
       "      <td>6723.470560</td>\n",
       "      <td>44.776802</td>\n",
       "      <td>2021-08-11</td>\n",
       "      <td>8</td>\n",
       "      <td>6</td>\n",
       "      <td>0</td>\n",
       "      <td>199</td>\n",
       "      <td>2.0</td>\n",
       "      <td>469.0</td>\n",
       "    </tr>\n",
       "    <tr>\n",
       "      <th>5</th>\n",
       "      <td>1</td>\n",
       "      <td>Кира</td>\n",
       "      <td>22</td>\n",
       "      <td>Тюмень</td>\n",
       "      <td>ultra</td>\n",
       "      <td>5809.911100</td>\n",
       "      <td>31.578017</td>\n",
       "      <td>2021-10-09</td>\n",
       "      <td>10</td>\n",
       "      <td>6</td>\n",
       "      <td>0</td>\n",
       "      <td>199</td>\n",
       "      <td>2.0</td>\n",
       "      <td>391.0</td>\n",
       "    </tr>\n",
       "    <tr>\n",
       "      <th>7</th>\n",
       "      <td>1</td>\n",
       "      <td>Кира</td>\n",
       "      <td>22</td>\n",
       "      <td>Тюмень</td>\n",
       "      <td>ultra</td>\n",
       "      <td>7003.499363</td>\n",
       "      <td>53.397424</td>\n",
       "      <td>2021-11-06</td>\n",
       "      <td>11</td>\n",
       "      <td>6</td>\n",
       "      <td>0</td>\n",
       "      <td>199</td>\n",
       "      <td>3.0</td>\n",
       "      <td>523.0</td>\n",
       "    </tr>\n",
       "  </tbody>\n",
       "</table>\n",
       "</div>"
      ],
      "text/plain": [
       "   user_id  name  age    city subscription_type     distance   duration  \\\n",
       "0        1  Кира   22  Тюмень             ultra  7027.511294  41.416640   \n",
       "2        1  Кира   22  Тюмень             ultra   754.159807   6.232113   \n",
       "3        1  Кира   22  Тюмень             ultra  6723.470560  44.776802   \n",
       "5        1  Кира   22  Тюмень             ultra  5809.911100  31.578017   \n",
       "7        1  Кира   22  Тюмень             ultra  7003.499363  53.397424   \n",
       "\n",
       "        date  months  minute_price  start_ride_price  subscription_fee  \\\n",
       "0 2021-01-01       1             6                 0               199   \n",
       "2 2021-04-20       4             6                 0               199   \n",
       "3 2021-08-11       8             6                 0               199   \n",
       "5 2021-10-09      10             6                 0               199   \n",
       "7 2021-11-06      11             6                 0               199   \n",
       "\n",
       "   drive_count  bill_per_month  \n",
       "0          2.0           451.0  \n",
       "2          1.0           241.0  \n",
       "3          2.0           469.0  \n",
       "5          2.0           391.0  \n",
       "7          3.0           523.0  "
      ]
     },
     "execution_count": 38,
     "metadata": {},
     "output_type": "execute_result"
    }
   ],
   "source": [
    "full_df.head()"
   ]
  },
  {
   "cell_type": "markdown",
   "id": "41545ac0",
   "metadata": {},
   "source": [
    "## Проверка гипотез"
   ]
  },
  {
   "cell_type": "markdown",
   "id": "c94792fe",
   "metadata": {},
   "source": [
    "### Гипотеза №1. Тратят ли пользователи с подпиской больше времени на поездки?"
   ]
  },
  {
   "cell_type": "markdown",
   "id": "826949f2",
   "metadata": {},
   "source": [
    "Разделим генеральную совокупность на два набора данных с пользователям с подпиской и без неё"
   ]
  },
  {
   "cell_type": "code",
   "execution_count": 39,
   "id": "c1eb5d58",
   "metadata": {},
   "outputs": [
    {
     "data": {
      "text/html": [
       "<div>\n",
       "<style scoped>\n",
       "    .dataframe tbody tr th:only-of-type {\n",
       "        vertical-align: middle;\n",
       "    }\n",
       "\n",
       "    .dataframe tbody tr th {\n",
       "        vertical-align: top;\n",
       "    }\n",
       "\n",
       "    .dataframe thead th {\n",
       "        text-align: right;\n",
       "    }\n",
       "</style>\n",
       "<table border=\"1\" class=\"dataframe\">\n",
       "  <thead>\n",
       "    <tr style=\"text-align: right;\">\n",
       "      <th></th>\n",
       "      <th>user_id</th>\n",
       "      <th>name</th>\n",
       "      <th>age</th>\n",
       "      <th>city</th>\n",
       "      <th>subscription_type</th>\n",
       "      <th>distance</th>\n",
       "      <th>duration</th>\n",
       "      <th>date</th>\n",
       "      <th>months</th>\n",
       "      <th>minute_price</th>\n",
       "      <th>start_ride_price</th>\n",
       "      <th>subscription_fee</th>\n",
       "      <th>drive_count</th>\n",
       "      <th>bill_per_month</th>\n",
       "    </tr>\n",
       "  </thead>\n",
       "  <tbody>\n",
       "    <tr>\n",
       "      <th>0</th>\n",
       "      <td>1</td>\n",
       "      <td>Кира</td>\n",
       "      <td>22</td>\n",
       "      <td>Тюмень</td>\n",
       "      <td>ultra</td>\n",
       "      <td>7027.511294</td>\n",
       "      <td>41.416640</td>\n",
       "      <td>2021-01-01</td>\n",
       "      <td>1</td>\n",
       "      <td>6</td>\n",
       "      <td>0</td>\n",
       "      <td>199</td>\n",
       "      <td>2.0</td>\n",
       "      <td>451.0</td>\n",
       "    </tr>\n",
       "    <tr>\n",
       "      <th>2</th>\n",
       "      <td>1</td>\n",
       "      <td>Кира</td>\n",
       "      <td>22</td>\n",
       "      <td>Тюмень</td>\n",
       "      <td>ultra</td>\n",
       "      <td>754.159807</td>\n",
       "      <td>6.232113</td>\n",
       "      <td>2021-04-20</td>\n",
       "      <td>4</td>\n",
       "      <td>6</td>\n",
       "      <td>0</td>\n",
       "      <td>199</td>\n",
       "      <td>1.0</td>\n",
       "      <td>241.0</td>\n",
       "    </tr>\n",
       "    <tr>\n",
       "      <th>3</th>\n",
       "      <td>1</td>\n",
       "      <td>Кира</td>\n",
       "      <td>22</td>\n",
       "      <td>Тюмень</td>\n",
       "      <td>ultra</td>\n",
       "      <td>6723.470560</td>\n",
       "      <td>44.776802</td>\n",
       "      <td>2021-08-11</td>\n",
       "      <td>8</td>\n",
       "      <td>6</td>\n",
       "      <td>0</td>\n",
       "      <td>199</td>\n",
       "      <td>2.0</td>\n",
       "      <td>469.0</td>\n",
       "    </tr>\n",
       "    <tr>\n",
       "      <th>5</th>\n",
       "      <td>1</td>\n",
       "      <td>Кира</td>\n",
       "      <td>22</td>\n",
       "      <td>Тюмень</td>\n",
       "      <td>ultra</td>\n",
       "      <td>5809.911100</td>\n",
       "      <td>31.578017</td>\n",
       "      <td>2021-10-09</td>\n",
       "      <td>10</td>\n",
       "      <td>6</td>\n",
       "      <td>0</td>\n",
       "      <td>199</td>\n",
       "      <td>2.0</td>\n",
       "      <td>391.0</td>\n",
       "    </tr>\n",
       "    <tr>\n",
       "      <th>7</th>\n",
       "      <td>1</td>\n",
       "      <td>Кира</td>\n",
       "      <td>22</td>\n",
       "      <td>Тюмень</td>\n",
       "      <td>ultra</td>\n",
       "      <td>7003.499363</td>\n",
       "      <td>53.397424</td>\n",
       "      <td>2021-11-06</td>\n",
       "      <td>11</td>\n",
       "      <td>6</td>\n",
       "      <td>0</td>\n",
       "      <td>199</td>\n",
       "      <td>3.0</td>\n",
       "      <td>523.0</td>\n",
       "    </tr>\n",
       "    <tr>\n",
       "      <th>...</th>\n",
       "      <td>...</td>\n",
       "      <td>...</td>\n",
       "      <td>...</td>\n",
       "      <td>...</td>\n",
       "      <td>...</td>\n",
       "      <td>...</td>\n",
       "      <td>...</td>\n",
       "      <td>...</td>\n",
       "      <td>...</td>\n",
       "      <td>...</td>\n",
       "      <td>...</td>\n",
       "      <td>...</td>\n",
       "      <td>...</td>\n",
       "      <td>...</td>\n",
       "    </tr>\n",
       "    <tr>\n",
       "      <th>6493</th>\n",
       "      <td>699</td>\n",
       "      <td>Оксана</td>\n",
       "      <td>22</td>\n",
       "      <td>Москва</td>\n",
       "      <td>ultra</td>\n",
       "      <td>4072.797406</td>\n",
       "      <td>16.575991</td>\n",
       "      <td>2021-06-02</td>\n",
       "      <td>6</td>\n",
       "      <td>6</td>\n",
       "      <td>0</td>\n",
       "      <td>199</td>\n",
       "      <td>1.0</td>\n",
       "      <td>301.0</td>\n",
       "    </tr>\n",
       "    <tr>\n",
       "      <th>6494</th>\n",
       "      <td>699</td>\n",
       "      <td>Оксана</td>\n",
       "      <td>22</td>\n",
       "      <td>Москва</td>\n",
       "      <td>ultra</td>\n",
       "      <td>7018.324143</td>\n",
       "      <td>44.281768</td>\n",
       "      <td>2021-08-25</td>\n",
       "      <td>8</td>\n",
       "      <td>6</td>\n",
       "      <td>0</td>\n",
       "      <td>199</td>\n",
       "      <td>2.0</td>\n",
       "      <td>469.0</td>\n",
       "    </tr>\n",
       "    <tr>\n",
       "      <th>6496</th>\n",
       "      <td>699</td>\n",
       "      <td>Оксана</td>\n",
       "      <td>22</td>\n",
       "      <td>Москва</td>\n",
       "      <td>ultra</td>\n",
       "      <td>6364.861911</td>\n",
       "      <td>30.282412</td>\n",
       "      <td>2021-09-12</td>\n",
       "      <td>9</td>\n",
       "      <td>6</td>\n",
       "      <td>0</td>\n",
       "      <td>199</td>\n",
       "      <td>2.0</td>\n",
       "      <td>385.0</td>\n",
       "    </tr>\n",
       "    <tr>\n",
       "      <th>6498</th>\n",
       "      <td>699</td>\n",
       "      <td>Оксана</td>\n",
       "      <td>22</td>\n",
       "      <td>Москва</td>\n",
       "      <td>ultra</td>\n",
       "      <td>4707.845501</td>\n",
       "      <td>15.839579</td>\n",
       "      <td>2021-10-17</td>\n",
       "      <td>10</td>\n",
       "      <td>6</td>\n",
       "      <td>0</td>\n",
       "      <td>199</td>\n",
       "      <td>1.0</td>\n",
       "      <td>295.0</td>\n",
       "    </tr>\n",
       "    <tr>\n",
       "      <th>6499</th>\n",
       "      <td>699</td>\n",
       "      <td>Оксана</td>\n",
       "      <td>22</td>\n",
       "      <td>Москва</td>\n",
       "      <td>ultra</td>\n",
       "      <td>3202.890770</td>\n",
       "      <td>25.217345</td>\n",
       "      <td>2021-12-03</td>\n",
       "      <td>12</td>\n",
       "      <td>6</td>\n",
       "      <td>0</td>\n",
       "      <td>199</td>\n",
       "      <td>1.0</td>\n",
       "      <td>355.0</td>\n",
       "    </tr>\n",
       "  </tbody>\n",
       "</table>\n",
       "<p>4533 rows × 14 columns</p>\n",
       "</div>"
      ],
      "text/plain": [
       "      user_id    name  age    city subscription_type     distance   duration  \\\n",
       "0           1    Кира   22  Тюмень             ultra  7027.511294  41.416640   \n",
       "2           1    Кира   22  Тюмень             ultra   754.159807   6.232113   \n",
       "3           1    Кира   22  Тюмень             ultra  6723.470560  44.776802   \n",
       "5           1    Кира   22  Тюмень             ultra  5809.911100  31.578017   \n",
       "7           1    Кира   22  Тюмень             ultra  7003.499363  53.397424   \n",
       "...       ...     ...  ...     ...               ...          ...        ...   \n",
       "6493      699  Оксана   22  Москва             ultra  4072.797406  16.575991   \n",
       "6494      699  Оксана   22  Москва             ultra  7018.324143  44.281768   \n",
       "6496      699  Оксана   22  Москва             ultra  6364.861911  30.282412   \n",
       "6498      699  Оксана   22  Москва             ultra  4707.845501  15.839579   \n",
       "6499      699  Оксана   22  Москва             ultra  3202.890770  25.217345   \n",
       "\n",
       "           date  months  minute_price  start_ride_price  subscription_fee  \\\n",
       "0    2021-01-01       1             6                 0               199   \n",
       "2    2021-04-20       4             6                 0               199   \n",
       "3    2021-08-11       8             6                 0               199   \n",
       "5    2021-10-09      10             6                 0               199   \n",
       "7    2021-11-06      11             6                 0               199   \n",
       "...         ...     ...           ...               ...               ...   \n",
       "6493 2021-06-02       6             6                 0               199   \n",
       "6494 2021-08-25       8             6                 0               199   \n",
       "6496 2021-09-12       9             6                 0               199   \n",
       "6498 2021-10-17      10             6                 0               199   \n",
       "6499 2021-12-03      12             6                 0               199   \n",
       "\n",
       "      drive_count  bill_per_month  \n",
       "0             2.0           451.0  \n",
       "2             1.0           241.0  \n",
       "3             2.0           469.0  \n",
       "5             2.0           391.0  \n",
       "7             3.0           523.0  \n",
       "...           ...             ...  \n",
       "6493          1.0           301.0  \n",
       "6494          2.0           469.0  \n",
       "6496          2.0           385.0  \n",
       "6498          1.0           295.0  \n",
       "6499          1.0           355.0  \n",
       "\n",
       "[4533 rows x 14 columns]"
      ]
     },
     "execution_count": 39,
     "metadata": {},
     "output_type": "execute_result"
    }
   ],
   "source": [
    "sub = full_df.loc[full_df['subscription_type'] == 'ultra']\n",
    "sub"
   ]
  },
  {
   "cell_type": "code",
   "execution_count": 40,
   "id": "bc3be3dc",
   "metadata": {},
   "outputs": [
    {
     "data": {
      "text/html": [
       "<div>\n",
       "<style scoped>\n",
       "    .dataframe tbody tr th:only-of-type {\n",
       "        vertical-align: middle;\n",
       "    }\n",
       "\n",
       "    .dataframe tbody tr th {\n",
       "        vertical-align: top;\n",
       "    }\n",
       "\n",
       "    .dataframe thead th {\n",
       "        text-align: right;\n",
       "    }\n",
       "</style>\n",
       "<table border=\"1\" class=\"dataframe\">\n",
       "  <thead>\n",
       "    <tr style=\"text-align: right;\">\n",
       "      <th></th>\n",
       "      <th>user_id</th>\n",
       "      <th>name</th>\n",
       "      <th>age</th>\n",
       "      <th>city</th>\n",
       "      <th>subscription_type</th>\n",
       "      <th>distance</th>\n",
       "      <th>duration</th>\n",
       "      <th>date</th>\n",
       "      <th>months</th>\n",
       "      <th>minute_price</th>\n",
       "      <th>start_ride_price</th>\n",
       "      <th>subscription_fee</th>\n",
       "      <th>drive_count</th>\n",
       "      <th>bill_per_month</th>\n",
       "    </tr>\n",
       "  </thead>\n",
       "  <tbody>\n",
       "    <tr>\n",
       "      <th>6500</th>\n",
       "      <td>700</td>\n",
       "      <td>Айдар</td>\n",
       "      <td>22</td>\n",
       "      <td>Омск</td>\n",
       "      <td>free</td>\n",
       "      <td>2515.690719</td>\n",
       "      <td>14.944286</td>\n",
       "      <td>2021-01-02</td>\n",
       "      <td>1</td>\n",
       "      <td>8</td>\n",
       "      <td>50</td>\n",
       "      <td>0</td>\n",
       "      <td>1.0</td>\n",
       "      <td>170.0</td>\n",
       "    </tr>\n",
       "    <tr>\n",
       "      <th>6501</th>\n",
       "      <td>700</td>\n",
       "      <td>Айдар</td>\n",
       "      <td>22</td>\n",
       "      <td>Омск</td>\n",
       "      <td>free</td>\n",
       "      <td>13446.659764</td>\n",
       "      <td>85.829845</td>\n",
       "      <td>2021-02-01</td>\n",
       "      <td>2</td>\n",
       "      <td>8</td>\n",
       "      <td>50</td>\n",
       "      <td>0</td>\n",
       "      <td>5.0</td>\n",
       "      <td>738.0</td>\n",
       "    </tr>\n",
       "    <tr>\n",
       "      <th>6506</th>\n",
       "      <td>700</td>\n",
       "      <td>Айдар</td>\n",
       "      <td>22</td>\n",
       "      <td>Омск</td>\n",
       "      <td>free</td>\n",
       "      <td>3798.334905</td>\n",
       "      <td>18.243756</td>\n",
       "      <td>2021-03-03</td>\n",
       "      <td>3</td>\n",
       "      <td>8</td>\n",
       "      <td>50</td>\n",
       "      <td>0</td>\n",
       "      <td>1.0</td>\n",
       "      <td>202.0</td>\n",
       "    </tr>\n",
       "    <tr>\n",
       "      <th>6507</th>\n",
       "      <td>700</td>\n",
       "      <td>Айдар</td>\n",
       "      <td>22</td>\n",
       "      <td>Омск</td>\n",
       "      <td>free</td>\n",
       "      <td>2984.551206</td>\n",
       "      <td>15.424899</td>\n",
       "      <td>2021-04-09</td>\n",
       "      <td>4</td>\n",
       "      <td>8</td>\n",
       "      <td>50</td>\n",
       "      <td>0</td>\n",
       "      <td>1.0</td>\n",
       "      <td>178.0</td>\n",
       "    </tr>\n",
       "    <tr>\n",
       "      <th>6508</th>\n",
       "      <td>700</td>\n",
       "      <td>Айдар</td>\n",
       "      <td>22</td>\n",
       "      <td>Омск</td>\n",
       "      <td>free</td>\n",
       "      <td>5927.650988</td>\n",
       "      <td>28.077657</td>\n",
       "      <td>2021-06-12</td>\n",
       "      <td>6</td>\n",
       "      <td>8</td>\n",
       "      <td>50</td>\n",
       "      <td>0</td>\n",
       "      <td>2.0</td>\n",
       "      <td>282.0</td>\n",
       "    </tr>\n",
       "    <tr>\n",
       "      <th>...</th>\n",
       "      <td>...</td>\n",
       "      <td>...</td>\n",
       "      <td>...</td>\n",
       "      <td>...</td>\n",
       "      <td>...</td>\n",
       "      <td>...</td>\n",
       "      <td>...</td>\n",
       "      <td>...</td>\n",
       "      <td>...</td>\n",
       "      <td>...</td>\n",
       "      <td>...</td>\n",
       "      <td>...</td>\n",
       "      <td>...</td>\n",
       "      <td>...</td>\n",
       "    </tr>\n",
       "    <tr>\n",
       "      <th>18058</th>\n",
       "      <td>1534</td>\n",
       "      <td>Альберт</td>\n",
       "      <td>25</td>\n",
       "      <td>Краснодар</td>\n",
       "      <td>free</td>\n",
       "      <td>3409.468534</td>\n",
       "      <td>24.812678</td>\n",
       "      <td>2021-06-11</td>\n",
       "      <td>6</td>\n",
       "      <td>8</td>\n",
       "      <td>50</td>\n",
       "      <td>0</td>\n",
       "      <td>2.0</td>\n",
       "      <td>250.0</td>\n",
       "    </tr>\n",
       "    <tr>\n",
       "      <th>18060</th>\n",
       "      <td>1534</td>\n",
       "      <td>Альберт</td>\n",
       "      <td>25</td>\n",
       "      <td>Краснодар</td>\n",
       "      <td>free</td>\n",
       "      <td>7622.453034</td>\n",
       "      <td>47.205960</td>\n",
       "      <td>2021-08-08</td>\n",
       "      <td>8</td>\n",
       "      <td>8</td>\n",
       "      <td>50</td>\n",
       "      <td>0</td>\n",
       "      <td>2.0</td>\n",
       "      <td>434.0</td>\n",
       "    </tr>\n",
       "    <tr>\n",
       "      <th>18062</th>\n",
       "      <td>1534</td>\n",
       "      <td>Альберт</td>\n",
       "      <td>25</td>\n",
       "      <td>Краснодар</td>\n",
       "      <td>free</td>\n",
       "      <td>4928.173852</td>\n",
       "      <td>22.560373</td>\n",
       "      <td>2021-09-13</td>\n",
       "      <td>9</td>\n",
       "      <td>8</td>\n",
       "      <td>50</td>\n",
       "      <td>0</td>\n",
       "      <td>1.0</td>\n",
       "      <td>234.0</td>\n",
       "    </tr>\n",
       "    <tr>\n",
       "      <th>18063</th>\n",
       "      <td>1534</td>\n",
       "      <td>Альберт</td>\n",
       "      <td>25</td>\n",
       "      <td>Краснодар</td>\n",
       "      <td>free</td>\n",
       "      <td>13350.015305</td>\n",
       "      <td>76.342174</td>\n",
       "      <td>2021-11-04</td>\n",
       "      <td>11</td>\n",
       "      <td>8</td>\n",
       "      <td>50</td>\n",
       "      <td>0</td>\n",
       "      <td>4.0</td>\n",
       "      <td>666.0</td>\n",
       "    </tr>\n",
       "    <tr>\n",
       "      <th>18067</th>\n",
       "      <td>1534</td>\n",
       "      <td>Альберт</td>\n",
       "      <td>25</td>\n",
       "      <td>Краснодар</td>\n",
       "      <td>free</td>\n",
       "      <td>2371.711192</td>\n",
       "      <td>15.893917</td>\n",
       "      <td>2021-12-29</td>\n",
       "      <td>12</td>\n",
       "      <td>8</td>\n",
       "      <td>50</td>\n",
       "      <td>0</td>\n",
       "      <td>1.0</td>\n",
       "      <td>178.0</td>\n",
       "    </tr>\n",
       "  </tbody>\n",
       "</table>\n",
       "<p>6798 rows × 14 columns</p>\n",
       "</div>"
      ],
      "text/plain": [
       "       user_id     name  age       city subscription_type      distance  \\\n",
       "6500       700    Айдар   22       Омск              free   2515.690719   \n",
       "6501       700    Айдар   22       Омск              free  13446.659764   \n",
       "6506       700    Айдар   22       Омск              free   3798.334905   \n",
       "6507       700    Айдар   22       Омск              free   2984.551206   \n",
       "6508       700    Айдар   22       Омск              free   5927.650988   \n",
       "...        ...      ...  ...        ...               ...           ...   \n",
       "18058     1534  Альберт   25  Краснодар              free   3409.468534   \n",
       "18060     1534  Альберт   25  Краснодар              free   7622.453034   \n",
       "18062     1534  Альберт   25  Краснодар              free   4928.173852   \n",
       "18063     1534  Альберт   25  Краснодар              free  13350.015305   \n",
       "18067     1534  Альберт   25  Краснодар              free   2371.711192   \n",
       "\n",
       "        duration       date  months  minute_price  start_ride_price  \\\n",
       "6500   14.944286 2021-01-02       1             8                50   \n",
       "6501   85.829845 2021-02-01       2             8                50   \n",
       "6506   18.243756 2021-03-03       3             8                50   \n",
       "6507   15.424899 2021-04-09       4             8                50   \n",
       "6508   28.077657 2021-06-12       6             8                50   \n",
       "...          ...        ...     ...           ...               ...   \n",
       "18058  24.812678 2021-06-11       6             8                50   \n",
       "18060  47.205960 2021-08-08       8             8                50   \n",
       "18062  22.560373 2021-09-13       9             8                50   \n",
       "18063  76.342174 2021-11-04      11             8                50   \n",
       "18067  15.893917 2021-12-29      12             8                50   \n",
       "\n",
       "       subscription_fee  drive_count  bill_per_month  \n",
       "6500                  0          1.0           170.0  \n",
       "6501                  0          5.0           738.0  \n",
       "6506                  0          1.0           202.0  \n",
       "6507                  0          1.0           178.0  \n",
       "6508                  0          2.0           282.0  \n",
       "...                 ...          ...             ...  \n",
       "18058                 0          2.0           250.0  \n",
       "18060                 0          2.0           434.0  \n",
       "18062                 0          1.0           234.0  \n",
       "18063                 0          4.0           666.0  \n",
       "18067                 0          1.0           178.0  \n",
       "\n",
       "[6798 rows x 14 columns]"
      ]
     },
     "execution_count": 40,
     "metadata": {},
     "output_type": "execute_result"
    }
   ],
   "source": [
    "unsub = full_df.loc[full_df['subscription_type'] == 'free']\n",
    "unsub"
   ]
  },
  {
   "cell_type": "markdown",
   "id": "9afaadf8",
   "metadata": {},
   "source": [
    "Нулевая гипотеза: среднее время поездки для пользователей с подпиской не отличается от пользователй без подписки\n",
    "\n",
    "Альтернативная гипотеза: пользователи с подпиской в среднем тратят больше времени на поездку, чем пользователи без неё"
   ]
  },
  {
   "cell_type": "code",
   "execution_count": 41,
   "id": "309881c5",
   "metadata": {},
   "outputs": [
    {
     "name": "stdout",
     "output_type": "stream",
     "text": [
      "p-value: 1.2804098316645618e-34\n",
      "Отвергаем нулевую гипотезу\n"
     ]
    }
   ],
   "source": [
    "# Продолжительность поездки пользователей с подпиской\n",
    "sub_dur = df_subs['duration']\n",
    "# Продолжительность поездки пользователей без подписки\n",
    "unsub_dur = df_free['duration']\n",
    "# Уровень статистической значимости\n",
    "alpha = .05\n",
    "\n",
    "results = st.ttest_ind(sub_dur, unsub_dur, alternative='greater')\n",
    "print('p-value:', results.pvalue)\n",
    "\n",
    "if (results.pvalue < alpha):\n",
    "    print('Отвергаем нулевую гипотезу')\n",
    "else:\n",
    "    print('Не отвергаем нулевую гипотезу')"
   ]
  },
  {
   "cell_type": "markdown",
   "id": "21608dce",
   "metadata": {},
   "source": [
    "**Вывод**"
   ]
  },
  {
   "cell_type": "markdown",
   "id": "12d507af",
   "metadata": {},
   "source": [
    "Применеие теста Стьюдента на идентичность наборов данных при альтернативной гипотезе `greater` отвергает нулевую гипотезу. Можно сказать, что пользователи с подпиской тратят больше времени на поездку, чем пользователи с бесплатной подпиской. \n",
    "\n",
    "Действительно ли пользователи с подпиской «выгоднее» для компании? Попробуем разобрать на примере:\n",
    "\n",
    "Возьмём 4 поездки в месяц по 10 минут каждая на разных вариантах подписки, получим, что пользователь с бесплатной подпиской принесет 520 рублей в месяц, а пользователь с бесплатной 439 рублей. В даном случае пользователь с бесплатной подпиской выгоднее, но никто не гарантирует, что такие поездки произойдут. Подписка это своего рода \"гарант\" того, что пользователь уже заплатил за 4 и более старата, так что можно предположить что такие пользователи выгоднее для компании."
   ]
  },
  {
   "cell_type": "markdown",
   "id": "37a230c8",
   "metadata": {},
   "source": [
    "### Гипотеза №2. Можно ли сказать, что расстояние, которое проезжают пользователи с подпиской за одну поездку, не превышает 3130 метров? "
   ]
  },
  {
   "cell_type": "markdown",
   "id": "080c7b6f",
   "metadata": {},
   "source": [
    "Нулевая гипотеза: среднее расстояние для пользователей с подпиской равно 3130 метров\n",
    "\n",
    "Альтернативная гипотеза: среднее расстояние для пользователей с подпиской меньше 3130 метров"
   ]
  },
  {
   "cell_type": "code",
   "execution_count": 42,
   "id": "e6fecb26",
   "metadata": {
    "scrolled": true
   },
   "outputs": [
    {
     "name": "stdout",
     "output_type": "stream",
     "text": [
      "p-значение: 0.08795776629194929\n",
      "Не отвергаем нулевую гипотезу\n"
     ]
    }
   ],
   "source": [
    "# Расстояние для пользователей с подпиской\n",
    "sub_dis = np.ceil(df_subs['distance'])\n",
    "\n",
    "mean_dis = 3130\n",
    "\n",
    "alpha = .05\n",
    "\n",
    "results = st.ttest_1samp(sub_dis, mean_dis, alternative='less')\n",
    "\n",
    "print('p-значение:', results.pvalue)\n",
    "\n",
    "if (results.pvalue < alpha):\n",
    "    print('Отвергаем нулевую гипотезу')\n",
    "else:\n",
    "    print('Не отвергаем нулевую гипотезу') "
   ]
  },
  {
   "cell_type": "markdown",
   "id": "e0cae417",
   "metadata": {},
   "source": [
    "**Вывод**"
   ]
  },
  {
   "cell_type": "markdown",
   "id": "fc4c19e5",
   "metadata": {},
   "source": [
    "Односторонний тест показал, что в среднем для пользователей с подпиской расстояние не превышает 3130, что удовлетворяет требованию по износостойкости самоката"
   ]
  },
  {
   "cell_type": "markdown",
   "id": "443f69fc",
   "metadata": {},
   "source": [
    "### Гипотеза №3. Помесячная выручка от пользователей с подпиской по месяцам выше, чем выручка от пользователей без подписки. "
   ]
  },
  {
   "cell_type": "markdown",
   "id": "7dfaa95f",
   "metadata": {},
   "source": [
    "Нулевая гипотеза: помесячная выручка независит от типа подписки\n",
    "\n",
    "Альтернативная гипотеза: помесячная выручка пользователей с подпиской выше, чем у пользователей без подписки"
   ]
  },
  {
   "cell_type": "code",
   "execution_count": 43,
   "id": "5b5a6737",
   "metadata": {},
   "outputs": [
    {
     "name": "stdout",
     "output_type": "stream",
     "text": [
      "p-значение: 1.577594269237221e-195\n",
      "Отвергаем нулевую гипотезу\n"
     ]
    }
   ],
   "source": [
    "# Выручка в месяц для пользователей с подпиской\n",
    "sub_bill = sub['bill_per_month']\n",
    "# Выручка в месяц для пользователей без подписки\n",
    "unsub_bill = unsub['bill_per_month']\n",
    "\n",
    "alpha = .05\n",
    "\n",
    "results = st.ttest_ind(sub_bill, unsub_bill, alternative='greater')\n",
    "\n",
    "print('p-значение:', results.pvalue)\n",
    "\n",
    "if (results.pvalue < alpha):\n",
    "    print('Отвергаем нулевую гипотезу')\n",
    "else:\n",
    "    print('Не отвергаем нулевую гипотезу') "
   ]
  },
  {
   "cell_type": "markdown",
   "id": "d8fb76d6",
   "metadata": {},
   "source": [
    "**Выводы**"
   ]
  },
  {
   "cell_type": "markdown",
   "id": "8e36d902",
   "metadata": {},
   "source": [
    "При проверки односторонней гипотезы о том, что помесячная выручка не зависит от типа подписки, стало ясно, что это не так. Пользователи с подпиской приносят больше денег в месяц."
   ]
  },
  {
   "cell_type": "markdown",
   "id": "62066c2f",
   "metadata": {},
   "source": [
    "###  Представьте такую ситуацию: техническая команда сервиса обновила сервера, с которыми взаимодействует мобильное приложение. Она надеется, что из-за этого количество обращений в техподдержку значимо снизилось. Некоторый файл содержит для каждого пользователя данные о количестве обращений до обновления и после него. Какой тест вам понадобился бы для проверки этой гипотезы?"
   ]
  },
  {
   "cell_type": "markdown",
   "id": "f1413d25",
   "metadata": {},
   "source": [
    "Необходимо проверить гипотезу о равенстве средних двух генеральных совокупностей для зависимых (парных) выборок, применив метод `ttest_rel()`"
   ]
  },
  {
   "cell_type": "markdown",
   "id": "8ada8d80",
   "metadata": {},
   "source": [
    "## Выводы"
   ]
  },
  {
   "cell_type": "markdown",
   "id": "4afae08d",
   "metadata": {},
   "source": [
    "**Предобработка данных**\n",
    "\n",
    "Загружены три датасета `users`, `rides` и `subs`. Для датасета `rides` было выполнено преобразование типа данных для колонки `date` на стадии загрузки датасета, а также создана новая колонка `month`. Выявлены и исключены явные дублкаты в датасете `rides`\n",
    "\n",
    "Графики дистанции поездок, возраста и длительности поездки имеют вид нормального расспределения.\n",
    "\n",
    "В датасете `users` были обнаружены и удалены 31 явный дубликат."
   ]
  },
  {
   "cell_type": "markdown",
   "id": "65d350fe",
   "metadata": {},
   "source": [
    "**Исследовательский анализ данных**\n",
    "\n",
    "Лидирующие позиции среди городов по количеству пользователей в сервисе:\n",
    "- Пятигорск \n",
    "- Екатеринбург\n",
    "- Ростов-на-дону\n",
    "\n",
    "Число пользователей без подписки примерно на 8.8% больше чем с подпиской. \n",
    "\n",
    "Каждая поездка в среднем длится около 17 минут за которые в среднем преодолевается 3070 метров пути. \n",
    "\n",
    "Основоной целевой аудиторией являются граждане в возрасте от 21 до 29 лет."
   ]
  },
  {
   "cell_type": "markdown",
   "id": "8b992b4d",
   "metadata": {},
   "source": [
    "**Объединение данных**\n",
    "\n",
    "Из трёх исходных наборов данных была сформированна генеральная совокупность содержащая в себе полные данные о каждой поездки, такие как: \n",
    "- id пользователя\n",
    "- имя пользователя\n",
    "- возраст\n",
    "- город\n",
    "- тип подписки\n",
    "- расстояние\n",
    "- время поездки\n",
    "- дата\n",
    "- месяц\n",
    "- стоимость одной минуты\n",
    "- стоимость старта\n",
    "- стоимость подписки\n",
    "\n",
    "А также были сформированны два датасета с пользователя с бесплатной и платной подпиской"
   ]
  },
  {
   "cell_type": "markdown",
   "id": "244852fe",
   "metadata": {},
   "source": [
    "**Подсчёт выручки**\n",
    "\n",
    "Создан датафрейм с агрегированными данными о поездках на основе датафрейма с объединёнными данными.\n",
    "\n",
    "Вычислены для каждого пользователя за каждый месяц:\n",
    "\n",
    "- суммарное расстояние;\n",
    "- количество поездок;\n",
    "- суммарное время.\n",
    "\n",
    "Согласно формуле: `фремя поездки (округлённое вверх)` * `стоимость минуты` + `стоимость старта` + `стоимость подписки` вычислен ежемесячный доход каждого пользователя"
   ]
  },
  {
   "cell_type": "markdown",
   "id": "6b731040",
   "metadata": {},
   "source": [
    "**Гипотезы**\n",
    "\n",
    "**Гипотеза №1**\n",
    "Нулевая гипотеза: среднее время поездки для пользователей с подпиской не отличается от пользователй без подписки\n",
    "\n",
    "Альтернативная гипотеза: пользователи с подпиской в среднем тратят больше времени на поездку, чем пользователи без неё\n",
    "\n",
    "**Результат**\n",
    "Применеие теста Стьюдента на идентичность наборов данных при альтернативной гипотезе greater отвергает нулевую гипотезу. Можно сказать, что пользователи с подпиской тратят больше времени на поездку, чем пользователи с бесплатной подпиской.\n",
    "\n",
    "Действительно ли пользователи с подпиской «выгоднее» для компании? Попробуем разобрать на примере:\n",
    "\n",
    "Возьмём 4 поездки в месяц по 10 минут каждая на разных вариантах подписки, получим, что пользователь с бесплатной подпиской принесет 520 рублей в месяц, а пользователь с бесплатной 439 рублей. В даном случае пользователь с бесплатной подпиской выгоднее, но никто не гарантирует, что такие поездки произойдут. Подписка это своего рода \"гарант\" того, что пользователь уже заплатил за 4 и более старата, так что можно предположить что такие пользователи выгоднее для компании.\n",
    "\n",
    "**Гипотеза №2**\n",
    "Нулевая гипотеза: среднее расстояние для пользователей с подпиской не превышает 3130 метров\n",
    "\n",
    "Альтернативная гипотеза: среднее расстояние для пользователей с подпиской меньше 3130 метров\n",
    "\n",
    "**Результат**\n",
    "Нулевая гипотеза не отвергается. Односторонний тест показал, что в среднем для пользователей с подпиской расстояние не превышает 3130, что удовлетворяет требованию по износостойкости самоката\n",
    "\n",
    "**Гипотеза №3**\n",
    "Нулевая гипотеза: помесячная выручка независит от типа подписки\n",
    "\n",
    "Альтернативная гипотеза: помесячная выручка пользователей с подпиской выше, чем у пользователей без подписки\n",
    "\n",
    "**Результат**\n",
    "Нулевая гипотеза отвергается. Пользователи с подпиской приносят больше денег в месяц."
   ]
  }
 ],
 "metadata": {
  "ExecuteTimeLog": [
   {
    "duration": 43,
    "start_time": "2023-05-04T06:24:40.986Z"
   },
   {
    "duration": 334,
    "start_time": "2023-05-04T06:24:44.319Z"
   },
   {
    "duration": 55,
    "start_time": "2023-05-04T06:24:46.415Z"
   },
   {
    "duration": 86,
    "start_time": "2023-05-04T06:25:37.450Z"
   },
   {
    "duration": 10,
    "start_time": "2023-05-04T06:25:45.790Z"
   },
   {
    "duration": 184,
    "start_time": "2023-05-04T06:26:19.245Z"
   },
   {
    "duration": 51,
    "start_time": "2023-05-04T06:26:34.789Z"
   },
   {
    "duration": 9,
    "start_time": "2023-05-04T06:26:42.369Z"
   },
   {
    "duration": 113,
    "start_time": "2023-05-04T06:27:29.914Z"
   },
   {
    "duration": 9,
    "start_time": "2023-05-04T06:27:38.536Z"
   },
   {
    "duration": 19,
    "start_time": "2023-05-04T06:28:48.617Z"
   },
   {
    "duration": 14,
    "start_time": "2023-05-04T06:29:10.584Z"
   },
   {
    "duration": 14,
    "start_time": "2023-05-04T06:29:17.100Z"
   },
   {
    "duration": 70,
    "start_time": "2023-05-04T06:32:04.702Z"
   },
   {
    "duration": 49,
    "start_time": "2023-05-04T06:32:10.423Z"
   },
   {
    "duration": 44,
    "start_time": "2023-05-04T06:32:25.735Z"
   },
   {
    "duration": 73,
    "start_time": "2023-05-04T06:32:48.519Z"
   },
   {
    "duration": 49,
    "start_time": "2023-05-04T06:33:05.773Z"
   },
   {
    "duration": 51,
    "start_time": "2023-05-04T06:33:11.307Z"
   },
   {
    "duration": 49,
    "start_time": "2023-05-04T06:33:12.273Z"
   },
   {
    "duration": 61,
    "start_time": "2023-05-04T06:33:23.130Z"
   },
   {
    "duration": 84,
    "start_time": "2023-05-04T06:33:36.409Z"
   },
   {
    "duration": 97,
    "start_time": "2023-05-04T06:34:03.015Z"
   },
   {
    "duration": 92,
    "start_time": "2023-05-04T06:34:17.482Z"
   },
   {
    "duration": 14,
    "start_time": "2023-05-04T06:34:23.631Z"
   },
   {
    "duration": 726,
    "start_time": "2023-05-04T06:39:27.869Z"
   },
   {
    "duration": 667,
    "start_time": "2023-05-04T06:39:45.774Z"
   },
   {
    "duration": 398,
    "start_time": "2023-05-04T06:40:13.276Z"
   },
   {
    "duration": 907,
    "start_time": "2023-05-05T09:29:18.256Z"
   },
   {
    "duration": 6,
    "start_time": "2023-05-10T05:02:32.488Z"
   },
   {
    "duration": 6,
    "start_time": "2023-05-10T05:02:38.491Z"
   },
   {
    "duration": 8,
    "start_time": "2023-05-10T05:03:00.326Z"
   },
   {
    "duration": 5,
    "start_time": "2023-05-10T05:03:12.462Z"
   },
   {
    "duration": 8,
    "start_time": "2023-05-10T05:04:09.127Z"
   },
   {
    "duration": 11,
    "start_time": "2023-05-10T05:04:24.070Z"
   },
   {
    "duration": 7,
    "start_time": "2023-05-10T05:05:05.211Z"
   },
   {
    "duration": 9,
    "start_time": "2023-05-10T05:05:26.150Z"
   },
   {
    "duration": 25,
    "start_time": "2023-05-10T05:07:04.563Z"
   },
   {
    "duration": 14,
    "start_time": "2023-05-10T05:07:20.593Z"
   },
   {
    "duration": 10,
    "start_time": "2023-05-10T05:08:50.541Z"
   },
   {
    "duration": 14,
    "start_time": "2023-05-10T05:10:20.411Z"
   },
   {
    "duration": 7,
    "start_time": "2023-05-10T05:10:33.970Z"
   },
   {
    "duration": 14,
    "start_time": "2023-05-10T05:10:39.909Z"
   },
   {
    "duration": 6,
    "start_time": "2023-05-10T05:10:47.371Z"
   },
   {
    "duration": 9,
    "start_time": "2023-05-10T05:11:20.946Z"
   },
   {
    "duration": 6,
    "start_time": "2023-05-10T05:11:26.511Z"
   },
   {
    "duration": 9,
    "start_time": "2023-05-10T05:11:31.410Z"
   },
   {
    "duration": 14,
    "start_time": "2023-05-10T05:11:34.388Z"
   },
   {
    "duration": 5,
    "start_time": "2023-05-10T05:11:46.998Z"
   },
   {
    "duration": 8,
    "start_time": "2023-05-10T05:11:50.533Z"
   },
   {
    "duration": 4,
    "start_time": "2023-05-10T05:11:55.435Z"
   },
   {
    "duration": 82,
    "start_time": "2023-05-10T05:11:55.442Z"
   },
   {
    "duration": 23,
    "start_time": "2023-05-10T05:11:55.526Z"
   },
   {
    "duration": 15,
    "start_time": "2023-05-10T05:11:55.551Z"
   },
   {
    "duration": 18,
    "start_time": "2023-05-10T05:11:55.568Z"
   },
   {
    "duration": 240,
    "start_time": "2023-05-10T05:11:55.808Z"
   },
   {
    "duration": 526,
    "start_time": "2023-05-10T05:11:56.051Z"
   },
   {
    "duration": 13,
    "start_time": "2023-05-10T05:11:56.579Z"
   },
   {
    "duration": 7,
    "start_time": "2023-05-10T05:11:56.594Z"
   },
   {
    "duration": 36,
    "start_time": "2023-05-10T05:11:56.603Z"
   },
   {
    "duration": 25,
    "start_time": "2023-05-10T05:11:56.641Z"
   },
   {
    "duration": 7,
    "start_time": "2023-05-10T05:12:05.950Z"
   },
   {
    "duration": 7,
    "start_time": "2023-05-10T05:14:01.710Z"
   },
   {
    "duration": 7,
    "start_time": "2023-05-10T05:14:05.478Z"
   },
   {
    "duration": 6,
    "start_time": "2023-05-10T05:14:22.110Z"
   },
   {
    "duration": 14,
    "start_time": "2023-05-10T05:29:49.934Z"
   },
   {
    "duration": 138,
    "start_time": "2023-05-10T05:29:59.154Z"
   },
   {
    "duration": 147,
    "start_time": "2023-05-10T05:30:17.423Z"
   },
   {
    "duration": 175,
    "start_time": "2023-05-10T05:30:44.223Z"
   },
   {
    "duration": 160,
    "start_time": "2023-05-10T05:32:46.115Z"
   },
   {
    "duration": 220,
    "start_time": "2023-05-10T05:32:50.951Z"
   },
   {
    "duration": 117,
    "start_time": "2023-05-10T05:33:39.890Z"
   },
   {
    "duration": 2022,
    "start_time": "2023-05-10T05:39:05.720Z"
   },
   {
    "duration": 1426,
    "start_time": "2023-05-10T05:39:18.614Z"
   },
   {
    "duration": 100,
    "start_time": "2023-05-10T05:39:22.586Z"
   },
   {
    "duration": 1253,
    "start_time": "2023-05-11T03:41:29.878Z"
   },
   {
    "duration": 440,
    "start_time": "2023-05-11T03:41:31.134Z"
   },
   {
    "duration": 63,
    "start_time": "2023-05-11T03:41:31.576Z"
   },
   {
    "duration": 44,
    "start_time": "2023-05-11T03:41:31.642Z"
   },
   {
    "duration": 32,
    "start_time": "2023-05-11T03:41:31.688Z"
   },
   {
    "duration": 1184,
    "start_time": "2023-05-11T03:41:31.727Z"
   },
   {
    "duration": 927,
    "start_time": "2023-05-11T03:41:32.920Z"
   },
   {
    "duration": 28,
    "start_time": "2023-05-11T03:41:33.856Z"
   },
   {
    "duration": 18,
    "start_time": "2023-05-11T03:41:33.888Z"
   },
   {
    "duration": 31,
    "start_time": "2023-05-11T03:41:33.908Z"
   },
   {
    "duration": 14,
    "start_time": "2023-05-11T03:41:33.942Z"
   },
   {
    "duration": 13,
    "start_time": "2023-05-11T03:41:33.959Z"
   },
   {
    "duration": 222,
    "start_time": "2023-05-11T03:41:33.976Z"
   },
   {
    "duration": 174,
    "start_time": "2023-05-11T03:41:37.927Z"
   },
   {
    "duration": 286,
    "start_time": "2023-05-11T03:42:25.940Z"
   },
   {
    "duration": 3012,
    "start_time": "2023-05-11T03:46:53.271Z"
   },
   {
    "duration": 2424,
    "start_time": "2023-05-11T03:47:08.224Z"
   },
   {
    "duration": 520586,
    "start_time": "2023-05-11T03:47:45.929Z"
   },
   {
    "duration": 9,
    "start_time": "2023-05-11T03:59:50.626Z"
   },
   {
    "duration": 301,
    "start_time": "2023-05-11T04:00:26.304Z"
   },
   {
    "duration": 178,
    "start_time": "2023-05-11T04:00:35.117Z"
   },
   {
    "duration": 266,
    "start_time": "2023-05-11T04:00:53.623Z"
   },
   {
    "duration": 195,
    "start_time": "2023-05-11T04:02:37.277Z"
   },
   {
    "duration": 152,
    "start_time": "2023-05-11T04:02:41.835Z"
   },
   {
    "duration": 191,
    "start_time": "2023-05-11T04:03:08.937Z"
   },
   {
    "duration": 247,
    "start_time": "2023-05-11T04:03:14.250Z"
   },
   {
    "duration": 280,
    "start_time": "2023-05-11T04:04:54.577Z"
   },
   {
    "duration": 302,
    "start_time": "2023-05-11T04:05:03.038Z"
   },
   {
    "duration": 305,
    "start_time": "2023-05-11T04:05:08.718Z"
   },
   {
    "duration": 173,
    "start_time": "2023-05-11T04:05:16.656Z"
   },
   {
    "duration": 285,
    "start_time": "2023-05-11T04:05:19.471Z"
   },
   {
    "duration": 228,
    "start_time": "2023-05-11T04:05:24.205Z"
   },
   {
    "duration": 260,
    "start_time": "2023-05-11T04:05:31.883Z"
   },
   {
    "duration": 14,
    "start_time": "2023-05-11T04:16:29.248Z"
   },
   {
    "duration": 25,
    "start_time": "2023-05-11T04:16:35.230Z"
   },
   {
    "duration": 156,
    "start_time": "2023-05-11T04:17:00.710Z"
   },
   {
    "duration": 31,
    "start_time": "2023-05-11T04:17:03.604Z"
   },
   {
    "duration": 33,
    "start_time": "2023-05-11T04:17:18.055Z"
   },
   {
    "duration": 27,
    "start_time": "2023-05-11T04:17:41.169Z"
   },
   {
    "duration": 37,
    "start_time": "2023-05-11T04:17:43.413Z"
   },
   {
    "duration": 15,
    "start_time": "2023-05-11T04:53:47.222Z"
   },
   {
    "duration": 68,
    "start_time": "2023-05-11T04:53:51.527Z"
   },
   {
    "duration": 65,
    "start_time": "2023-05-11T04:56:03.666Z"
   },
   {
    "duration": 42,
    "start_time": "2023-05-11T04:56:12.464Z"
   },
   {
    "duration": 72,
    "start_time": "2023-05-11T04:56:14.127Z"
   },
   {
    "duration": 14,
    "start_time": "2023-05-11T04:56:22.813Z"
   },
   {
    "duration": 45,
    "start_time": "2023-05-11T04:56:24.401Z"
   },
   {
    "duration": 29,
    "start_time": "2023-05-11T04:57:21.130Z"
   },
   {
    "duration": 100,
    "start_time": "2023-05-11T04:57:22.711Z"
   },
   {
    "duration": 23,
    "start_time": "2023-05-11T04:57:36.243Z"
   },
   {
    "duration": 82,
    "start_time": "2023-05-11T04:57:39.445Z"
   },
   {
    "duration": 18,
    "start_time": "2023-05-11T04:57:46.165Z"
   },
   {
    "duration": 82,
    "start_time": "2023-05-11T04:57:50.853Z"
   },
   {
    "duration": 136,
    "start_time": "2023-05-11T05:38:34.689Z"
   },
   {
    "duration": 216,
    "start_time": "2023-05-11T05:38:39.278Z"
   },
   {
    "duration": 241,
    "start_time": "2023-05-11T05:38:44.611Z"
   },
   {
    "duration": 153,
    "start_time": "2023-05-11T05:38:49.461Z"
   },
   {
    "duration": 219,
    "start_time": "2023-05-11T05:38:55.950Z"
   },
   {
    "duration": 285,
    "start_time": "2023-05-11T05:40:24.542Z"
   },
   {
    "duration": 271,
    "start_time": "2023-05-11T05:40:30.365Z"
   },
   {
    "duration": 216,
    "start_time": "2023-05-11T05:41:17.567Z"
   },
   {
    "duration": 179,
    "start_time": "2023-05-11T05:41:22.153Z"
   },
   {
    "duration": 193,
    "start_time": "2023-05-11T05:41:38.820Z"
   },
   {
    "duration": 172,
    "start_time": "2023-05-11T05:41:50.540Z"
   },
   {
    "duration": 236,
    "start_time": "2023-05-11T05:41:56.533Z"
   },
   {
    "duration": 12,
    "start_time": "2023-05-11T06:10:54.953Z"
   },
   {
    "duration": 5,
    "start_time": "2023-05-11T06:11:03.822Z"
   },
   {
    "duration": 12,
    "start_time": "2023-05-11T06:11:13.709Z"
   },
   {
    "duration": 46,
    "start_time": "2023-05-11T06:11:18.516Z"
   },
   {
    "duration": 4,
    "start_time": "2023-05-11T06:11:35.654Z"
   },
   {
    "duration": 3,
    "start_time": "2023-05-11T06:12:01.839Z"
   },
   {
    "duration": 11,
    "start_time": "2023-05-11T06:12:14.977Z"
   },
   {
    "duration": 240,
    "start_time": "2023-05-11T06:12:50.812Z"
   },
   {
    "duration": 121,
    "start_time": "2023-05-11T06:13:07.570Z"
   },
   {
    "duration": 5,
    "start_time": "2023-05-11T06:21:08.249Z"
   },
   {
    "duration": 107,
    "start_time": "2023-05-11T06:21:08.257Z"
   },
   {
    "duration": 21,
    "start_time": "2023-05-11T06:21:08.366Z"
   },
   {
    "duration": 43,
    "start_time": "2023-05-11T06:21:08.396Z"
   },
   {
    "duration": 21,
    "start_time": "2023-05-11T06:21:08.443Z"
   },
   {
    "duration": 311,
    "start_time": "2023-05-11T06:21:08.467Z"
   },
   {
    "duration": 579,
    "start_time": "2023-05-11T06:21:08.781Z"
   },
   {
    "duration": 12,
    "start_time": "2023-05-11T06:21:09.362Z"
   },
   {
    "duration": 20,
    "start_time": "2023-05-11T06:21:09.385Z"
   },
   {
    "duration": 17,
    "start_time": "2023-05-11T06:21:09.407Z"
   },
   {
    "duration": 8,
    "start_time": "2023-05-11T06:21:09.426Z"
   },
   {
    "duration": 15,
    "start_time": "2023-05-11T06:21:09.436Z"
   },
   {
    "duration": 192,
    "start_time": "2023-05-11T06:21:09.453Z"
   },
   {
    "duration": 147,
    "start_time": "2023-05-11T06:21:09.647Z"
   },
   {
    "duration": 272,
    "start_time": "2023-05-11T06:21:09.800Z"
   },
   {
    "duration": 193,
    "start_time": "2023-05-11T06:21:10.074Z"
   },
   {
    "duration": 188,
    "start_time": "2023-05-11T06:21:10.270Z"
   },
   {
    "duration": 42,
    "start_time": "2023-05-11T06:21:10.460Z"
   },
   {
    "duration": 28,
    "start_time": "2023-05-11T06:21:10.505Z"
   },
   {
    "duration": 15,
    "start_time": "2023-05-11T06:21:10.542Z"
   },
   {
    "duration": 42,
    "start_time": "2023-05-11T06:21:10.559Z"
   },
   {
    "duration": 195,
    "start_time": "2023-05-11T06:21:10.603Z"
   },
   {
    "duration": 187,
    "start_time": "2023-05-11T06:21:10.800Z"
   },
   {
    "duration": 9,
    "start_time": "2023-05-11T06:21:10.993Z"
   },
   {
    "duration": 27,
    "start_time": "2023-05-11T06:21:11.004Z"
   },
   {
    "duration": 196,
    "start_time": "2023-05-11T06:21:11.033Z"
   },
   {
    "duration": 193,
    "start_time": "2023-05-11T06:21:11.231Z"
   },
   {
    "duration": 4,
    "start_time": "2023-05-11T06:21:11.426Z"
   },
   {
    "duration": 22,
    "start_time": "2023-05-11T06:21:16.515Z"
   },
   {
    "duration": 4,
    "start_time": "2023-05-11T06:21:56.348Z"
   },
   {
    "duration": 5,
    "start_time": "2023-05-11T06:22:00.153Z"
   },
   {
    "duration": 8,
    "start_time": "2023-05-11T06:22:03.645Z"
   },
   {
    "duration": 3,
    "start_time": "2023-05-11T06:22:12.627Z"
   },
   {
    "duration": 25,
    "start_time": "2023-05-11T06:22:14.720Z"
   },
   {
    "duration": 9,
    "start_time": "2023-05-11T06:25:05.004Z"
   },
   {
    "duration": 9,
    "start_time": "2023-05-11T06:25:17.470Z"
   },
   {
    "duration": 5,
    "start_time": "2023-05-11T06:25:37.522Z"
   },
   {
    "duration": 15,
    "start_time": "2023-05-11T06:25:39.679Z"
   },
   {
    "duration": 5,
    "start_time": "2023-05-11T06:25:59.851Z"
   },
   {
    "duration": 7,
    "start_time": "2023-05-11T06:26:02.370Z"
   },
   {
    "duration": 8,
    "start_time": "2023-05-11T06:28:55.554Z"
   },
   {
    "duration": 11,
    "start_time": "2023-05-11T06:28:57.212Z"
   },
   {
    "duration": 9,
    "start_time": "2023-05-11T06:29:30.862Z"
   },
   {
    "duration": 19,
    "start_time": "2023-05-11T06:29:33.013Z"
   },
   {
    "duration": 7,
    "start_time": "2023-05-11T06:30:19.849Z"
   },
   {
    "duration": 16,
    "start_time": "2023-05-11T06:30:26.517Z"
   },
   {
    "duration": 9,
    "start_time": "2023-05-11T06:30:28.149Z"
   },
   {
    "duration": 5,
    "start_time": "2023-05-11T06:30:44.547Z"
   },
   {
    "duration": 20,
    "start_time": "2023-05-11T06:30:46.043Z"
   },
   {
    "duration": 111,
    "start_time": "2023-05-11T06:37:55.338Z"
   },
   {
    "duration": 11,
    "start_time": "2023-05-11T06:38:07.331Z"
   },
   {
    "duration": 45,
    "start_time": "2023-05-11T06:38:14.322Z"
   },
   {
    "duration": 68,
    "start_time": "2023-05-11T06:38:23.605Z"
   },
   {
    "duration": 5,
    "start_time": "2023-05-11T06:39:12.158Z"
   },
   {
    "duration": 50,
    "start_time": "2023-05-11T06:39:17.679Z"
   },
   {
    "duration": 781,
    "start_time": "2023-05-11T09:23:13.761Z"
   },
   {
    "duration": 205,
    "start_time": "2023-05-11T09:23:14.544Z"
   },
   {
    "duration": 25,
    "start_time": "2023-05-11T09:23:14.751Z"
   },
   {
    "duration": 14,
    "start_time": "2023-05-11T09:23:14.778Z"
   },
   {
    "duration": 12,
    "start_time": "2023-05-11T09:23:14.795Z"
   },
   {
    "duration": 728,
    "start_time": "2023-05-11T09:23:14.809Z"
   },
   {
    "duration": 581,
    "start_time": "2023-05-11T09:23:15.541Z"
   },
   {
    "duration": 22,
    "start_time": "2023-05-11T09:23:16.124Z"
   },
   {
    "duration": 6,
    "start_time": "2023-05-11T09:23:16.148Z"
   },
   {
    "duration": 13,
    "start_time": "2023-05-11T09:23:16.156Z"
   },
   {
    "duration": 6,
    "start_time": "2023-05-11T09:23:16.171Z"
   },
   {
    "duration": 16,
    "start_time": "2023-05-11T09:23:16.178Z"
   },
   {
    "duration": 161,
    "start_time": "2023-05-11T09:23:16.196Z"
   },
   {
    "duration": 128,
    "start_time": "2023-05-11T09:23:16.361Z"
   },
   {
    "duration": 251,
    "start_time": "2023-05-11T09:23:16.491Z"
   },
   {
    "duration": 157,
    "start_time": "2023-05-11T09:23:16.744Z"
   },
   {
    "duration": 233,
    "start_time": "2023-05-11T09:23:16.903Z"
   },
   {
    "duration": 16,
    "start_time": "2023-05-11T09:23:17.138Z"
   },
   {
    "duration": 21,
    "start_time": "2023-05-11T09:23:17.155Z"
   },
   {
    "duration": 16,
    "start_time": "2023-05-11T09:23:17.178Z"
   },
   {
    "duration": 23,
    "start_time": "2023-05-11T09:23:17.196Z"
   },
   {
    "duration": 178,
    "start_time": "2023-05-11T09:23:17.237Z"
   },
   {
    "duration": 166,
    "start_time": "2023-05-11T09:23:17.417Z"
   },
   {
    "duration": 6,
    "start_time": "2023-05-11T09:23:17.585Z"
   },
   {
    "duration": 32,
    "start_time": "2023-05-11T09:23:17.593Z"
   },
   {
    "duration": 168,
    "start_time": "2023-05-11T09:23:17.627Z"
   },
   {
    "duration": 172,
    "start_time": "2023-05-11T09:23:17.797Z"
   },
   {
    "duration": 4,
    "start_time": "2023-05-11T09:23:17.971Z"
   },
   {
    "duration": 862,
    "start_time": "2023-05-11T10:55:15.334Z"
   },
   {
    "duration": 199,
    "start_time": "2023-05-11T10:55:16.198Z"
   },
   {
    "duration": 22,
    "start_time": "2023-05-11T10:55:16.398Z"
   },
   {
    "duration": 15,
    "start_time": "2023-05-11T10:55:16.422Z"
   },
   {
    "duration": 13,
    "start_time": "2023-05-11T10:55:16.439Z"
   },
   {
    "duration": 659,
    "start_time": "2023-05-11T10:55:16.454Z"
   },
   {
    "duration": 551,
    "start_time": "2023-05-11T10:55:17.115Z"
   },
   {
    "duration": 12,
    "start_time": "2023-05-11T10:55:17.667Z"
   },
   {
    "duration": 6,
    "start_time": "2023-05-11T10:55:17.680Z"
   },
   {
    "duration": 8,
    "start_time": "2023-05-11T10:55:17.688Z"
   },
   {
    "duration": 10,
    "start_time": "2023-05-11T10:55:17.698Z"
   },
   {
    "duration": 12,
    "start_time": "2023-05-11T10:55:17.710Z"
   },
   {
    "duration": 150,
    "start_time": "2023-05-11T10:55:17.723Z"
   },
   {
    "duration": 108,
    "start_time": "2023-05-11T10:55:17.875Z"
   },
   {
    "duration": 236,
    "start_time": "2023-05-11T10:55:17.985Z"
   },
   {
    "duration": 160,
    "start_time": "2023-05-11T10:55:18.222Z"
   },
   {
    "duration": 217,
    "start_time": "2023-05-11T10:55:18.384Z"
   },
   {
    "duration": 15,
    "start_time": "2023-05-11T10:55:18.603Z"
   },
   {
    "duration": 18,
    "start_time": "2023-05-11T10:55:18.620Z"
   },
   {
    "duration": 22,
    "start_time": "2023-05-11T10:55:18.639Z"
   },
   {
    "duration": 25,
    "start_time": "2023-05-11T10:55:18.663Z"
   },
   {
    "duration": 156,
    "start_time": "2023-05-11T10:55:18.689Z"
   },
   {
    "duration": 148,
    "start_time": "2023-05-11T10:55:18.847Z"
   },
   {
    "duration": 7,
    "start_time": "2023-05-11T10:55:18.997Z"
   },
   {
    "duration": 17,
    "start_time": "2023-05-11T10:55:19.005Z"
   },
   {
    "duration": 157,
    "start_time": "2023-05-11T10:55:19.023Z"
   },
   {
    "duration": 147,
    "start_time": "2023-05-11T10:55:19.181Z"
   },
   {
    "duration": 3,
    "start_time": "2023-05-11T10:55:19.331Z"
   },
   {
    "duration": 848,
    "start_time": "2023-05-12T05:11:21.184Z"
   },
   {
    "duration": 307,
    "start_time": "2023-05-12T05:11:22.033Z"
   },
   {
    "duration": 21,
    "start_time": "2023-05-12T05:11:22.342Z"
   },
   {
    "duration": 58,
    "start_time": "2023-05-12T05:11:22.364Z"
   },
   {
    "duration": 31,
    "start_time": "2023-05-12T05:11:22.424Z"
   },
   {
    "duration": 670,
    "start_time": "2023-05-12T05:11:22.456Z"
   },
   {
    "duration": 542,
    "start_time": "2023-05-12T05:11:23.127Z"
   },
   {
    "duration": 11,
    "start_time": "2023-05-12T05:11:23.671Z"
   },
   {
    "duration": 17,
    "start_time": "2023-05-12T05:11:23.683Z"
   },
   {
    "duration": 14,
    "start_time": "2023-05-12T05:11:23.704Z"
   },
   {
    "duration": 7,
    "start_time": "2023-05-12T05:11:23.719Z"
   },
   {
    "duration": 7,
    "start_time": "2023-05-12T05:11:23.727Z"
   },
   {
    "duration": 133,
    "start_time": "2023-05-12T05:11:23.735Z"
   },
   {
    "duration": 111,
    "start_time": "2023-05-12T05:11:23.870Z"
   },
   {
    "duration": 213,
    "start_time": "2023-05-12T05:11:23.983Z"
   },
   {
    "duration": 149,
    "start_time": "2023-05-12T05:11:24.198Z"
   },
   {
    "duration": 217,
    "start_time": "2023-05-12T05:11:24.349Z"
   },
   {
    "duration": 15,
    "start_time": "2023-05-12T05:11:24.567Z"
   },
   {
    "duration": 32,
    "start_time": "2023-05-12T05:11:24.583Z"
   },
   {
    "duration": 8,
    "start_time": "2023-05-12T05:11:24.616Z"
   },
   {
    "duration": 17,
    "start_time": "2023-05-12T05:11:24.626Z"
   },
   {
    "duration": 240,
    "start_time": "2023-05-12T05:11:24.644Z"
   },
   {
    "duration": 152,
    "start_time": "2023-05-12T05:11:24.886Z"
   },
   {
    "duration": 6,
    "start_time": "2023-05-12T05:11:25.039Z"
   },
   {
    "duration": 17,
    "start_time": "2023-05-12T05:11:25.046Z"
   },
   {
    "duration": 161,
    "start_time": "2023-05-12T05:11:25.064Z"
   },
   {
    "duration": 150,
    "start_time": "2023-05-12T05:11:25.226Z"
   },
   {
    "duration": 2,
    "start_time": "2023-05-12T05:11:35.919Z"
   },
   {
    "duration": 92,
    "start_time": "2023-05-12T05:12:38.015Z"
   },
   {
    "duration": 3,
    "start_time": "2023-05-12T05:12:43.457Z"
   },
   {
    "duration": 4,
    "start_time": "2023-05-12T05:13:00.038Z"
   },
   {
    "duration": 12,
    "start_time": "2023-05-12T05:13:05.010Z"
   },
   {
    "duration": 5,
    "start_time": "2023-05-12T05:19:41.881Z"
   },
   {
    "duration": 13,
    "start_time": "2023-05-12T05:19:43.030Z"
   },
   {
    "duration": 3,
    "start_time": "2023-05-12T05:20:24.940Z"
   },
   {
    "duration": 24,
    "start_time": "2023-05-12T05:20:26.526Z"
   },
   {
    "duration": 173,
    "start_time": "2023-05-12T05:26:52.734Z"
   },
   {
    "duration": 194,
    "start_time": "2023-05-12T05:28:04.851Z"
   },
   {
    "duration": 27680,
    "start_time": "2023-05-12T05:28:29.670Z"
   },
   {
    "duration": 19,
    "start_time": "2023-05-12T05:31:29.479Z"
   },
   {
    "duration": 931,
    "start_time": "2023-05-12T05:31:45.401Z"
   },
   {
    "duration": 815,
    "start_time": "2023-05-12T05:32:23.642Z"
   },
   {
    "duration": 745,
    "start_time": "2023-05-12T05:34:46.532Z"
   },
   {
    "duration": 2,
    "start_time": "2023-05-12T05:34:57.504Z"
   },
   {
    "duration": 71,
    "start_time": "2023-05-12T05:34:57.509Z"
   },
   {
    "duration": 15,
    "start_time": "2023-05-12T05:34:57.582Z"
   },
   {
    "duration": 19,
    "start_time": "2023-05-12T05:34:57.598Z"
   },
   {
    "duration": 12,
    "start_time": "2023-05-12T05:34:57.618Z"
   },
   {
    "duration": 218,
    "start_time": "2023-05-12T05:34:57.631Z"
   },
   {
    "duration": 425,
    "start_time": "2023-05-12T05:34:57.850Z"
   },
   {
    "duration": 19,
    "start_time": "2023-05-12T05:34:58.276Z"
   },
   {
    "duration": 5,
    "start_time": "2023-05-12T05:34:58.296Z"
   },
   {
    "duration": 8,
    "start_time": "2023-05-12T05:34:58.302Z"
   },
   {
    "duration": 9,
    "start_time": "2023-05-12T05:34:58.312Z"
   },
   {
    "duration": 25,
    "start_time": "2023-05-12T05:34:58.322Z"
   },
   {
    "duration": 117,
    "start_time": "2023-05-12T05:34:58.348Z"
   },
   {
    "duration": 107,
    "start_time": "2023-05-12T05:34:58.467Z"
   },
   {
    "duration": 289,
    "start_time": "2023-05-12T05:34:58.576Z"
   },
   {
    "duration": 152,
    "start_time": "2023-05-12T05:34:58.866Z"
   },
   {
    "duration": 134,
    "start_time": "2023-05-12T05:34:59.020Z"
   },
   {
    "duration": 15,
    "start_time": "2023-05-12T05:34:59.155Z"
   },
   {
    "duration": 29,
    "start_time": "2023-05-12T05:34:59.171Z"
   },
   {
    "duration": 8,
    "start_time": "2023-05-12T05:34:59.202Z"
   },
   {
    "duration": 21,
    "start_time": "2023-05-12T05:34:59.211Z"
   },
   {
    "duration": 153,
    "start_time": "2023-05-12T05:34:59.233Z"
   },
   {
    "duration": 147,
    "start_time": "2023-05-12T05:34:59.387Z"
   },
   {
    "duration": 6,
    "start_time": "2023-05-12T05:34:59.536Z"
   },
   {
    "duration": 18,
    "start_time": "2023-05-12T05:34:59.543Z"
   },
   {
    "duration": 147,
    "start_time": "2023-05-12T05:34:59.563Z"
   },
   {
    "duration": 135,
    "start_time": "2023-05-12T05:34:59.711Z"
   },
   {
    "duration": 3,
    "start_time": "2023-05-12T05:34:59.848Z"
   },
   {
    "duration": 21,
    "start_time": "2023-05-12T05:34:59.854Z"
   },
   {
    "duration": 28812,
    "start_time": "2023-05-12T05:35:04.919Z"
   },
   {
    "duration": 16,
    "start_time": "2023-05-12T05:38:33.359Z"
   },
   {
    "duration": 2,
    "start_time": "2023-05-12T05:40:37.554Z"
   },
   {
    "duration": 85,
    "start_time": "2023-05-12T05:40:37.558Z"
   },
   {
    "duration": 15,
    "start_time": "2023-05-12T05:40:37.645Z"
   },
   {
    "duration": 19,
    "start_time": "2023-05-12T05:40:37.661Z"
   },
   {
    "duration": 17,
    "start_time": "2023-05-12T05:40:37.683Z"
   },
   {
    "duration": 228,
    "start_time": "2023-05-12T05:40:37.701Z"
   },
   {
    "duration": 441,
    "start_time": "2023-05-12T05:40:37.931Z"
   },
   {
    "duration": 21,
    "start_time": "2023-05-12T05:40:38.374Z"
   },
   {
    "duration": 7,
    "start_time": "2023-05-12T05:40:38.397Z"
   },
   {
    "duration": 10,
    "start_time": "2023-05-12T05:40:38.405Z"
   },
   {
    "duration": 10,
    "start_time": "2023-05-12T05:40:38.417Z"
   },
   {
    "duration": 11,
    "start_time": "2023-05-12T05:40:38.428Z"
   },
   {
    "duration": 211,
    "start_time": "2023-05-12T05:40:38.441Z"
   },
   {
    "duration": 106,
    "start_time": "2023-05-12T05:40:38.654Z"
   },
   {
    "duration": 217,
    "start_time": "2023-05-12T05:40:38.761Z"
   },
   {
    "duration": 155,
    "start_time": "2023-05-12T05:40:38.980Z"
   },
   {
    "duration": 131,
    "start_time": "2023-05-12T05:40:39.136Z"
   },
   {
    "duration": 15,
    "start_time": "2023-05-12T05:40:39.268Z"
   },
   {
    "duration": 23,
    "start_time": "2023-05-12T05:40:39.284Z"
   },
   {
    "duration": 8,
    "start_time": "2023-05-12T05:40:39.308Z"
   },
   {
    "duration": 15,
    "start_time": "2023-05-12T05:40:39.318Z"
   },
   {
    "duration": 170,
    "start_time": "2023-05-12T05:40:39.335Z"
   },
   {
    "duration": 143,
    "start_time": "2023-05-12T05:40:39.507Z"
   },
   {
    "duration": 6,
    "start_time": "2023-05-12T05:40:39.651Z"
   },
   {
    "duration": 19,
    "start_time": "2023-05-12T05:40:39.659Z"
   },
   {
    "duration": 145,
    "start_time": "2023-05-12T05:40:39.679Z"
   },
   {
    "duration": 138,
    "start_time": "2023-05-12T05:40:39.825Z"
   },
   {
    "duration": 3,
    "start_time": "2023-05-12T05:40:39.964Z"
   },
   {
    "duration": 18,
    "start_time": "2023-05-12T05:40:48.740Z"
   },
   {
    "duration": 2,
    "start_time": "2023-05-15T04:13:01.824Z"
   },
   {
    "duration": 122,
    "start_time": "2023-05-15T04:13:01.828Z"
   },
   {
    "duration": 21,
    "start_time": "2023-05-15T04:13:01.951Z"
   },
   {
    "duration": 94,
    "start_time": "2023-05-15T04:13:01.975Z"
   },
   {
    "duration": 109,
    "start_time": "2023-05-15T04:13:02.070Z"
   },
   {
    "duration": 287,
    "start_time": "2023-05-15T04:13:02.181Z"
   },
   {
    "duration": 500,
    "start_time": "2023-05-15T04:13:02.470Z"
   },
   {
    "duration": 11,
    "start_time": "2023-05-15T04:13:02.971Z"
   },
   {
    "duration": 23,
    "start_time": "2023-05-15T04:13:02.995Z"
   },
   {
    "duration": 16,
    "start_time": "2023-05-15T04:13:03.026Z"
   },
   {
    "duration": 15,
    "start_time": "2023-05-15T04:13:03.044Z"
   },
   {
    "duration": 9,
    "start_time": "2023-05-15T04:13:03.060Z"
   },
   {
    "duration": 135,
    "start_time": "2023-05-15T04:13:03.070Z"
   },
   {
    "duration": 181,
    "start_time": "2023-05-15T04:13:03.206Z"
   },
   {
    "duration": 242,
    "start_time": "2023-05-15T04:13:03.388Z"
   },
   {
    "duration": 148,
    "start_time": "2023-05-15T04:13:03.632Z"
   },
   {
    "duration": 146,
    "start_time": "2023-05-15T04:13:03.782Z"
   },
   {
    "duration": 16,
    "start_time": "2023-05-15T04:13:03.929Z"
   },
   {
    "duration": 19,
    "start_time": "2023-05-15T04:13:03.946Z"
   },
   {
    "duration": 8,
    "start_time": "2023-05-15T04:13:03.966Z"
   },
   {
    "duration": 69,
    "start_time": "2023-05-15T04:13:03.975Z"
   },
   {
    "duration": 229,
    "start_time": "2023-05-15T04:13:04.046Z"
   },
   {
    "duration": 168,
    "start_time": "2023-05-15T04:13:04.277Z"
   },
   {
    "duration": 7,
    "start_time": "2023-05-15T04:13:04.447Z"
   },
   {
    "duration": 19,
    "start_time": "2023-05-15T04:13:04.456Z"
   },
   {
    "duration": 213,
    "start_time": "2023-05-15T04:13:04.477Z"
   },
   {
    "duration": 169,
    "start_time": "2023-05-15T04:13:04.699Z"
   },
   {
    "duration": 2,
    "start_time": "2023-05-15T04:13:04.871Z"
   },
   {
    "duration": 67,
    "start_time": "2023-05-15T04:13:04.875Z"
   },
   {
    "duration": 10,
    "start_time": "2023-05-15T04:15:04.804Z"
   },
   {
    "duration": 1289,
    "start_time": "2023-05-15T04:15:19.328Z"
   },
   {
    "duration": 9,
    "start_time": "2023-05-15T04:15:34.364Z"
   },
   {
    "duration": 17,
    "start_time": "2023-05-15T04:15:39.855Z"
   },
   {
    "duration": 6,
    "start_time": "2023-05-15T04:15:58.653Z"
   },
   {
    "duration": 5,
    "start_time": "2023-05-15T04:17:52.358Z"
   },
   {
    "duration": 7,
    "start_time": "2023-05-15T04:17:56.821Z"
   },
   {
    "duration": 10,
    "start_time": "2023-05-15T04:18:25.952Z"
   },
   {
    "duration": 43433,
    "start_time": "2023-05-15T04:22:04.082Z"
   },
   {
    "duration": 876,
    "start_time": "2023-05-15T13:30:17.228Z"
   },
   {
    "duration": 575,
    "start_time": "2023-05-15T13:30:18.107Z"
   },
   {
    "duration": 25,
    "start_time": "2023-05-15T13:30:18.684Z"
   },
   {
    "duration": 17,
    "start_time": "2023-05-15T13:30:18.710Z"
   },
   {
    "duration": 15,
    "start_time": "2023-05-15T13:30:18.730Z"
   },
   {
    "duration": 772,
    "start_time": "2023-05-15T13:30:18.746Z"
   },
   {
    "duration": 751,
    "start_time": "2023-05-15T13:30:19.520Z"
   },
   {
    "duration": 15,
    "start_time": "2023-05-15T13:30:20.273Z"
   },
   {
    "duration": 6,
    "start_time": "2023-05-15T13:30:20.290Z"
   },
   {
    "duration": 7,
    "start_time": "2023-05-15T13:30:20.298Z"
   },
   {
    "duration": 5,
    "start_time": "2023-05-15T13:30:20.307Z"
   },
   {
    "duration": 16,
    "start_time": "2023-05-15T13:30:20.313Z"
   },
   {
    "duration": 162,
    "start_time": "2023-05-15T13:30:20.331Z"
   },
   {
    "duration": 136,
    "start_time": "2023-05-15T13:30:20.496Z"
   },
   {
    "duration": 257,
    "start_time": "2023-05-15T13:30:20.633Z"
   },
   {
    "duration": 183,
    "start_time": "2023-05-15T13:30:20.892Z"
   },
   {
    "duration": 258,
    "start_time": "2023-05-15T13:30:21.077Z"
   },
   {
    "duration": 30,
    "start_time": "2023-05-15T13:30:21.337Z"
   },
   {
    "duration": 21,
    "start_time": "2023-05-15T13:30:21.369Z"
   },
   {
    "duration": 11,
    "start_time": "2023-05-15T13:30:21.392Z"
   },
   {
    "duration": 20,
    "start_time": "2023-05-15T13:30:21.405Z"
   },
   {
    "duration": 204,
    "start_time": "2023-05-15T13:30:21.426Z"
   },
   {
    "duration": 185,
    "start_time": "2023-05-15T13:30:21.631Z"
   },
   {
    "duration": 7,
    "start_time": "2023-05-15T13:30:21.818Z"
   },
   {
    "duration": 38,
    "start_time": "2023-05-15T13:30:21.827Z"
   },
   {
    "duration": 159,
    "start_time": "2023-05-15T13:30:21.867Z"
   },
   {
    "duration": 173,
    "start_time": "2023-05-15T13:30:22.028Z"
   },
   {
    "duration": 3,
    "start_time": "2023-05-15T13:30:22.203Z"
   },
   {
    "duration": 26,
    "start_time": "2023-05-15T13:30:22.208Z"
   },
   {
    "duration": 110,
    "start_time": "2023-05-15T13:32:09.427Z"
   },
   {
    "duration": 2419,
    "start_time": "2023-05-15T13:32:16.628Z"
   },
   {
    "duration": 5613,
    "start_time": "2023-05-15T13:32:25.482Z"
   },
   {
    "duration": 18,
    "start_time": "2023-05-15T13:42:14.923Z"
   },
   {
    "duration": 7,
    "start_time": "2023-05-15T13:42:35.108Z"
   },
   {
    "duration": 16,
    "start_time": "2023-05-15T13:42:51.485Z"
   },
   {
    "duration": 9,
    "start_time": "2023-05-15T13:42:54.111Z"
   },
   {
    "duration": 17,
    "start_time": "2023-05-15T13:48:07.823Z"
   },
   {
    "duration": 8,
    "start_time": "2023-05-15T13:48:10.585Z"
   },
   {
    "duration": 16,
    "start_time": "2023-05-15T13:48:40.948Z"
   },
   {
    "duration": 11,
    "start_time": "2023-05-15T13:49:32.842Z"
   },
   {
    "duration": 15,
    "start_time": "2023-05-15T13:50:02.586Z"
   },
   {
    "duration": 18,
    "start_time": "2023-05-15T13:50:07.520Z"
   },
   {
    "duration": 7,
    "start_time": "2023-05-15T13:50:10.886Z"
   },
   {
    "duration": 8,
    "start_time": "2023-05-15T13:50:31.898Z"
   },
   {
    "duration": 8,
    "start_time": "2023-05-15T13:50:34.520Z"
   },
   {
    "duration": 50556,
    "start_time": "2023-05-15T13:52:08.843Z"
   },
   {
    "duration": 20,
    "start_time": "2023-05-15T14:14:14.968Z"
   },
   {
    "duration": 26,
    "start_time": "2023-05-15T14:14:21.837Z"
   },
   {
    "duration": 20,
    "start_time": "2023-05-15T14:14:24.017Z"
   },
   {
    "duration": 27,
    "start_time": "2023-05-15T14:14:33.201Z"
   },
   {
    "duration": 26,
    "start_time": "2023-05-15T14:20:23.177Z"
   },
   {
    "duration": 22,
    "start_time": "2023-05-15T14:20:32.057Z"
   },
   {
    "duration": 18,
    "start_time": "2023-05-15T14:20:36.922Z"
   },
   {
    "duration": 35008,
    "start_time": "2023-05-15T14:20:58.400Z"
   },
   {
    "duration": 16,
    "start_time": "2023-05-15T14:23:11.345Z"
   },
   {
    "duration": 35070,
    "start_time": "2023-05-15T14:23:47.037Z"
   },
   {
    "duration": 790,
    "start_time": "2023-05-16T05:34:01.208Z"
   },
   {
    "duration": 524,
    "start_time": "2023-05-16T05:34:02.000Z"
   },
   {
    "duration": 24,
    "start_time": "2023-05-16T05:34:02.526Z"
   },
   {
    "duration": 46,
    "start_time": "2023-05-16T05:34:02.553Z"
   },
   {
    "duration": 37,
    "start_time": "2023-05-16T05:34:02.600Z"
   },
   {
    "duration": 668,
    "start_time": "2023-05-16T05:34:02.639Z"
   },
   {
    "duration": 560,
    "start_time": "2023-05-16T05:34:03.309Z"
   },
   {
    "duration": 14,
    "start_time": "2023-05-16T05:34:03.871Z"
   },
   {
    "duration": 8,
    "start_time": "2023-05-16T05:34:03.887Z"
   },
   {
    "duration": 11,
    "start_time": "2023-05-16T05:34:03.898Z"
   },
   {
    "duration": 6,
    "start_time": "2023-05-16T05:34:03.911Z"
   },
   {
    "duration": 38,
    "start_time": "2023-05-16T05:34:03.919Z"
   },
   {
    "duration": 131,
    "start_time": "2023-05-16T05:34:03.959Z"
   },
   {
    "duration": 103,
    "start_time": "2023-05-16T05:34:04.092Z"
   },
   {
    "duration": 215,
    "start_time": "2023-05-16T05:34:04.197Z"
   },
   {
    "duration": 134,
    "start_time": "2023-05-16T05:34:04.414Z"
   },
   {
    "duration": 227,
    "start_time": "2023-05-16T05:34:04.549Z"
   },
   {
    "duration": 17,
    "start_time": "2023-05-16T05:34:04.778Z"
   },
   {
    "duration": 18,
    "start_time": "2023-05-16T05:34:04.796Z"
   },
   {
    "duration": 9,
    "start_time": "2023-05-16T05:34:04.815Z"
   },
   {
    "duration": 40,
    "start_time": "2023-05-16T05:34:04.826Z"
   },
   {
    "duration": 160,
    "start_time": "2023-05-16T05:34:04.867Z"
   },
   {
    "duration": 146,
    "start_time": "2023-05-16T05:34:05.029Z"
   },
   {
    "duration": 6,
    "start_time": "2023-05-16T05:34:05.177Z"
   },
   {
    "duration": 28,
    "start_time": "2023-05-16T05:34:05.184Z"
   },
   {
    "duration": 140,
    "start_time": "2023-05-16T05:34:05.214Z"
   },
   {
    "duration": 140,
    "start_time": "2023-05-16T05:34:05.356Z"
   },
   {
    "duration": 2,
    "start_time": "2023-05-16T05:34:05.499Z"
   },
   {
    "duration": 25,
    "start_time": "2023-05-16T05:34:05.502Z"
   },
   {
    "duration": 6,
    "start_time": "2023-05-16T05:34:05.529Z"
   },
   {
    "duration": 106,
    "start_time": "2023-05-16T05:35:22.254Z"
   },
   {
    "duration": 43079,
    "start_time": "2023-05-16T05:35:35.050Z"
   },
   {
    "duration": 26,
    "start_time": "2023-05-16T05:36:51.216Z"
   },
   {
    "duration": 3,
    "start_time": "2023-05-16T05:37:02.477Z"
   },
   {
    "duration": 88,
    "start_time": "2023-05-16T05:37:02.484Z"
   },
   {
    "duration": 16,
    "start_time": "2023-05-16T05:37:02.573Z"
   },
   {
    "duration": 32,
    "start_time": "2023-05-16T05:37:02.591Z"
   },
   {
    "duration": 12,
    "start_time": "2023-05-16T05:37:02.625Z"
   },
   {
    "duration": 226,
    "start_time": "2023-05-16T05:37:02.639Z"
   },
   {
    "duration": 537,
    "start_time": "2023-05-16T05:37:02.866Z"
   },
   {
    "duration": 12,
    "start_time": "2023-05-16T05:37:03.404Z"
   },
   {
    "duration": 6,
    "start_time": "2023-05-16T05:37:03.417Z"
   },
   {
    "duration": 33,
    "start_time": "2023-05-16T05:37:03.424Z"
   },
   {
    "duration": 24,
    "start_time": "2023-05-16T05:37:03.460Z"
   },
   {
    "duration": 22,
    "start_time": "2023-05-16T05:37:03.486Z"
   },
   {
    "duration": 134,
    "start_time": "2023-05-16T05:37:03.510Z"
   },
   {
    "duration": 134,
    "start_time": "2023-05-16T05:37:03.645Z"
   },
   {
    "duration": 246,
    "start_time": "2023-05-16T05:37:03.781Z"
   },
   {
    "duration": 140,
    "start_time": "2023-05-16T05:37:04.028Z"
   },
   {
    "duration": 140,
    "start_time": "2023-05-16T05:37:04.170Z"
   },
   {
    "duration": 15,
    "start_time": "2023-05-16T05:37:04.312Z"
   },
   {
    "duration": 34,
    "start_time": "2023-05-16T05:37:04.329Z"
   },
   {
    "duration": 8,
    "start_time": "2023-05-16T05:37:04.364Z"
   },
   {
    "duration": 27,
    "start_time": "2023-05-16T05:37:04.374Z"
   },
   {
    "duration": 158,
    "start_time": "2023-05-16T05:37:04.402Z"
   },
   {
    "duration": 149,
    "start_time": "2023-05-16T05:37:04.562Z"
   },
   {
    "duration": 6,
    "start_time": "2023-05-16T05:37:04.713Z"
   },
   {
    "duration": 17,
    "start_time": "2023-05-16T05:37:04.721Z"
   },
   {
    "duration": 154,
    "start_time": "2023-05-16T05:37:04.740Z"
   },
   {
    "duration": 151,
    "start_time": "2023-05-16T05:37:04.896Z"
   },
   {
    "duration": 10,
    "start_time": "2023-05-16T05:37:05.048Z"
   },
   {
    "duration": 36,
    "start_time": "2023-05-16T05:37:05.062Z"
   },
   {
    "duration": 7,
    "start_time": "2023-05-16T05:37:05.100Z"
   },
   {
    "duration": 27,
    "start_time": "2023-05-16T05:37:09.158Z"
   },
   {
    "duration": 27963,
    "start_time": "2023-05-16T05:38:58.282Z"
   },
   {
    "duration": 28701,
    "start_time": "2023-05-16T05:39:57.382Z"
   },
   {
    "duration": 43021,
    "start_time": "2023-05-16T05:40:34.002Z"
   },
   {
    "duration": 34266,
    "start_time": "2023-05-16T05:41:48.658Z"
   },
   {
    "duration": 35683,
    "start_time": "2023-05-16T05:43:57.019Z"
   },
   {
    "duration": 63970,
    "start_time": "2023-05-16T05:47:18.769Z"
   },
   {
    "duration": 8,
    "start_time": "2023-05-16T05:49:30.995Z"
   },
   {
    "duration": 7,
    "start_time": "2023-05-16T05:49:58.448Z"
   },
   {
    "duration": 7,
    "start_time": "2023-05-16T05:50:02.715Z"
   },
   {
    "duration": 3,
    "start_time": "2023-05-16T05:50:09.680Z"
   },
   {
    "duration": 76,
    "start_time": "2023-05-16T05:50:09.685Z"
   },
   {
    "duration": 15,
    "start_time": "2023-05-16T05:50:09.763Z"
   },
   {
    "duration": 30,
    "start_time": "2023-05-16T05:50:09.779Z"
   },
   {
    "duration": 14,
    "start_time": "2023-05-16T05:50:09.811Z"
   },
   {
    "duration": 235,
    "start_time": "2023-05-16T05:50:09.827Z"
   },
   {
    "duration": 520,
    "start_time": "2023-05-16T05:50:10.064Z"
   },
   {
    "duration": 13,
    "start_time": "2023-05-16T05:50:10.585Z"
   },
   {
    "duration": 6,
    "start_time": "2023-05-16T05:50:10.600Z"
   },
   {
    "duration": 14,
    "start_time": "2023-05-16T05:50:10.607Z"
   },
   {
    "duration": 5,
    "start_time": "2023-05-16T05:50:10.624Z"
   },
   {
    "duration": 29,
    "start_time": "2023-05-16T05:50:10.631Z"
   },
   {
    "duration": 133,
    "start_time": "2023-05-16T05:50:10.662Z"
   },
   {
    "duration": 199,
    "start_time": "2023-05-16T05:50:10.796Z"
   },
   {
    "duration": 214,
    "start_time": "2023-05-16T05:50:10.997Z"
   },
   {
    "duration": 136,
    "start_time": "2023-05-16T05:50:11.213Z"
   },
   {
    "duration": 139,
    "start_time": "2023-05-16T05:50:11.350Z"
   },
   {
    "duration": 15,
    "start_time": "2023-05-16T05:50:11.491Z"
   },
   {
    "duration": 17,
    "start_time": "2023-05-16T05:50:11.507Z"
   },
   {
    "duration": 8,
    "start_time": "2023-05-16T05:50:11.525Z"
   },
   {
    "duration": 36,
    "start_time": "2023-05-16T05:50:11.534Z"
   },
   {
    "duration": 164,
    "start_time": "2023-05-16T05:50:11.571Z"
   },
   {
    "duration": 158,
    "start_time": "2023-05-16T05:50:11.737Z"
   },
   {
    "duration": 6,
    "start_time": "2023-05-16T05:50:11.896Z"
   },
   {
    "duration": 22,
    "start_time": "2023-05-16T05:50:11.904Z"
   },
   {
    "duration": 173,
    "start_time": "2023-05-16T05:50:11.927Z"
   },
   {
    "duration": 150,
    "start_time": "2023-05-16T05:50:12.101Z"
   },
   {
    "duration": 6,
    "start_time": "2023-05-16T05:50:12.252Z"
   },
   {
    "duration": 23,
    "start_time": "2023-05-16T05:50:12.261Z"
   },
   {
    "duration": 11,
    "start_time": "2023-05-16T05:50:14.157Z"
   },
   {
    "duration": 78694,
    "start_time": "2023-05-16T05:53:28.221Z"
   },
   {
    "duration": 78428,
    "start_time": "2023-05-16T07:27:51.209Z"
   },
   {
    "duration": 40887,
    "start_time": "2023-05-16T07:29:38.828Z"
   },
   {
    "duration": 31914,
    "start_time": "2023-05-16T08:08:17.623Z"
   },
   {
    "duration": 3,
    "start_time": "2023-05-16T08:10:30.676Z"
   },
   {
    "duration": 10,
    "start_time": "2023-05-16T08:10:36.604Z"
   },
   {
    "duration": 18,
    "start_time": "2023-05-16T08:12:32.418Z"
   },
   {
    "duration": 9,
    "start_time": "2023-05-16T08:13:06.610Z"
   },
   {
    "duration": 10,
    "start_time": "2023-05-16T08:13:56.081Z"
   },
   {
    "duration": 24,
    "start_time": "2023-05-16T08:14:20.828Z"
   },
   {
    "duration": 3,
    "start_time": "2023-05-16T08:14:44.104Z"
   },
   {
    "duration": 84,
    "start_time": "2023-05-16T08:14:44.110Z"
   },
   {
    "duration": 24,
    "start_time": "2023-05-16T08:14:44.196Z"
   },
   {
    "duration": 21,
    "start_time": "2023-05-16T08:14:44.222Z"
   },
   {
    "duration": 23,
    "start_time": "2023-05-16T08:14:44.246Z"
   },
   {
    "duration": 254,
    "start_time": "2023-05-16T08:14:44.270Z"
   },
   {
    "duration": 509,
    "start_time": "2023-05-16T08:14:44.525Z"
   },
   {
    "duration": 28,
    "start_time": "2023-05-16T08:14:45.036Z"
   },
   {
    "duration": 7,
    "start_time": "2023-05-16T08:14:45.067Z"
   },
   {
    "duration": 10,
    "start_time": "2023-05-16T08:14:45.076Z"
   },
   {
    "duration": 6,
    "start_time": "2023-05-16T08:14:45.088Z"
   },
   {
    "duration": 8,
    "start_time": "2023-05-16T08:14:45.095Z"
   },
   {
    "duration": 141,
    "start_time": "2023-05-16T08:14:45.105Z"
   },
   {
    "duration": 124,
    "start_time": "2023-05-16T08:14:45.249Z"
   },
   {
    "duration": 321,
    "start_time": "2023-05-16T08:14:45.374Z"
   },
   {
    "duration": 188,
    "start_time": "2023-05-16T08:14:45.696Z"
   },
   {
    "duration": 171,
    "start_time": "2023-05-16T08:14:45.886Z"
   },
   {
    "duration": 23,
    "start_time": "2023-05-16T08:14:46.062Z"
   },
   {
    "duration": 22,
    "start_time": "2023-05-16T08:14:46.089Z"
   },
   {
    "duration": 9,
    "start_time": "2023-05-16T08:14:46.113Z"
   },
   {
    "duration": 53,
    "start_time": "2023-05-16T08:14:46.124Z"
   },
   {
    "duration": 193,
    "start_time": "2023-05-16T08:14:46.179Z"
   },
   {
    "duration": 173,
    "start_time": "2023-05-16T08:14:46.373Z"
   },
   {
    "duration": 20,
    "start_time": "2023-05-16T08:14:46.547Z"
   },
   {
    "duration": 28,
    "start_time": "2023-05-16T08:14:46.571Z"
   },
   {
    "duration": 176,
    "start_time": "2023-05-16T08:14:46.601Z"
   },
   {
    "duration": 152,
    "start_time": "2023-05-16T08:14:46.778Z"
   },
   {
    "duration": 3,
    "start_time": "2023-05-16T08:14:46.932Z"
   },
   {
    "duration": 33,
    "start_time": "2023-05-16T08:14:46.936Z"
   },
   {
    "duration": 9,
    "start_time": "2023-05-16T08:14:46.970Z"
   },
   {
    "duration": 22,
    "start_time": "2023-05-16T08:14:49.993Z"
   },
   {
    "duration": 16,
    "start_time": "2023-05-16T08:15:12.807Z"
   },
   {
    "duration": 17,
    "start_time": "2023-05-16T08:15:34.649Z"
   },
   {
    "duration": 26,
    "start_time": "2023-05-16T08:16:27.930Z"
   },
   {
    "duration": 18,
    "start_time": "2023-05-16T08:16:40.476Z"
   },
   {
    "duration": 2,
    "start_time": "2023-05-16T08:17:07.004Z"
   },
   {
    "duration": 75,
    "start_time": "2023-05-16T08:17:07.019Z"
   },
   {
    "duration": 15,
    "start_time": "2023-05-16T08:17:07.096Z"
   },
   {
    "duration": 63,
    "start_time": "2023-05-16T08:17:07.112Z"
   },
   {
    "duration": 14,
    "start_time": "2023-05-16T08:17:07.177Z"
   },
   {
    "duration": 248,
    "start_time": "2023-05-16T08:17:07.193Z"
   },
   {
    "duration": 546,
    "start_time": "2023-05-16T08:17:07.443Z"
   },
   {
    "duration": 12,
    "start_time": "2023-05-16T08:17:07.991Z"
   },
   {
    "duration": 6,
    "start_time": "2023-05-16T08:17:08.005Z"
   },
   {
    "duration": 11,
    "start_time": "2023-05-16T08:17:08.013Z"
   },
   {
    "duration": 34,
    "start_time": "2023-05-16T08:17:08.027Z"
   },
   {
    "duration": 13,
    "start_time": "2023-05-16T08:17:08.064Z"
   },
   {
    "duration": 283,
    "start_time": "2023-05-16T08:17:08.079Z"
   },
   {
    "duration": 126,
    "start_time": "2023-05-16T08:17:08.367Z"
   },
   {
    "duration": 271,
    "start_time": "2023-05-16T08:17:08.495Z"
   },
   {
    "duration": 195,
    "start_time": "2023-05-16T08:17:08.770Z"
   },
   {
    "duration": 158,
    "start_time": "2023-05-16T08:17:08.973Z"
   },
   {
    "duration": 34,
    "start_time": "2023-05-16T08:17:09.132Z"
   },
   {
    "duration": 30,
    "start_time": "2023-05-16T08:17:09.168Z"
   },
   {
    "duration": 11,
    "start_time": "2023-05-16T08:17:09.201Z"
   },
   {
    "duration": 20,
    "start_time": "2023-05-16T08:17:09.214Z"
   },
   {
    "duration": 208,
    "start_time": "2023-05-16T08:17:09.236Z"
   },
   {
    "duration": 176,
    "start_time": "2023-05-16T08:17:09.446Z"
   },
   {
    "duration": 7,
    "start_time": "2023-05-16T08:17:09.623Z"
   },
   {
    "duration": 40,
    "start_time": "2023-05-16T08:17:09.632Z"
   },
   {
    "duration": 153,
    "start_time": "2023-05-16T08:17:09.674Z"
   },
   {
    "duration": 172,
    "start_time": "2023-05-16T08:17:09.829Z"
   },
   {
    "duration": 3,
    "start_time": "2023-05-16T08:17:10.003Z"
   },
   {
    "duration": 44,
    "start_time": "2023-05-16T08:17:10.009Z"
   },
   {
    "duration": 24,
    "start_time": "2023-05-16T08:17:10.055Z"
   },
   {
    "duration": 13,
    "start_time": "2023-05-16T08:17:33.391Z"
   },
   {
    "duration": 21,
    "start_time": "2023-05-16T08:17:41.953Z"
   },
   {
    "duration": 7,
    "start_time": "2023-05-16T08:17:48.271Z"
   },
   {
    "duration": 4,
    "start_time": "2023-05-16T08:18:08.299Z"
   },
   {
    "duration": 10,
    "start_time": "2023-05-16T08:18:11.983Z"
   },
   {
    "duration": 20,
    "start_time": "2023-05-16T08:19:36.227Z"
   },
   {
    "duration": 21,
    "start_time": "2023-05-16T08:20:31.333Z"
   },
   {
    "duration": 24,
    "start_time": "2023-05-16T08:21:30.748Z"
   },
   {
    "duration": 17,
    "start_time": "2023-05-16T08:21:44.927Z"
   },
   {
    "duration": 13,
    "start_time": "2023-05-16T08:21:58.196Z"
   },
   {
    "duration": 2650,
    "start_time": "2023-05-16T08:32:30.370Z"
   },
   {
    "duration": 1404,
    "start_time": "2023-05-16T08:33:20.939Z"
   },
   {
    "duration": 1435,
    "start_time": "2023-05-16T08:33:51.520Z"
   },
   {
    "duration": 2275,
    "start_time": "2023-05-16T08:34:21.326Z"
   },
   {
    "duration": 1231,
    "start_time": "2023-05-16T08:34:48.775Z"
   },
   {
    "duration": 3737,
    "start_time": "2023-05-16T08:34:59.744Z"
   },
   {
    "duration": 71,
    "start_time": "2023-05-16T08:35:38.217Z"
   },
   {
    "duration": 16,
    "start_time": "2023-05-16T08:35:46.143Z"
   },
   {
    "duration": 3306,
    "start_time": "2023-05-16T08:36:02.270Z"
   },
   {
    "duration": 2521,
    "start_time": "2023-05-16T08:36:30.974Z"
   },
   {
    "duration": 93,
    "start_time": "2023-05-16T08:36:53.976Z"
   },
   {
    "duration": 81,
    "start_time": "2023-05-16T08:37:01.415Z"
   },
   {
    "duration": 2742,
    "start_time": "2023-05-16T08:37:10.521Z"
   },
   {
    "duration": 2668,
    "start_time": "2023-05-16T08:37:18.673Z"
   },
   {
    "duration": 85,
    "start_time": "2023-05-16T08:38:04.050Z"
   },
   {
    "duration": 2751,
    "start_time": "2023-05-16T08:39:21.518Z"
   },
   {
    "duration": 2722,
    "start_time": "2023-05-16T08:40:24.535Z"
   },
   {
    "duration": 2972,
    "start_time": "2023-05-16T08:40:31.623Z"
   },
   {
    "duration": 113,
    "start_time": "2023-05-16T08:40:55.820Z"
   },
   {
    "duration": 33600,
    "start_time": "2023-05-16T08:42:44.819Z"
   },
   {
    "duration": 19,
    "start_time": "2023-05-16T08:45:19.144Z"
   },
   {
    "duration": 4683,
    "start_time": "2023-05-16T08:47:49.347Z"
   },
   {
    "duration": 1217,
    "start_time": "2023-05-16T08:48:18.220Z"
   },
   {
    "duration": 1283,
    "start_time": "2023-05-16T08:48:29.272Z"
   },
   {
    "duration": 1231,
    "start_time": "2023-05-16T08:48:36.855Z"
   },
   {
    "duration": 9657,
    "start_time": "2023-05-16T08:48:45.967Z"
   },
   {
    "duration": 1225,
    "start_time": "2023-05-16T08:50:45.258Z"
   },
   {
    "duration": 3632,
    "start_time": "2023-05-16T08:50:49.860Z"
   },
   {
    "duration": 3156,
    "start_time": "2023-05-16T08:50:56.324Z"
   },
   {
    "duration": 1359,
    "start_time": "2023-05-16T08:51:18.906Z"
   },
   {
    "duration": 3330,
    "start_time": "2023-05-16T08:51:27.212Z"
   },
   {
    "duration": 4136,
    "start_time": "2023-05-16T08:52:09.943Z"
   },
   {
    "duration": 93,
    "start_time": "2023-05-16T08:52:23.583Z"
   },
   {
    "duration": 3821,
    "start_time": "2023-05-16T08:52:26.366Z"
   },
   {
    "duration": 3498,
    "start_time": "2023-05-16T08:52:31.328Z"
   },
   {
    "duration": 3656,
    "start_time": "2023-05-16T08:52:46.668Z"
   },
   {
    "duration": 12,
    "start_time": "2023-05-16T08:53:42.480Z"
   },
   {
    "duration": 14,
    "start_time": "2023-05-16T08:54:42.642Z"
   },
   {
    "duration": 7897,
    "start_time": "2023-05-16T08:56:29.260Z"
   },
   {
    "duration": 4057,
    "start_time": "2023-05-16T08:56:39.656Z"
   },
   {
    "duration": 4006,
    "start_time": "2023-05-16T08:56:51.862Z"
   },
   {
    "duration": 7202,
    "start_time": "2023-05-16T08:57:48.359Z"
   },
   {
    "duration": 6627,
    "start_time": "2023-05-16T08:58:05.820Z"
   },
   {
    "duration": 3,
    "start_time": "2023-05-16T08:58:34.767Z"
   },
   {
    "duration": 67,
    "start_time": "2023-05-16T08:58:34.772Z"
   },
   {
    "duration": 16,
    "start_time": "2023-05-16T08:58:34.840Z"
   },
   {
    "duration": 33,
    "start_time": "2023-05-16T08:58:34.858Z"
   },
   {
    "duration": 19,
    "start_time": "2023-05-16T08:58:34.893Z"
   },
   {
    "duration": 265,
    "start_time": "2023-05-16T08:58:34.915Z"
   },
   {
    "duration": 624,
    "start_time": "2023-05-16T08:58:35.181Z"
   },
   {
    "duration": 15,
    "start_time": "2023-05-16T08:58:35.807Z"
   },
   {
    "duration": 7,
    "start_time": "2023-05-16T08:58:35.825Z"
   },
   {
    "duration": 10,
    "start_time": "2023-05-16T08:58:35.856Z"
   },
   {
    "duration": 18,
    "start_time": "2023-05-16T08:58:35.868Z"
   },
   {
    "duration": 17,
    "start_time": "2023-05-16T08:58:35.888Z"
   },
   {
    "duration": 156,
    "start_time": "2023-05-16T08:58:35.907Z"
   },
   {
    "duration": 141,
    "start_time": "2023-05-16T08:58:36.066Z"
   },
   {
    "duration": 267,
    "start_time": "2023-05-16T08:58:36.209Z"
   },
   {
    "duration": 177,
    "start_time": "2023-05-16T08:58:36.478Z"
   },
   {
    "duration": 182,
    "start_time": "2023-05-16T08:58:36.658Z"
   },
   {
    "duration": 33,
    "start_time": "2023-05-16T08:58:36.842Z"
   },
   {
    "duration": 22,
    "start_time": "2023-05-16T08:58:36.878Z"
   },
   {
    "duration": 13,
    "start_time": "2023-05-16T08:58:36.903Z"
   },
   {
    "duration": 41,
    "start_time": "2023-05-16T08:58:36.918Z"
   },
   {
    "duration": 194,
    "start_time": "2023-05-16T08:58:36.961Z"
   },
   {
    "duration": 187,
    "start_time": "2023-05-16T08:58:37.158Z"
   },
   {
    "duration": 11,
    "start_time": "2023-05-16T08:58:37.356Z"
   },
   {
    "duration": 29,
    "start_time": "2023-05-16T08:58:37.368Z"
   },
   {
    "duration": 187,
    "start_time": "2023-05-16T08:58:37.399Z"
   },
   {
    "duration": 179,
    "start_time": "2023-05-16T08:58:37.588Z"
   },
   {
    "duration": 3,
    "start_time": "2023-05-16T08:58:37.769Z"
   },
   {
    "duration": 31,
    "start_time": "2023-05-16T08:58:37.774Z"
   },
   {
    "duration": 125,
    "start_time": "2023-05-16T09:10:32.566Z"
   },
   {
    "duration": 116,
    "start_time": "2023-05-16T09:10:49.946Z"
   },
   {
    "duration": 1737,
    "start_time": "2023-05-16T09:11:03.114Z"
   },
   {
    "duration": 76554,
    "start_time": "2023-05-16T09:11:51.182Z"
   },
   {
    "duration": 106593,
    "start_time": "2023-05-16T09:15:07.157Z"
   },
   {
    "duration": 827,
    "start_time": "2023-05-16T11:16:02.292Z"
   },
   {
    "duration": 298,
    "start_time": "2023-05-16T11:16:03.121Z"
   },
   {
    "duration": 28,
    "start_time": "2023-05-16T11:16:03.421Z"
   },
   {
    "duration": 19,
    "start_time": "2023-05-16T11:16:03.451Z"
   },
   {
    "duration": 15,
    "start_time": "2023-05-16T11:16:03.473Z"
   },
   {
    "duration": 706,
    "start_time": "2023-05-16T11:16:03.489Z"
   },
   {
    "duration": 587,
    "start_time": "2023-05-16T11:16:04.197Z"
   },
   {
    "duration": 13,
    "start_time": "2023-05-16T11:16:04.786Z"
   },
   {
    "duration": 9,
    "start_time": "2023-05-16T11:16:04.801Z"
   },
   {
    "duration": 25,
    "start_time": "2023-05-16T11:16:04.811Z"
   },
   {
    "duration": 18,
    "start_time": "2023-05-16T11:16:04.838Z"
   },
   {
    "duration": 9,
    "start_time": "2023-05-16T11:16:04.858Z"
   },
   {
    "duration": 142,
    "start_time": "2023-05-16T11:16:04.869Z"
   },
   {
    "duration": 123,
    "start_time": "2023-05-16T11:16:05.014Z"
   },
   {
    "duration": 253,
    "start_time": "2023-05-16T11:16:05.139Z"
   },
   {
    "duration": 164,
    "start_time": "2023-05-16T11:16:05.394Z"
   },
   {
    "duration": 252,
    "start_time": "2023-05-16T11:16:05.560Z"
   },
   {
    "duration": 18,
    "start_time": "2023-05-16T11:16:05.814Z"
   },
   {
    "duration": 36,
    "start_time": "2023-05-16T11:16:05.833Z"
   },
   {
    "duration": 11,
    "start_time": "2023-05-16T11:16:05.871Z"
   },
   {
    "duration": 18,
    "start_time": "2023-05-16T11:16:05.883Z"
   },
   {
    "duration": 183,
    "start_time": "2023-05-16T11:16:05.904Z"
   },
   {
    "duration": 174,
    "start_time": "2023-05-16T11:16:06.089Z"
   },
   {
    "duration": 7,
    "start_time": "2023-05-16T11:16:06.265Z"
   },
   {
    "duration": 27,
    "start_time": "2023-05-16T11:16:06.276Z"
   },
   {
    "duration": 164,
    "start_time": "2023-05-16T11:16:06.305Z"
   },
   {
    "duration": 157,
    "start_time": "2023-05-16T11:16:06.470Z"
   },
   {
    "duration": 2,
    "start_time": "2023-05-16T11:16:06.629Z"
   },
   {
    "duration": 36,
    "start_time": "2023-05-16T11:16:06.633Z"
   },
   {
    "duration": 112,
    "start_time": "2023-05-16T11:18:35.861Z"
   },
   {
    "duration": 11725,
    "start_time": "2023-05-16T11:18:45.154Z"
   },
   {
    "duration": 5,
    "start_time": "2023-05-16T11:19:12.703Z"
   },
   {
    "duration": 5,
    "start_time": "2023-05-16T11:19:27.294Z"
   },
   {
    "duration": 21,
    "start_time": "2023-05-16T11:19:42.058Z"
   },
   {
    "duration": 12541,
    "start_time": "2023-05-16T11:19:57.617Z"
   },
   {
    "duration": 19,
    "start_time": "2023-05-16T11:20:39.921Z"
   },
   {
    "duration": 9,
    "start_time": "2023-05-16T11:20:52.315Z"
   },
   {
    "duration": 15,
    "start_time": "2023-05-16T11:20:57.299Z"
   },
   {
    "duration": 1005,
    "start_time": "2023-05-16T17:16:54.912Z"
   },
   {
    "duration": 313,
    "start_time": "2023-05-16T17:16:55.919Z"
   },
   {
    "duration": 31,
    "start_time": "2023-05-16T17:16:56.234Z"
   },
   {
    "duration": 29,
    "start_time": "2023-05-16T17:16:56.267Z"
   },
   {
    "duration": 54,
    "start_time": "2023-05-16T17:16:56.299Z"
   },
   {
    "duration": 1132,
    "start_time": "2023-05-16T17:16:56.356Z"
   },
   {
    "duration": 742,
    "start_time": "2023-05-16T17:16:57.494Z"
   },
   {
    "duration": 16,
    "start_time": "2023-05-16T17:16:58.238Z"
   },
   {
    "duration": 66,
    "start_time": "2023-05-16T17:16:58.256Z"
   },
   {
    "duration": 35,
    "start_time": "2023-05-16T17:16:58.324Z"
   },
   {
    "duration": 54,
    "start_time": "2023-05-16T17:16:58.362Z"
   },
   {
    "duration": 41,
    "start_time": "2023-05-16T17:16:58.419Z"
   },
   {
    "duration": 219,
    "start_time": "2023-05-16T17:16:58.462Z"
   },
   {
    "duration": 151,
    "start_time": "2023-05-16T17:16:58.690Z"
   },
   {
    "duration": 320,
    "start_time": "2023-05-16T17:16:58.843Z"
   },
   {
    "duration": 332,
    "start_time": "2023-05-16T17:16:59.175Z"
   },
   {
    "duration": 184,
    "start_time": "2023-05-16T17:16:59.512Z"
   },
   {
    "duration": 24,
    "start_time": "2023-05-16T17:16:59.699Z"
   },
   {
    "duration": 64,
    "start_time": "2023-05-16T17:16:59.724Z"
   },
   {
    "duration": 38,
    "start_time": "2023-05-16T17:16:59.797Z"
   },
   {
    "duration": 54,
    "start_time": "2023-05-16T17:16:59.837Z"
   },
   {
    "duration": 241,
    "start_time": "2023-05-16T17:16:59.895Z"
   },
   {
    "duration": 212,
    "start_time": "2023-05-16T17:17:00.139Z"
   },
   {
    "duration": 9,
    "start_time": "2023-05-16T17:17:00.353Z"
   },
   {
    "duration": 133,
    "start_time": "2023-05-16T17:17:00.365Z"
   },
   {
    "duration": 317,
    "start_time": "2023-05-16T17:17:00.506Z"
   },
   {
    "duration": 297,
    "start_time": "2023-05-16T17:17:00.826Z"
   },
   {
    "duration": 3,
    "start_time": "2023-05-16T17:17:01.125Z"
   },
   {
    "duration": 111,
    "start_time": "2023-05-16T17:17:01.130Z"
   },
   {
    "duration": 15435,
    "start_time": "2023-05-16T17:17:51.856Z"
   },
   {
    "duration": 198,
    "start_time": "2023-05-16T17:22:10.913Z"
   },
   {
    "duration": 113,
    "start_time": "2023-05-16T17:22:16.021Z"
   },
   {
    "duration": 18,
    "start_time": "2023-05-16T17:22:25.249Z"
   },
   {
    "duration": 20,
    "start_time": "2023-05-16T17:22:37.301Z"
   },
   {
    "duration": 1409,
    "start_time": "2023-05-16T17:22:46.086Z"
   },
   {
    "duration": 13,
    "start_time": "2023-05-16T17:22:55.528Z"
   },
   {
    "duration": 10,
    "start_time": "2023-05-16T17:23:34.533Z"
   },
   {
    "duration": 9,
    "start_time": "2023-05-16T17:23:41.145Z"
   },
   {
    "duration": 9,
    "start_time": "2023-05-16T17:23:49.341Z"
   },
   {
    "duration": 7,
    "start_time": "2023-05-16T17:27:05.412Z"
   },
   {
    "duration": 119,
    "start_time": "2023-05-16T17:27:05.476Z"
   },
   {
    "duration": 32,
    "start_time": "2023-05-16T17:27:05.629Z"
   },
   {
    "duration": 30,
    "start_time": "2023-05-16T17:27:06.051Z"
   },
   {
    "duration": 24,
    "start_time": "2023-05-16T17:27:06.705Z"
   },
   {
    "duration": 333,
    "start_time": "2023-05-16T17:27:07.506Z"
   },
   {
    "duration": 852,
    "start_time": "2023-05-16T17:27:08.348Z"
   },
   {
    "duration": 17,
    "start_time": "2023-05-16T17:27:09.840Z"
   },
   {
    "duration": 8,
    "start_time": "2023-05-16T17:27:09.923Z"
   },
   {
    "duration": 32,
    "start_time": "2023-05-16T17:27:10.039Z"
   },
   {
    "duration": 14,
    "start_time": "2023-05-16T17:27:10.114Z"
   },
   {
    "duration": 22,
    "start_time": "2023-05-16T17:27:10.220Z"
   },
   {
    "duration": 216,
    "start_time": "2023-05-16T17:27:10.884Z"
   },
   {
    "duration": 205,
    "start_time": "2023-05-16T17:27:11.671Z"
   },
   {
    "duration": 353,
    "start_time": "2023-05-16T17:27:11.922Z"
   },
   {
    "duration": 273,
    "start_time": "2023-05-16T17:27:12.340Z"
   },
   {
    "duration": 250,
    "start_time": "2023-05-16T17:27:13.287Z"
   },
   {
    "duration": 27,
    "start_time": "2023-05-16T17:27:14.031Z"
   },
   {
    "duration": 42,
    "start_time": "2023-05-16T17:27:14.103Z"
   },
   {
    "duration": 28,
    "start_time": "2023-05-16T17:27:14.246Z"
   },
   {
    "duration": 33,
    "start_time": "2023-05-16T17:27:14.276Z"
   },
   {
    "duration": 304,
    "start_time": "2023-05-16T17:27:14.312Z"
   },
   {
    "duration": 277,
    "start_time": "2023-05-16T17:27:14.618Z"
   },
   {
    "duration": 11,
    "start_time": "2023-05-16T17:27:14.897Z"
   },
   {
    "duration": 34,
    "start_time": "2023-05-16T17:27:14.910Z"
   },
   {
    "duration": 271,
    "start_time": "2023-05-16T17:27:14.948Z"
   },
   {
    "duration": 269,
    "start_time": "2023-05-16T17:27:15.222Z"
   },
   {
    "duration": 4,
    "start_time": "2023-05-16T17:27:15.495Z"
   },
   {
    "duration": 32,
    "start_time": "2023-05-16T17:27:21.044Z"
   },
   {
    "duration": 16,
    "start_time": "2023-05-16T17:27:29.095Z"
   },
   {
    "duration": 17,
    "start_time": "2023-05-16T17:27:38.390Z"
   },
   {
    "duration": 11,
    "start_time": "2023-05-16T17:27:43.308Z"
   },
   {
    "duration": 13,
    "start_time": "2023-05-16T17:28:14.689Z"
   },
   {
    "duration": 13,
    "start_time": "2023-05-16T17:28:20.089Z"
   },
   {
    "duration": 17,
    "start_time": "2023-05-16T17:28:21.841Z"
   },
   {
    "duration": 4,
    "start_time": "2023-05-16T17:28:28.243Z"
   },
   {
    "duration": 135,
    "start_time": "2023-05-16T17:28:28.251Z"
   },
   {
    "duration": 26,
    "start_time": "2023-05-16T17:28:28.388Z"
   },
   {
    "duration": 49,
    "start_time": "2023-05-16T17:28:28.416Z"
   },
   {
    "duration": 34,
    "start_time": "2023-05-16T17:28:28.468Z"
   },
   {
    "duration": 419,
    "start_time": "2023-05-16T17:28:28.505Z"
   },
   {
    "duration": 831,
    "start_time": "2023-05-16T17:28:28.926Z"
   },
   {
    "duration": 21,
    "start_time": "2023-05-16T17:28:29.760Z"
   },
   {
    "duration": 12,
    "start_time": "2023-05-16T17:28:29.784Z"
   },
   {
    "duration": 14,
    "start_time": "2023-05-16T17:28:29.798Z"
   },
   {
    "duration": 14,
    "start_time": "2023-05-16T17:28:29.814Z"
   },
   {
    "duration": 13,
    "start_time": "2023-05-16T17:28:29.830Z"
   },
   {
    "duration": 212,
    "start_time": "2023-05-16T17:28:29.870Z"
   },
   {
    "duration": 186,
    "start_time": "2023-05-16T17:28:30.085Z"
   },
   {
    "duration": 377,
    "start_time": "2023-05-16T17:28:30.274Z"
   },
   {
    "duration": 268,
    "start_time": "2023-05-16T17:28:30.653Z"
   },
   {
    "duration": 259,
    "start_time": "2023-05-16T17:28:30.924Z"
   },
   {
    "duration": 31,
    "start_time": "2023-05-16T17:28:31.186Z"
   },
   {
    "duration": 63,
    "start_time": "2023-05-16T17:28:31.223Z"
   },
   {
    "duration": 38,
    "start_time": "2023-05-16T17:28:31.288Z"
   },
   {
    "duration": 46,
    "start_time": "2023-05-16T17:28:31.329Z"
   },
   {
    "duration": 279,
    "start_time": "2023-05-16T17:28:31.377Z"
   },
   {
    "duration": 262,
    "start_time": "2023-05-16T17:28:31.659Z"
   },
   {
    "duration": 13,
    "start_time": "2023-05-16T17:28:31.923Z"
   },
   {
    "duration": 122,
    "start_time": "2023-05-16T17:28:31.939Z"
   },
   {
    "duration": 300,
    "start_time": "2023-05-16T17:28:32.065Z"
   },
   {
    "duration": 250,
    "start_time": "2023-05-16T17:28:32.370Z"
   },
   {
    "duration": 5,
    "start_time": "2023-05-16T17:28:32.623Z"
   },
   {
    "duration": 48,
    "start_time": "2023-05-16T17:28:32.630Z"
   },
   {
    "duration": 11,
    "start_time": "2023-05-16T17:28:35.841Z"
   },
   {
    "duration": 58,
    "start_time": "2023-05-16T17:30:34.542Z"
   },
   {
    "duration": 10,
    "start_time": "2023-05-16T17:30:41.796Z"
   },
   {
    "duration": 13,
    "start_time": "2023-05-16T17:30:48.299Z"
   },
   {
    "duration": 18,
    "start_time": "2023-05-16T17:31:30.726Z"
   },
   {
    "duration": 11,
    "start_time": "2023-05-16T17:31:39.440Z"
   },
   {
    "duration": 26,
    "start_time": "2023-05-16T17:32:14.572Z"
   },
   {
    "duration": 12,
    "start_time": "2023-05-16T17:32:33.086Z"
   },
   {
    "duration": 8,
    "start_time": "2023-05-16T17:32:38.688Z"
   },
   {
    "duration": 17,
    "start_time": "2023-05-16T17:32:47.303Z"
   },
   {
    "duration": 91520,
    "start_time": "2023-05-16T17:33:39.095Z"
   },
   {
    "duration": 21,
    "start_time": "2023-05-16T17:35:23.390Z"
   },
   {
    "duration": 15,
    "start_time": "2023-05-16T17:36:40.626Z"
   },
   {
    "duration": 12,
    "start_time": "2023-05-16T17:36:56.127Z"
   },
   {
    "duration": 178,
    "start_time": "2023-05-16T17:37:02.296Z"
   },
   {
    "duration": 13,
    "start_time": "2023-05-16T17:37:12.644Z"
   },
   {
    "duration": 11,
    "start_time": "2023-05-16T17:38:07.632Z"
   },
   {
    "duration": 52,
    "start_time": "2023-05-16T17:38:37.143Z"
   },
   {
    "duration": 9,
    "start_time": "2023-05-16T17:39:20.389Z"
   },
   {
    "duration": 4,
    "start_time": "2023-05-16T17:39:45.835Z"
   },
   {
    "duration": 117,
    "start_time": "2023-05-16T17:39:45.842Z"
   },
   {
    "duration": 29,
    "start_time": "2023-05-16T17:39:45.962Z"
   },
   {
    "duration": 40,
    "start_time": "2023-05-16T17:39:45.994Z"
   },
   {
    "duration": 33,
    "start_time": "2023-05-16T17:39:46.038Z"
   },
   {
    "duration": 316,
    "start_time": "2023-05-16T17:39:46.074Z"
   },
   {
    "duration": 569,
    "start_time": "2023-05-16T17:39:46.392Z"
   },
   {
    "duration": 17,
    "start_time": "2023-05-16T17:39:46.964Z"
   },
   {
    "duration": 8,
    "start_time": "2023-05-16T17:39:46.983Z"
   },
   {
    "duration": 12,
    "start_time": "2023-05-16T17:39:46.993Z"
   },
   {
    "duration": 12,
    "start_time": "2023-05-16T17:39:47.007Z"
   },
   {
    "duration": 17,
    "start_time": "2023-05-16T17:39:47.021Z"
   },
   {
    "duration": 178,
    "start_time": "2023-05-16T17:39:47.040Z"
   },
   {
    "duration": 136,
    "start_time": "2023-05-16T17:39:47.222Z"
   },
   {
    "duration": 268,
    "start_time": "2023-05-16T17:39:47.360Z"
   },
   {
    "duration": 356,
    "start_time": "2023-05-16T17:39:47.631Z"
   },
   {
    "duration": 184,
    "start_time": "2023-05-16T17:39:47.989Z"
   },
   {
    "duration": 19,
    "start_time": "2023-05-16T17:39:48.175Z"
   },
   {
    "duration": 25,
    "start_time": "2023-05-16T17:39:48.196Z"
   },
   {
    "duration": 9,
    "start_time": "2023-05-16T17:39:48.224Z"
   },
   {
    "duration": 46,
    "start_time": "2023-05-16T17:39:48.235Z"
   },
   {
    "duration": 224,
    "start_time": "2023-05-16T17:39:48.283Z"
   },
   {
    "duration": 181,
    "start_time": "2023-05-16T17:39:48.509Z"
   },
   {
    "duration": 7,
    "start_time": "2023-05-16T17:39:48.693Z"
   },
   {
    "duration": 25,
    "start_time": "2023-05-16T17:39:48.701Z"
   },
   {
    "duration": 224,
    "start_time": "2023-05-16T17:39:48.728Z"
   },
   {
    "duration": 205,
    "start_time": "2023-05-16T17:39:48.954Z"
   },
   {
    "duration": 10,
    "start_time": "2023-05-16T17:39:49.161Z"
   },
   {
    "duration": 26,
    "start_time": "2023-05-16T17:39:49.174Z"
   },
   {
    "duration": 84598,
    "start_time": "2023-05-16T17:39:49.203Z"
   },
   {
    "duration": 19,
    "start_time": "2023-05-16T17:41:27.564Z"
   },
   {
    "duration": 32,
    "start_time": "2023-05-16T17:42:47.977Z"
   },
   {
    "duration": 14,
    "start_time": "2023-05-16T17:43:00.911Z"
   },
   {
    "duration": 30,
    "start_time": "2023-05-16T17:43:34.239Z"
   },
   {
    "duration": 37,
    "start_time": "2023-05-16T17:46:59.410Z"
   },
   {
    "duration": 16,
    "start_time": "2023-05-16T17:47:07.981Z"
   },
   {
    "duration": 20,
    "start_time": "2023-05-16T17:47:36.399Z"
   },
   {
    "duration": 16,
    "start_time": "2023-05-16T17:47:40.239Z"
   },
   {
    "duration": 17,
    "start_time": "2023-05-16T17:47:42.912Z"
   },
   {
    "duration": 15,
    "start_time": "2023-05-16T17:47:51.444Z"
   },
   {
    "duration": 9,
    "start_time": "2023-05-16T17:47:55.010Z"
   },
   {
    "duration": 3,
    "start_time": "2023-05-16T17:48:17.382Z"
   },
   {
    "duration": 96,
    "start_time": "2023-05-16T17:48:17.387Z"
   },
   {
    "duration": 19,
    "start_time": "2023-05-16T17:48:17.485Z"
   },
   {
    "duration": 29,
    "start_time": "2023-05-16T17:48:17.507Z"
   },
   {
    "duration": 31,
    "start_time": "2023-05-16T17:48:17.539Z"
   },
   {
    "duration": 440,
    "start_time": "2023-05-16T17:48:17.573Z"
   },
   {
    "duration": 768,
    "start_time": "2023-05-16T17:48:18.015Z"
   },
   {
    "duration": 20,
    "start_time": "2023-05-16T17:48:18.785Z"
   },
   {
    "duration": 10,
    "start_time": "2023-05-16T17:48:18.809Z"
   },
   {
    "duration": 37,
    "start_time": "2023-05-16T17:48:18.821Z"
   },
   {
    "duration": 18,
    "start_time": "2023-05-16T17:48:18.863Z"
   },
   {
    "duration": 31,
    "start_time": "2023-05-16T17:48:18.883Z"
   },
   {
    "duration": 243,
    "start_time": "2023-05-16T17:48:18.917Z"
   },
   {
    "duration": 209,
    "start_time": "2023-05-16T17:48:19.162Z"
   },
   {
    "duration": 372,
    "start_time": "2023-05-16T17:48:19.374Z"
   },
   {
    "duration": 210,
    "start_time": "2023-05-16T17:48:19.748Z"
   },
   {
    "duration": 221,
    "start_time": "2023-05-16T17:48:19.961Z"
   },
   {
    "duration": 18,
    "start_time": "2023-05-16T17:48:20.184Z"
   },
   {
    "duration": 21,
    "start_time": "2023-05-16T17:48:20.204Z"
   },
   {
    "duration": 14,
    "start_time": "2023-05-16T17:48:20.227Z"
   },
   {
    "duration": 38,
    "start_time": "2023-05-16T17:48:20.273Z"
   },
   {
    "duration": 202,
    "start_time": "2023-05-16T17:48:20.313Z"
   },
   {
    "duration": 211,
    "start_time": "2023-05-16T17:48:20.517Z"
   },
   {
    "duration": 9,
    "start_time": "2023-05-16T17:48:20.731Z"
   },
   {
    "duration": 46,
    "start_time": "2023-05-16T17:48:20.742Z"
   },
   {
    "duration": 322,
    "start_time": "2023-05-16T17:48:20.790Z"
   },
   {
    "duration": 207,
    "start_time": "2023-05-16T17:48:21.114Z"
   },
   {
    "duration": 3,
    "start_time": "2023-05-16T17:48:21.323Z"
   },
   {
    "duration": 28,
    "start_time": "2023-05-16T17:48:21.330Z"
   },
   {
    "duration": 98069,
    "start_time": "2023-05-16T17:48:21.372Z"
   },
   {
    "duration": 61,
    "start_time": "2023-05-16T17:50:17.901Z"
   },
   {
    "duration": 12,
    "start_time": "2023-05-16T17:51:54.401Z"
   },
   {
    "duration": 7,
    "start_time": "2023-05-16T17:52:04.239Z"
   },
   {
    "duration": 4,
    "start_time": "2023-05-16T17:52:17.741Z"
   },
   {
    "duration": 172,
    "start_time": "2023-05-16T17:52:17.748Z"
   },
   {
    "duration": 47,
    "start_time": "2023-05-16T17:52:17.922Z"
   },
   {
    "duration": 39,
    "start_time": "2023-05-16T17:52:17.971Z"
   },
   {
    "duration": 44,
    "start_time": "2023-05-16T17:52:18.015Z"
   },
   {
    "duration": 463,
    "start_time": "2023-05-16T17:52:18.061Z"
   },
   {
    "duration": 660,
    "start_time": "2023-05-16T17:52:18.526Z"
   },
   {
    "duration": 18,
    "start_time": "2023-05-16T17:52:19.193Z"
   },
   {
    "duration": 35,
    "start_time": "2023-05-16T17:52:19.214Z"
   },
   {
    "duration": 25,
    "start_time": "2023-05-16T17:52:19.251Z"
   },
   {
    "duration": 41,
    "start_time": "2023-05-16T17:52:19.278Z"
   },
   {
    "duration": 17,
    "start_time": "2023-05-16T17:52:19.321Z"
   },
   {
    "duration": 303,
    "start_time": "2023-05-16T17:52:19.341Z"
   },
   {
    "duration": 158,
    "start_time": "2023-05-16T17:52:19.645Z"
   },
   {
    "duration": 334,
    "start_time": "2023-05-16T17:52:19.807Z"
   },
   {
    "duration": 219,
    "start_time": "2023-05-16T17:52:20.144Z"
   },
   {
    "duration": 281,
    "start_time": "2023-05-16T17:52:20.365Z"
   },
   {
    "duration": 38,
    "start_time": "2023-05-16T17:52:20.648Z"
   },
   {
    "duration": 94,
    "start_time": "2023-05-16T17:52:20.695Z"
   },
   {
    "duration": 13,
    "start_time": "2023-05-16T17:52:20.794Z"
   },
   {
    "duration": 71,
    "start_time": "2023-05-16T17:52:20.809Z"
   },
   {
    "duration": 254,
    "start_time": "2023-05-16T17:52:20.882Z"
   },
   {
    "duration": 239,
    "start_time": "2023-05-16T17:52:21.139Z"
   },
   {
    "duration": 13,
    "start_time": "2023-05-16T17:52:21.380Z"
   },
   {
    "duration": 82,
    "start_time": "2023-05-16T17:52:21.395Z"
   },
   {
    "duration": 235,
    "start_time": "2023-05-16T17:52:21.480Z"
   },
   {
    "duration": 200,
    "start_time": "2023-05-16T17:52:21.723Z"
   },
   {
    "duration": 5,
    "start_time": "2023-05-16T17:52:21.926Z"
   },
   {
    "duration": 35,
    "start_time": "2023-05-16T17:52:21.933Z"
   },
   {
    "duration": 108875,
    "start_time": "2023-05-16T17:52:21.979Z"
   },
   {
    "duration": 30,
    "start_time": "2023-05-16T17:54:19.014Z"
   },
   {
    "duration": 824,
    "start_time": "2023-05-17T05:42:04.800Z"
   },
   {
    "duration": 281,
    "start_time": "2023-05-17T05:42:05.626Z"
   },
   {
    "duration": 21,
    "start_time": "2023-05-17T05:42:05.908Z"
   },
   {
    "duration": 15,
    "start_time": "2023-05-17T05:42:05.930Z"
   },
   {
    "duration": 13,
    "start_time": "2023-05-17T05:42:05.947Z"
   },
   {
    "duration": 624,
    "start_time": "2023-05-17T05:42:05.961Z"
   },
   {
    "duration": 513,
    "start_time": "2023-05-17T05:42:06.587Z"
   },
   {
    "duration": 12,
    "start_time": "2023-05-17T05:42:07.101Z"
   },
   {
    "duration": 5,
    "start_time": "2023-05-17T05:42:07.115Z"
   },
   {
    "duration": 7,
    "start_time": "2023-05-17T05:42:07.121Z"
   },
   {
    "duration": 4,
    "start_time": "2023-05-17T05:42:07.130Z"
   },
   {
    "duration": 9,
    "start_time": "2023-05-17T05:42:07.135Z"
   },
   {
    "duration": 158,
    "start_time": "2023-05-17T05:42:07.146Z"
   },
   {
    "duration": 108,
    "start_time": "2023-05-17T05:42:07.307Z"
   },
   {
    "duration": 236,
    "start_time": "2023-05-17T05:42:07.417Z"
   },
   {
    "duration": 172,
    "start_time": "2023-05-17T05:42:07.654Z"
   },
   {
    "duration": 214,
    "start_time": "2023-05-17T05:42:07.827Z"
   },
   {
    "duration": 18,
    "start_time": "2023-05-17T05:42:08.042Z"
   },
   {
    "duration": 33,
    "start_time": "2023-05-17T05:42:08.063Z"
   },
   {
    "duration": 13,
    "start_time": "2023-05-17T05:42:08.097Z"
   },
   {
    "duration": 21,
    "start_time": "2023-05-17T05:42:08.111Z"
   },
   {
    "duration": 197,
    "start_time": "2023-05-17T05:42:08.134Z"
   },
   {
    "duration": 159,
    "start_time": "2023-05-17T05:42:08.333Z"
   },
   {
    "duration": 6,
    "start_time": "2023-05-17T05:42:08.493Z"
   },
   {
    "duration": 16,
    "start_time": "2023-05-17T05:42:08.501Z"
   },
   {
    "duration": 150,
    "start_time": "2023-05-17T05:42:08.519Z"
   },
   {
    "duration": 143,
    "start_time": "2023-05-17T05:42:08.674Z"
   },
   {
    "duration": 3,
    "start_time": "2023-05-17T05:42:08.818Z"
   },
   {
    "duration": 20,
    "start_time": "2023-05-17T05:42:08.822Z"
   },
   {
    "duration": 64872,
    "start_time": "2023-05-17T05:42:08.843Z"
   },
   {
    "duration": 18,
    "start_time": "2023-05-17T05:43:17.302Z"
   },
   {
    "duration": 4,
    "start_time": "2023-05-17T05:52:03.088Z"
   },
   {
    "duration": 100,
    "start_time": "2023-05-17T05:52:55.207Z"
   },
   {
    "duration": 3,
    "start_time": "2023-05-17T05:53:39.788Z"
   },
   {
    "duration": 914,
    "start_time": "2023-05-17T05:53:42.330Z"
   },
   {
    "duration": 3,
    "start_time": "2023-05-17T05:55:54.349Z"
   },
   {
    "duration": 888,
    "start_time": "2023-05-17T05:55:57.222Z"
   },
   {
    "duration": 214,
    "start_time": "2023-05-17T05:57:44.786Z"
   },
   {
    "duration": 12,
    "start_time": "2023-05-17T05:57:53.905Z"
   },
   {
    "duration": 4,
    "start_time": "2023-05-17T06:08:06.326Z"
   },
   {
    "duration": 21,
    "start_time": "2023-05-17T06:08:10.091Z"
   },
   {
    "duration": 4,
    "start_time": "2023-05-17T06:08:35.599Z"
   },
   {
    "duration": 6,
    "start_time": "2023-05-17T06:08:39.118Z"
   },
   {
    "duration": 4,
    "start_time": "2023-05-17T06:08:52.584Z"
   },
   {
    "duration": 5,
    "start_time": "2023-05-17T06:08:55.442Z"
   },
   {
    "duration": 19,
    "start_time": "2023-05-17T06:08:56.897Z"
   },
   {
    "duration": 2,
    "start_time": "2023-05-17T06:10:15.726Z"
   },
   {
    "duration": 71,
    "start_time": "2023-05-17T06:10:15.730Z"
   },
   {
    "duration": 15,
    "start_time": "2023-05-17T06:10:15.803Z"
   },
   {
    "duration": 15,
    "start_time": "2023-05-17T06:10:15.820Z"
   },
   {
    "duration": 13,
    "start_time": "2023-05-17T06:10:15.837Z"
   },
   {
    "duration": 305,
    "start_time": "2023-05-17T06:10:15.851Z"
   },
   {
    "duration": 457,
    "start_time": "2023-05-17T06:10:16.158Z"
   },
   {
    "duration": 12,
    "start_time": "2023-05-17T06:10:16.617Z"
   },
   {
    "duration": 6,
    "start_time": "2023-05-17T06:10:16.631Z"
   },
   {
    "duration": 7,
    "start_time": "2023-05-17T06:10:16.638Z"
   },
   {
    "duration": 30,
    "start_time": "2023-05-17T06:10:16.647Z"
   },
   {
    "duration": 7,
    "start_time": "2023-05-17T06:10:16.678Z"
   },
   {
    "duration": 126,
    "start_time": "2023-05-17T06:10:16.686Z"
   },
   {
    "duration": 103,
    "start_time": "2023-05-17T06:10:16.813Z"
   },
   {
    "duration": 217,
    "start_time": "2023-05-17T06:10:16.917Z"
   },
   {
    "duration": 142,
    "start_time": "2023-05-17T06:10:17.135Z"
   },
   {
    "duration": 133,
    "start_time": "2023-05-17T06:10:17.279Z"
   },
   {
    "duration": 15,
    "start_time": "2023-05-17T06:10:17.414Z"
   },
   {
    "duration": 16,
    "start_time": "2023-05-17T06:10:17.430Z"
   },
   {
    "duration": 7,
    "start_time": "2023-05-17T06:10:17.447Z"
   },
   {
    "duration": 35,
    "start_time": "2023-05-17T06:10:17.456Z"
   },
   {
    "duration": 163,
    "start_time": "2023-05-17T06:10:17.493Z"
   },
   {
    "duration": 153,
    "start_time": "2023-05-17T06:10:17.657Z"
   },
   {
    "duration": 6,
    "start_time": "2023-05-17T06:10:17.812Z"
   },
   {
    "duration": 17,
    "start_time": "2023-05-17T06:10:17.819Z"
   },
   {
    "duration": 238,
    "start_time": "2023-05-17T06:10:17.838Z"
   },
   {
    "duration": 140,
    "start_time": "2023-05-17T06:10:18.078Z"
   },
   {
    "duration": 3,
    "start_time": "2023-05-17T06:10:18.219Z"
   },
   {
    "duration": 21,
    "start_time": "2023-05-17T06:10:18.224Z"
   },
   {
    "duration": 12,
    "start_time": "2023-05-17T06:10:18.246Z"
   },
   {
    "duration": 0,
    "start_time": "2023-05-17T06:10:18.275Z"
   },
   {
    "duration": 0,
    "start_time": "2023-05-17T06:10:18.276Z"
   },
   {
    "duration": 0,
    "start_time": "2023-05-17T06:10:18.277Z"
   },
   {
    "duration": 0,
    "start_time": "2023-05-17T06:10:18.277Z"
   },
   {
    "duration": 0,
    "start_time": "2023-05-17T06:10:18.279Z"
   },
   {
    "duration": 99651,
    "start_time": "2023-05-17T06:11:27.731Z"
   },
   {
    "duration": 17,
    "start_time": "2023-05-17T06:13:26.582Z"
   },
   {
    "duration": 65034,
    "start_time": "2023-05-17T06:13:43.887Z"
   },
   {
    "duration": 17,
    "start_time": "2023-05-17T06:14:56.583Z"
   },
   {
    "duration": 3,
    "start_time": "2023-05-17T06:15:13.750Z"
   },
   {
    "duration": 68,
    "start_time": "2023-05-17T06:15:13.757Z"
   },
   {
    "duration": 14,
    "start_time": "2023-05-17T06:15:13.827Z"
   },
   {
    "duration": 16,
    "start_time": "2023-05-17T06:15:13.843Z"
   },
   {
    "duration": 13,
    "start_time": "2023-05-17T06:15:13.861Z"
   },
   {
    "duration": 268,
    "start_time": "2023-05-17T06:15:13.875Z"
   },
   {
    "duration": 442,
    "start_time": "2023-05-17T06:15:14.145Z"
   },
   {
    "duration": 12,
    "start_time": "2023-05-17T06:15:14.588Z"
   },
   {
    "duration": 5,
    "start_time": "2023-05-17T06:15:14.601Z"
   },
   {
    "duration": 7,
    "start_time": "2023-05-17T06:15:14.607Z"
   },
   {
    "duration": 4,
    "start_time": "2023-05-17T06:15:14.616Z"
   },
   {
    "duration": 6,
    "start_time": "2023-05-17T06:15:14.622Z"
   },
   {
    "duration": 210,
    "start_time": "2023-05-17T06:15:14.629Z"
   },
   {
    "duration": 108,
    "start_time": "2023-05-17T06:15:14.840Z"
   },
   {
    "duration": 219,
    "start_time": "2023-05-17T06:15:14.949Z"
   },
   {
    "duration": 139,
    "start_time": "2023-05-17T06:15:15.169Z"
   },
   {
    "duration": 136,
    "start_time": "2023-05-17T06:15:15.310Z"
   },
   {
    "duration": 15,
    "start_time": "2023-05-17T06:15:15.447Z"
   },
   {
    "duration": 27,
    "start_time": "2023-05-17T06:15:15.463Z"
   },
   {
    "duration": 7,
    "start_time": "2023-05-17T06:15:15.491Z"
   },
   {
    "duration": 19,
    "start_time": "2023-05-17T06:15:15.500Z"
   },
   {
    "duration": 179,
    "start_time": "2023-05-17T06:15:15.520Z"
   },
   {
    "duration": 146,
    "start_time": "2023-05-17T06:15:15.701Z"
   },
   {
    "duration": 6,
    "start_time": "2023-05-17T06:15:15.849Z"
   },
   {
    "duration": 25,
    "start_time": "2023-05-17T06:15:15.856Z"
   },
   {
    "duration": 144,
    "start_time": "2023-05-17T06:15:15.882Z"
   },
   {
    "duration": 131,
    "start_time": "2023-05-17T06:15:16.028Z"
   },
   {
    "duration": 3,
    "start_time": "2023-05-17T06:15:16.160Z"
   },
   {
    "duration": 17,
    "start_time": "2023-05-17T06:15:16.175Z"
   },
   {
    "duration": 67575,
    "start_time": "2023-05-17T06:15:28.945Z"
   },
   {
    "duration": 17,
    "start_time": "2023-05-17T06:16:53.338Z"
   },
   {
    "duration": 2,
    "start_time": "2023-05-17T06:17:14.483Z"
   },
   {
    "duration": 75,
    "start_time": "2023-05-17T06:17:14.487Z"
   },
   {
    "duration": 14,
    "start_time": "2023-05-17T06:17:14.564Z"
   },
   {
    "duration": 16,
    "start_time": "2023-05-17T06:17:14.579Z"
   },
   {
    "duration": 12,
    "start_time": "2023-05-17T06:17:14.597Z"
   },
   {
    "duration": 235,
    "start_time": "2023-05-17T06:17:14.610Z"
   },
   {
    "duration": 460,
    "start_time": "2023-05-17T06:17:14.846Z"
   },
   {
    "duration": 12,
    "start_time": "2023-05-17T06:17:15.308Z"
   },
   {
    "duration": 5,
    "start_time": "2023-05-17T06:17:15.322Z"
   },
   {
    "duration": 8,
    "start_time": "2023-05-17T06:17:15.328Z"
   },
   {
    "duration": 5,
    "start_time": "2023-05-17T06:17:15.339Z"
   },
   {
    "duration": 30,
    "start_time": "2023-05-17T06:17:15.345Z"
   },
   {
    "duration": 135,
    "start_time": "2023-05-17T06:17:15.377Z"
   },
   {
    "duration": 117,
    "start_time": "2023-05-17T06:17:15.514Z"
   },
   {
    "duration": 226,
    "start_time": "2023-05-17T06:17:15.634Z"
   },
   {
    "duration": 214,
    "start_time": "2023-05-17T06:17:15.861Z"
   },
   {
    "duration": 132,
    "start_time": "2023-05-17T06:17:16.076Z"
   },
   {
    "duration": 15,
    "start_time": "2023-05-17T06:17:16.210Z"
   },
   {
    "duration": 17,
    "start_time": "2023-05-17T06:17:16.227Z"
   },
   {
    "duration": 8,
    "start_time": "2023-05-17T06:17:16.246Z"
   },
   {
    "duration": 18,
    "start_time": "2023-05-17T06:17:16.275Z"
   },
   {
    "duration": 154,
    "start_time": "2023-05-17T06:17:16.294Z"
   },
   {
    "duration": 147,
    "start_time": "2023-05-17T06:17:16.450Z"
   },
   {
    "duration": 6,
    "start_time": "2023-05-17T06:17:16.599Z"
   },
   {
    "duration": 16,
    "start_time": "2023-05-17T06:17:16.607Z"
   },
   {
    "duration": 147,
    "start_time": "2023-05-17T06:17:16.625Z"
   },
   {
    "duration": 139,
    "start_time": "2023-05-17T06:17:16.775Z"
   },
   {
    "duration": 2,
    "start_time": "2023-05-17T06:17:16.916Z"
   },
   {
    "duration": 22,
    "start_time": "2023-05-17T06:17:16.921Z"
   },
   {
    "duration": 9,
    "start_time": "2023-05-17T06:18:18.601Z"
   },
   {
    "duration": 17,
    "start_time": "2023-05-17T06:21:53.884Z"
   },
   {
    "duration": 16,
    "start_time": "2023-05-17T06:22:01.059Z"
   },
   {
    "duration": 18,
    "start_time": "2023-05-17T06:22:15.012Z"
   },
   {
    "duration": 9,
    "start_time": "2023-05-17T06:22:23.709Z"
   },
   {
    "duration": 11,
    "start_time": "2023-05-17T06:22:27.129Z"
   },
   {
    "duration": 10,
    "start_time": "2023-05-17T06:22:46.479Z"
   },
   {
    "duration": 9,
    "start_time": "2023-05-17T06:22:51.129Z"
   },
   {
    "duration": 2929,
    "start_time": "2023-05-17T06:23:25.209Z"
   },
   {
    "duration": 6,
    "start_time": "2023-05-17T06:23:29.524Z"
   },
   {
    "duration": 953,
    "start_time": "2023-05-17T12:17:39.180Z"
   },
   {
    "duration": 345,
    "start_time": "2023-05-17T12:17:40.136Z"
   },
   {
    "duration": 36,
    "start_time": "2023-05-17T12:17:40.484Z"
   },
   {
    "duration": 28,
    "start_time": "2023-05-17T12:17:40.523Z"
   },
   {
    "duration": 44,
    "start_time": "2023-05-17T12:17:40.554Z"
   },
   {
    "duration": 837,
    "start_time": "2023-05-17T12:17:40.600Z"
   },
   {
    "duration": 631,
    "start_time": "2023-05-17T12:17:41.440Z"
   },
   {
    "duration": 25,
    "start_time": "2023-05-17T12:17:42.073Z"
   },
   {
    "duration": 8,
    "start_time": "2023-05-17T12:17:42.100Z"
   },
   {
    "duration": 10,
    "start_time": "2023-05-17T12:17:42.111Z"
   },
   {
    "duration": 6,
    "start_time": "2023-05-17T12:17:42.123Z"
   },
   {
    "duration": 13,
    "start_time": "2023-05-17T12:17:42.131Z"
   },
   {
    "duration": 243,
    "start_time": "2023-05-17T12:17:42.147Z"
   },
   {
    "duration": 152,
    "start_time": "2023-05-17T12:17:42.394Z"
   },
   {
    "duration": 294,
    "start_time": "2023-05-17T12:17:42.549Z"
   },
   {
    "duration": 208,
    "start_time": "2023-05-17T12:17:42.846Z"
   },
   {
    "duration": 279,
    "start_time": "2023-05-17T12:17:43.056Z"
   },
   {
    "duration": 21,
    "start_time": "2023-05-17T12:17:43.337Z"
   },
   {
    "duration": 40,
    "start_time": "2023-05-17T12:17:43.360Z"
   },
   {
    "duration": 10,
    "start_time": "2023-05-17T12:17:43.404Z"
   },
   {
    "duration": 22,
    "start_time": "2023-05-17T12:17:43.416Z"
   },
   {
    "duration": 293,
    "start_time": "2023-05-17T12:17:43.441Z"
   },
   {
    "duration": 195,
    "start_time": "2023-05-17T12:17:43.737Z"
   },
   {
    "duration": 7,
    "start_time": "2023-05-17T12:17:43.934Z"
   },
   {
    "duration": 44,
    "start_time": "2023-05-17T12:17:43.944Z"
   },
   {
    "duration": 225,
    "start_time": "2023-05-17T12:17:43.991Z"
   },
   {
    "duration": 176,
    "start_time": "2023-05-17T12:17:44.217Z"
   },
   {
    "duration": 3,
    "start_time": "2023-05-17T12:17:44.395Z"
   },
   {
    "duration": 33,
    "start_time": "2023-05-17T12:17:44.400Z"
   },
   {
    "duration": 133,
    "start_time": "2023-05-17T12:18:56.196Z"
   },
   {
    "duration": 98737,
    "start_time": "2023-05-17T12:19:07.707Z"
   },
   {
    "duration": 32,
    "start_time": "2023-05-17T12:24:57.381Z"
   },
   {
    "duration": 4,
    "start_time": "2023-05-17T12:25:26.350Z"
   },
   {
    "duration": 331,
    "start_time": "2023-05-17T12:25:28.592Z"
   },
   {
    "duration": 17,
    "start_time": "2023-05-17T12:25:30.412Z"
   },
   {
    "duration": 6,
    "start_time": "2023-05-17T12:25:44.326Z"
   },
   {
    "duration": 25,
    "start_time": "2023-05-17T12:25:50.394Z"
   },
   {
    "duration": 24,
    "start_time": "2023-05-17T12:25:56.115Z"
   },
   {
    "duration": 5,
    "start_time": "2023-05-17T13:17:56.534Z"
   },
   {
    "duration": 6,
    "start_time": "2023-05-17T13:18:07.207Z"
   },
   {
    "duration": 6,
    "start_time": "2023-05-17T13:18:17.467Z"
   },
   {
    "duration": 7,
    "start_time": "2023-05-17T13:18:36.226Z"
   },
   {
    "duration": 7,
    "start_time": "2023-05-17T13:18:57.659Z"
   },
   {
    "duration": 7,
    "start_time": "2023-05-17T13:34:09.208Z"
   },
   {
    "duration": 7,
    "start_time": "2023-05-17T13:34:19.132Z"
   },
   {
    "duration": 5,
    "start_time": "2023-05-17T13:34:22.540Z"
   },
   {
    "duration": 6,
    "start_time": "2023-05-17T13:34:48.948Z"
   },
   {
    "duration": 6,
    "start_time": "2023-05-17T13:36:04.998Z"
   },
   {
    "duration": 16,
    "start_time": "2023-05-17T13:41:36.381Z"
   },
   {
    "duration": 15,
    "start_time": "2023-05-17T13:41:44.649Z"
   },
   {
    "duration": 7,
    "start_time": "2023-05-17T13:41:48.863Z"
   },
   {
    "duration": 10,
    "start_time": "2023-05-17T13:42:09.009Z"
   },
   {
    "duration": 8,
    "start_time": "2023-05-17T13:42:15.128Z"
   },
   {
    "duration": 8,
    "start_time": "2023-05-17T13:44:50.602Z"
   },
   {
    "duration": 76,
    "start_time": "2023-05-17T13:45:04.019Z"
   },
   {
    "duration": 7,
    "start_time": "2023-05-17T13:45:06.327Z"
   },
   {
    "duration": 7,
    "start_time": "2023-05-17T13:45:34.246Z"
   },
   {
    "duration": 7,
    "start_time": "2023-05-17T13:46:48.353Z"
   },
   {
    "duration": 8,
    "start_time": "2023-05-17T13:51:32.740Z"
   },
   {
    "duration": 8,
    "start_time": "2023-05-17T13:53:09.106Z"
   },
   {
    "duration": 7,
    "start_time": "2023-05-17T13:54:49.107Z"
   },
   {
    "duration": 6,
    "start_time": "2023-05-17T13:55:22.322Z"
   },
   {
    "duration": 6,
    "start_time": "2023-05-17T13:58:36.537Z"
   },
   {
    "duration": 9,
    "start_time": "2023-05-17T14:07:59.608Z"
   },
   {
    "duration": 11,
    "start_time": "2023-05-17T14:18:19.848Z"
   },
   {
    "duration": 7,
    "start_time": "2023-05-17T14:18:28.732Z"
   },
   {
    "duration": 8,
    "start_time": "2023-05-17T14:19:41.033Z"
   },
   {
    "duration": 9,
    "start_time": "2023-05-17T14:19:48.282Z"
   },
   {
    "duration": 6,
    "start_time": "2023-05-17T14:19:53.038Z"
   },
   {
    "duration": 8,
    "start_time": "2023-05-17T14:24:01.057Z"
   },
   {
    "duration": 10,
    "start_time": "2023-05-17T14:34:53.714Z"
   },
   {
    "duration": 9,
    "start_time": "2023-05-17T14:34:57.088Z"
   },
   {
    "duration": 9,
    "start_time": "2023-05-17T14:34:59.288Z"
   },
   {
    "duration": 7,
    "start_time": "2023-05-17T14:35:07.231Z"
   },
   {
    "duration": 10,
    "start_time": "2023-05-17T14:35:13.309Z"
   },
   {
    "duration": 6,
    "start_time": "2023-05-17T14:35:55.996Z"
   },
   {
    "duration": 9,
    "start_time": "2023-05-17T14:36:00.505Z"
   },
   {
    "duration": 8,
    "start_time": "2023-05-17T15:03:59.885Z"
   },
   {
    "duration": 8,
    "start_time": "2023-05-17T15:04:05.117Z"
   },
   {
    "duration": 12,
    "start_time": "2023-05-17T15:05:12.572Z"
   },
   {
    "duration": 7,
    "start_time": "2023-05-17T15:05:16.485Z"
   },
   {
    "duration": 5,
    "start_time": "2023-05-17T15:05:20.131Z"
   },
   {
    "duration": 14,
    "start_time": "2023-05-17T15:29:54.717Z"
   },
   {
    "duration": 11,
    "start_time": "2023-05-17T15:32:56.340Z"
   },
   {
    "duration": 11,
    "start_time": "2023-05-17T15:38:47.400Z"
   },
   {
    "duration": 12,
    "start_time": "2023-05-17T15:39:51.210Z"
   },
   {
    "duration": 12,
    "start_time": "2023-05-17T15:40:35.586Z"
   },
   {
    "duration": 13,
    "start_time": "2023-05-17T15:41:15.508Z"
   },
   {
    "duration": 8,
    "start_time": "2023-05-17T15:55:57.201Z"
   },
   {
    "duration": 8,
    "start_time": "2023-05-17T15:55:59.133Z"
   },
   {
    "duration": 9,
    "start_time": "2023-05-17T15:56:01.333Z"
   },
   {
    "duration": 9,
    "start_time": "2023-05-17T15:56:08.891Z"
   },
   {
    "duration": 8,
    "start_time": "2023-05-17T15:56:12.925Z"
   },
   {
    "duration": 7,
    "start_time": "2023-05-17T15:56:23.208Z"
   },
   {
    "duration": 8,
    "start_time": "2023-05-17T15:56:57.795Z"
   },
   {
    "duration": 815,
    "start_time": "2023-05-18T08:37:44.899Z"
   },
   {
    "duration": 69,
    "start_time": "2023-05-18T08:37:45.716Z"
   },
   {
    "duration": 19,
    "start_time": "2023-05-18T08:37:45.787Z"
   },
   {
    "duration": 15,
    "start_time": "2023-05-18T08:37:45.807Z"
   },
   {
    "duration": 13,
    "start_time": "2023-05-18T08:37:45.824Z"
   },
   {
    "duration": 449,
    "start_time": "2023-05-18T08:37:45.839Z"
   },
   {
    "duration": 482,
    "start_time": "2023-05-18T08:37:46.289Z"
   },
   {
    "duration": 11,
    "start_time": "2023-05-18T08:37:46.772Z"
   },
   {
    "duration": 4,
    "start_time": "2023-05-18T08:37:46.785Z"
   },
   {
    "duration": 21,
    "start_time": "2023-05-18T08:37:46.791Z"
   },
   {
    "duration": 9,
    "start_time": "2023-05-18T08:37:46.813Z"
   },
   {
    "duration": 6,
    "start_time": "2023-05-18T08:37:46.824Z"
   },
   {
    "duration": 114,
    "start_time": "2023-05-18T08:37:46.831Z"
   },
   {
    "duration": 100,
    "start_time": "2023-05-18T08:37:46.947Z"
   },
   {
    "duration": 197,
    "start_time": "2023-05-18T08:37:47.048Z"
   },
   {
    "duration": 143,
    "start_time": "2023-05-18T08:37:47.246Z"
   },
   {
    "duration": 7,
    "start_time": "2023-05-18T08:37:47.391Z"
   },
   {
    "duration": 122,
    "start_time": "2023-05-18T08:37:47.399Z"
   },
   {
    "duration": 8,
    "start_time": "2023-05-18T08:37:47.522Z"
   },
   {
    "duration": 14,
    "start_time": "2023-05-18T08:37:47.531Z"
   },
   {
    "duration": 16,
    "start_time": "2023-05-18T08:37:47.547Z"
   },
   {
    "duration": 112,
    "start_time": "2023-05-18T08:37:47.564Z"
   },
   {
    "duration": 16,
    "start_time": "2023-05-18T08:37:47.678Z"
   },
   {
    "duration": 149,
    "start_time": "2023-05-18T08:37:47.696Z"
   },
   {
    "duration": 7,
    "start_time": "2023-05-18T08:37:47.846Z"
   },
   {
    "duration": 138,
    "start_time": "2023-05-18T08:37:47.854Z"
   },
   {
    "duration": 15,
    "start_time": "2023-05-18T08:37:47.994Z"
   },
   {
    "duration": 6,
    "start_time": "2023-05-18T08:37:48.010Z"
   },
   {
    "duration": 18,
    "start_time": "2023-05-18T08:37:48.017Z"
   },
   {
    "duration": 140,
    "start_time": "2023-05-18T08:37:48.037Z"
   },
   {
    "duration": 8,
    "start_time": "2023-05-18T08:37:48.178Z"
   },
   {
    "duration": 134,
    "start_time": "2023-05-18T08:37:48.187Z"
   },
   {
    "duration": 7,
    "start_time": "2023-05-18T08:37:48.323Z"
   },
   {
    "duration": 68727,
    "start_time": "2023-05-18T08:37:48.331Z"
   },
   {
    "duration": 18,
    "start_time": "2023-05-18T08:38:57.059Z"
   },
   {
    "duration": 7,
    "start_time": "2023-05-18T08:38:57.078Z"
   },
   {
    "duration": 222,
    "start_time": "2023-05-18T08:38:57.087Z"
   },
   {
    "duration": 12,
    "start_time": "2023-05-18T08:38:57.311Z"
   },
   {
    "duration": 21,
    "start_time": "2023-05-18T08:38:57.324Z"
   },
   {
    "duration": 19,
    "start_time": "2023-05-18T08:38:57.347Z"
   },
   {
    "duration": 6,
    "start_time": "2023-05-18T08:38:57.369Z"
   },
   {
    "duration": 32,
    "start_time": "2023-05-18T08:38:57.376Z"
   },
   {
    "duration": 8,
    "start_time": "2023-05-18T08:38:57.409Z"
   },
   {
    "duration": 5,
    "start_time": "2023-05-18T09:13:33.478Z"
   },
   {
    "duration": 10,
    "start_time": "2023-05-18T09:13:49.172Z"
   },
   {
    "duration": 94,
    "start_time": "2023-05-18T09:19:11.191Z"
   },
   {
    "duration": 6,
    "start_time": "2023-05-18T09:19:42.091Z"
   },
   {
    "duration": 6,
    "start_time": "2023-05-18T09:23:44.028Z"
   },
   {
    "duration": 7,
    "start_time": "2023-05-18T09:25:00.336Z"
   },
   {
    "duration": 7,
    "start_time": "2023-05-18T09:25:01.729Z"
   },
   {
    "duration": 10,
    "start_time": "2023-05-18T09:25:02.716Z"
   },
   {
    "duration": 5,
    "start_time": "2023-05-18T09:25:03.663Z"
   },
   {
    "duration": 9,
    "start_time": "2023-05-18T09:25:04.616Z"
   },
   {
    "duration": 9,
    "start_time": "2023-05-18T09:25:05.495Z"
   },
   {
    "duration": 6,
    "start_time": "2023-05-18T09:25:06.447Z"
   },
   {
    "duration": 6,
    "start_time": "2023-05-18T09:25:07.495Z"
   },
   {
    "duration": 6,
    "start_time": "2023-05-18T09:25:08.432Z"
   },
   {
    "duration": 7,
    "start_time": "2023-05-18T09:25:09.396Z"
   },
   {
    "duration": 7,
    "start_time": "2023-05-18T09:25:10.304Z"
   },
   {
    "duration": 5,
    "start_time": "2023-05-18T09:25:11.179Z"
   },
   {
    "duration": 6,
    "start_time": "2023-05-18T09:25:12.263Z"
   },
   {
    "duration": 163,
    "start_time": "2023-05-18T09:31:59.767Z"
   },
   {
    "duration": 8,
    "start_time": "2023-05-18T09:32:18.222Z"
   },
   {
    "duration": 7,
    "start_time": "2023-05-18T09:38:12.626Z"
   },
   {
    "duration": 5,
    "start_time": "2023-05-18T09:38:54.116Z"
   },
   {
    "duration": 6,
    "start_time": "2023-05-18T09:39:03.826Z"
   },
   {
    "duration": 5,
    "start_time": "2023-05-18T09:42:21.647Z"
   },
   {
    "duration": 5,
    "start_time": "2023-05-18T09:42:52.079Z"
   },
   {
    "duration": 87,
    "start_time": "2023-05-18T12:45:00.851Z"
   },
   {
    "duration": 903,
    "start_time": "2023-05-18T12:45:05.308Z"
   },
   {
    "duration": 308,
    "start_time": "2023-05-18T12:45:06.213Z"
   },
   {
    "duration": 31,
    "start_time": "2023-05-18T12:45:06.523Z"
   },
   {
    "duration": 25,
    "start_time": "2023-05-18T12:45:06.558Z"
   },
   {
    "duration": 49,
    "start_time": "2023-05-18T12:45:06.585Z"
   },
   {
    "duration": 745,
    "start_time": "2023-05-18T12:45:06.637Z"
   },
   {
    "duration": 590,
    "start_time": "2023-05-18T12:45:07.384Z"
   },
   {
    "duration": 13,
    "start_time": "2023-05-18T12:45:07.976Z"
   },
   {
    "duration": 7,
    "start_time": "2023-05-18T12:45:07.991Z"
   },
   {
    "duration": 9,
    "start_time": "2023-05-18T12:45:08.024Z"
   },
   {
    "duration": 6,
    "start_time": "2023-05-18T12:45:08.035Z"
   },
   {
    "duration": 9,
    "start_time": "2023-05-18T12:45:08.043Z"
   },
   {
    "duration": 157,
    "start_time": "2023-05-18T12:45:08.053Z"
   },
   {
    "duration": 83,
    "start_time": "2023-05-18T12:45:10.898Z"
   },
   {
    "duration": 74,
    "start_time": "2023-05-18T12:47:53.099Z"
   },
   {
    "duration": 138,
    "start_time": "2023-05-18T12:48:14.567Z"
   },
   {
    "duration": 214,
    "start_time": "2023-05-18T12:48:28.282Z"
   },
   {
    "duration": 240,
    "start_time": "2023-05-18T12:49:42.480Z"
   },
   {
    "duration": 81,
    "start_time": "2023-05-18T13:01:07.974Z"
   },
   {
    "duration": 18797,
    "start_time": "2023-05-18T13:01:10.817Z"
   },
   {
    "duration": 78,
    "start_time": "2023-05-18T13:01:45.111Z"
   },
   {
    "duration": 152,
    "start_time": "2023-05-18T13:01:47.768Z"
   },
   {
    "duration": 158,
    "start_time": "2023-05-18T13:02:12.759Z"
   },
   {
    "duration": 413,
    "start_time": "2023-05-18T13:04:03.374Z"
   },
   {
    "duration": 149,
    "start_time": "2023-05-18T13:06:14.382Z"
   },
   {
    "duration": 198,
    "start_time": "2023-05-18T13:06:24.807Z"
   },
   {
    "duration": 229,
    "start_time": "2023-05-18T13:07:00.722Z"
   },
   {
    "duration": 13,
    "start_time": "2023-05-18T13:09:40.116Z"
   },
   {
    "duration": 3,
    "start_time": "2023-05-18T13:09:44.561Z"
   },
   {
    "duration": 88,
    "start_time": "2023-05-18T13:09:44.573Z"
   },
   {
    "duration": 23,
    "start_time": "2023-05-18T13:09:44.664Z"
   },
   {
    "duration": 32,
    "start_time": "2023-05-18T13:09:44.688Z"
   },
   {
    "duration": 40,
    "start_time": "2023-05-18T13:09:44.721Z"
   },
   {
    "duration": 264,
    "start_time": "2023-05-18T13:09:44.764Z"
   },
   {
    "duration": 537,
    "start_time": "2023-05-18T13:09:45.030Z"
   },
   {
    "duration": 13,
    "start_time": "2023-05-18T13:09:45.569Z"
   },
   {
    "duration": 19,
    "start_time": "2023-05-18T13:09:45.584Z"
   },
   {
    "duration": 30,
    "start_time": "2023-05-18T13:09:45.605Z"
   },
   {
    "duration": 16,
    "start_time": "2023-05-18T13:09:45.638Z"
   },
   {
    "duration": 36,
    "start_time": "2023-05-18T13:09:45.656Z"
   },
   {
    "duration": 162,
    "start_time": "2023-05-18T13:09:45.693Z"
   },
   {
    "duration": 152,
    "start_time": "2023-05-18T13:09:45.857Z"
   },
   {
    "duration": 262,
    "start_time": "2023-05-18T13:09:46.014Z"
   },
   {
    "duration": 174,
    "start_time": "2023-05-18T13:09:46.277Z"
   },
   {
    "duration": 9,
    "start_time": "2023-05-18T13:09:46.453Z"
   },
   {
    "duration": 187,
    "start_time": "2023-05-18T13:09:46.464Z"
   },
   {
    "duration": 9,
    "start_time": "2023-05-18T13:09:46.653Z"
   },
   {
    "duration": 31,
    "start_time": "2023-05-18T13:09:46.664Z"
   },
   {
    "duration": 42,
    "start_time": "2023-05-18T13:09:46.696Z"
   },
   {
    "duration": 19,
    "start_time": "2023-05-18T13:09:46.739Z"
   },
   {
    "duration": 46,
    "start_time": "2023-05-18T13:09:46.760Z"
   },
   {
    "duration": 211,
    "start_time": "2023-05-18T13:09:46.808Z"
   },
   {
    "duration": 24,
    "start_time": "2023-05-18T13:09:47.022Z"
   },
   {
    "duration": 199,
    "start_time": "2023-05-18T13:09:47.048Z"
   },
   {
    "duration": 9,
    "start_time": "2023-05-18T13:09:47.249Z"
   },
   {
    "duration": 11,
    "start_time": "2023-05-18T13:09:47.259Z"
   },
   {
    "duration": 48,
    "start_time": "2023-05-18T13:09:47.272Z"
   },
   {
    "duration": 181,
    "start_time": "2023-05-18T13:09:47.322Z"
   },
   {
    "duration": 25,
    "start_time": "2023-05-18T13:09:47.506Z"
   },
   {
    "duration": 163,
    "start_time": "2023-05-18T13:09:47.533Z"
   },
   {
    "duration": 11,
    "start_time": "2023-05-18T13:09:47.698Z"
   },
   {
    "duration": 4,
    "start_time": "2023-05-18T13:09:49.714Z"
   },
   {
    "duration": 92,
    "start_time": "2023-05-18T13:10:20.752Z"
   },
   {
    "duration": 156,
    "start_time": "2023-05-18T13:10:49.577Z"
   },
   {
    "duration": 114,
    "start_time": "2023-05-18T13:11:26.106Z"
   },
   {
    "duration": 388,
    "start_time": "2023-05-18T13:11:47.764Z"
   },
   {
    "duration": 10,
    "start_time": "2023-05-18T13:12:43.052Z"
   },
   {
    "duration": 23,
    "start_time": "2023-05-18T13:12:53.524Z"
   },
   {
    "duration": 4,
    "start_time": "2023-05-18T13:13:07.485Z"
   },
   {
    "duration": 23,
    "start_time": "2023-05-18T13:13:11.355Z"
   },
   {
    "duration": 112,
    "start_time": "2023-05-18T13:13:43.505Z"
   },
   {
    "duration": 92464,
    "start_time": "2023-05-18T13:13:49.313Z"
   },
   {
    "duration": 12,
    "start_time": "2023-05-18T13:15:23.017Z"
   },
   {
    "duration": 32,
    "start_time": "2023-05-18T13:15:29.717Z"
   },
   {
    "duration": 3,
    "start_time": "2023-05-18T13:15:31.617Z"
   },
   {
    "duration": 259,
    "start_time": "2023-05-18T13:15:34.039Z"
   },
   {
    "duration": 14,
    "start_time": "2023-05-18T13:15:35.468Z"
   },
   {
    "duration": 22,
    "start_time": "2023-05-18T13:15:37.572Z"
   },
   {
    "duration": 22,
    "start_time": "2023-05-18T13:15:39.668Z"
   },
   {
    "duration": 6,
    "start_time": "2023-05-18T13:15:41.976Z"
   },
   {
    "duration": 7,
    "start_time": "2023-05-18T13:17:05.878Z"
   },
   {
    "duration": 7,
    "start_time": "2023-05-18T13:17:25.898Z"
   },
   {
    "duration": 10,
    "start_time": "2023-05-18T13:21:25.880Z"
   },
   {
    "duration": 16,
    "start_time": "2023-05-18T13:21:30.222Z"
   },
   {
    "duration": 3,
    "start_time": "2023-05-18T13:21:43.318Z"
   },
   {
    "duration": 90,
    "start_time": "2023-05-18T13:21:43.323Z"
   },
   {
    "duration": 18,
    "start_time": "2023-05-18T13:21:43.415Z"
   },
   {
    "duration": 44,
    "start_time": "2023-05-18T13:21:43.435Z"
   },
   {
    "duration": 16,
    "start_time": "2023-05-18T13:21:43.480Z"
   },
   {
    "duration": 296,
    "start_time": "2023-05-18T13:21:43.497Z"
   },
   {
    "duration": 581,
    "start_time": "2023-05-18T13:21:43.794Z"
   },
   {
    "duration": 12,
    "start_time": "2023-05-18T13:21:44.376Z"
   },
   {
    "duration": 5,
    "start_time": "2023-05-18T13:21:44.390Z"
   },
   {
    "duration": 10,
    "start_time": "2023-05-18T13:21:44.397Z"
   },
   {
    "duration": 21,
    "start_time": "2023-05-18T13:21:44.425Z"
   },
   {
    "duration": 6,
    "start_time": "2023-05-18T13:21:44.447Z"
   },
   {
    "duration": 135,
    "start_time": "2023-05-18T13:21:44.455Z"
   },
   {
    "duration": 160,
    "start_time": "2023-05-18T13:21:44.592Z"
   },
   {
    "duration": 158,
    "start_time": "2023-05-18T13:21:46.423Z"
   },
   {
    "duration": 255,
    "start_time": "2023-05-18T13:21:58.508Z"
   },
   {
    "duration": 2,
    "start_time": "2023-05-18T13:23:24.964Z"
   },
   {
    "duration": 98,
    "start_time": "2023-05-18T13:23:24.968Z"
   },
   {
    "duration": 17,
    "start_time": "2023-05-18T13:23:25.068Z"
   },
   {
    "duration": 25,
    "start_time": "2023-05-18T13:23:25.087Z"
   },
   {
    "duration": 35,
    "start_time": "2023-05-18T13:23:25.113Z"
   },
   {
    "duration": 271,
    "start_time": "2023-05-18T13:23:25.150Z"
   },
   {
    "duration": 579,
    "start_time": "2023-05-18T13:23:25.425Z"
   },
   {
    "duration": 31,
    "start_time": "2023-05-18T13:23:26.006Z"
   },
   {
    "duration": 8,
    "start_time": "2023-05-18T13:23:26.049Z"
   },
   {
    "duration": 12,
    "start_time": "2023-05-18T13:23:26.059Z"
   },
   {
    "duration": 4,
    "start_time": "2023-05-18T13:23:26.073Z"
   },
   {
    "duration": 14,
    "start_time": "2023-05-18T13:23:26.079Z"
   },
   {
    "duration": 163,
    "start_time": "2023-05-18T13:23:26.095Z"
   },
   {
    "duration": 145,
    "start_time": "2023-05-18T13:23:26.259Z"
   },
   {
    "duration": 172,
    "start_time": "2023-05-18T13:23:26.405Z"
   },
   {
    "duration": 176,
    "start_time": "2023-05-18T13:23:26.578Z"
   },
   {
    "duration": 10,
    "start_time": "2023-05-18T13:23:26.756Z"
   },
   {
    "duration": 188,
    "start_time": "2023-05-18T13:23:26.768Z"
   },
   {
    "duration": 9,
    "start_time": "2023-05-18T13:23:26.957Z"
   },
   {
    "duration": 15,
    "start_time": "2023-05-18T13:23:26.968Z"
   },
   {
    "duration": 19,
    "start_time": "2023-05-18T13:23:26.985Z"
   },
   {
    "duration": 27,
    "start_time": "2023-05-18T13:23:27.005Z"
   },
   {
    "duration": 24,
    "start_time": "2023-05-18T13:23:27.034Z"
   },
   {
    "duration": 302,
    "start_time": "2023-05-18T13:23:27.061Z"
   },
   {
    "duration": 9,
    "start_time": "2023-05-18T13:23:27.366Z"
   },
   {
    "duration": 201,
    "start_time": "2023-05-18T13:23:27.376Z"
   },
   {
    "duration": 9,
    "start_time": "2023-05-18T13:23:27.579Z"
   },
   {
    "duration": 7,
    "start_time": "2023-05-18T13:23:27.589Z"
   },
   {
    "duration": 43,
    "start_time": "2023-05-18T13:23:27.598Z"
   },
   {
    "duration": 173,
    "start_time": "2023-05-18T13:23:27.643Z"
   },
   {
    "duration": 30,
    "start_time": "2023-05-18T13:23:27.817Z"
   },
   {
    "duration": 209,
    "start_time": "2023-05-18T13:23:27.849Z"
   },
   {
    "duration": 9,
    "start_time": "2023-05-18T13:23:28.059Z"
   },
   {
    "duration": 95294,
    "start_time": "2023-05-18T13:23:28.069Z"
   },
   {
    "duration": 22,
    "start_time": "2023-05-18T13:25:03.365Z"
   },
   {
    "duration": 8,
    "start_time": "2023-05-18T13:25:03.389Z"
   },
   {
    "duration": 288,
    "start_time": "2023-05-18T13:25:03.399Z"
   },
   {
    "duration": 15,
    "start_time": "2023-05-18T13:25:03.688Z"
   },
   {
    "duration": 44,
    "start_time": "2023-05-18T13:25:03.705Z"
   },
   {
    "duration": 29,
    "start_time": "2023-05-18T13:25:03.758Z"
   },
   {
    "duration": 7,
    "start_time": "2023-05-18T13:25:03.788Z"
   },
   {
    "duration": 13,
    "start_time": "2023-05-18T13:25:03.796Z"
   },
   {
    "duration": 20,
    "start_time": "2023-05-18T13:25:03.811Z"
   },
   {
    "duration": 179,
    "start_time": "2023-05-18T13:26:19.289Z"
   },
   {
    "duration": 322,
    "start_time": "2023-05-18T13:26:49.475Z"
   },
   {
    "duration": 186,
    "start_time": "2023-05-18T13:27:15.505Z"
   },
   {
    "duration": 182,
    "start_time": "2023-05-18T13:27:28.613Z"
   },
   {
    "duration": 203,
    "start_time": "2023-05-18T13:27:56.016Z"
   },
   {
    "duration": 197,
    "start_time": "2023-05-18T13:28:11.612Z"
   },
   {
    "duration": 194,
    "start_time": "2023-05-18T13:28:35.616Z"
   },
   {
    "duration": 205,
    "start_time": "2023-05-18T13:29:05.889Z"
   },
   {
    "duration": 237,
    "start_time": "2023-05-18T13:29:09.515Z"
   },
   {
    "duration": 204,
    "start_time": "2023-05-18T13:29:27.762Z"
   },
   {
    "duration": 85,
    "start_time": "2023-05-18T21:52:25.855Z"
   },
   {
    "duration": 862,
    "start_time": "2023-05-18T21:52:31.532Z"
   },
   {
    "duration": 102,
    "start_time": "2023-05-18T21:52:32.396Z"
   },
   {
    "duration": 23,
    "start_time": "2023-05-18T21:52:32.500Z"
   },
   {
    "duration": 18,
    "start_time": "2023-05-18T21:52:32.524Z"
   },
   {
    "duration": 52,
    "start_time": "2023-05-18T21:52:32.544Z"
   },
   {
    "duration": 604,
    "start_time": "2023-05-18T21:52:32.598Z"
   },
   {
    "duration": 603,
    "start_time": "2023-05-18T21:52:33.205Z"
   },
   {
    "duration": 13,
    "start_time": "2023-05-18T21:52:33.810Z"
   },
   {
    "duration": 7,
    "start_time": "2023-05-18T21:52:33.824Z"
   },
   {
    "duration": 36,
    "start_time": "2023-05-18T21:52:33.833Z"
   },
   {
    "duration": 6,
    "start_time": "2023-05-18T21:52:33.870Z"
   },
   {
    "duration": 24,
    "start_time": "2023-05-18T21:52:33.877Z"
   },
   {
    "duration": 187,
    "start_time": "2023-05-18T21:52:33.905Z"
   },
   {
    "duration": 163,
    "start_time": "2023-05-18T21:52:34.096Z"
   },
   {
    "duration": 157,
    "start_time": "2023-05-18T21:52:34.261Z"
   },
   {
    "duration": 193,
    "start_time": "2023-05-18T21:52:34.420Z"
   },
   {
    "duration": 9,
    "start_time": "2023-05-18T21:52:34.615Z"
   },
   {
    "duration": 193,
    "start_time": "2023-05-18T21:52:34.626Z"
   },
   {
    "duration": 9,
    "start_time": "2023-05-18T21:52:34.820Z"
   },
   {
    "duration": 33,
    "start_time": "2023-05-18T21:52:34.831Z"
   },
   {
    "duration": 36,
    "start_time": "2023-05-18T21:52:34.869Z"
   },
   {
    "duration": 10,
    "start_time": "2023-05-18T21:52:34.907Z"
   },
   {
    "duration": 17,
    "start_time": "2023-05-18T21:52:34.918Z"
   },
   {
    "duration": 224,
    "start_time": "2023-05-18T21:52:34.937Z"
   },
   {
    "duration": 8,
    "start_time": "2023-05-18T21:52:35.163Z"
   },
   {
    "duration": 280,
    "start_time": "2023-05-18T21:52:35.173Z"
   },
   {
    "duration": 18,
    "start_time": "2023-05-18T21:52:35.464Z"
   },
   {
    "duration": 10,
    "start_time": "2023-05-18T21:52:35.488Z"
   },
   {
    "duration": 17,
    "start_time": "2023-05-18T21:52:35.500Z"
   },
   {
    "duration": 198,
    "start_time": "2023-05-18T21:52:35.519Z"
   },
   {
    "duration": 9,
    "start_time": "2023-05-18T21:52:35.719Z"
   },
   {
    "duration": 199,
    "start_time": "2023-05-18T21:52:35.730Z"
   },
   {
    "duration": 9,
    "start_time": "2023-05-18T21:52:35.931Z"
   },
   {
    "duration": 91634,
    "start_time": "2023-05-18T21:52:35.941Z"
   },
   {
    "duration": 28,
    "start_time": "2023-05-18T21:54:07.584Z"
   },
   {
    "duration": 3,
    "start_time": "2023-05-18T21:54:07.613Z"
   },
   {
    "duration": 266,
    "start_time": "2023-05-18T21:54:07.617Z"
   },
   {
    "duration": 24,
    "start_time": "2023-05-18T21:54:07.889Z"
   },
   {
    "duration": 24,
    "start_time": "2023-05-18T21:54:07.915Z"
   },
   {
    "duration": 46,
    "start_time": "2023-05-18T21:54:07.941Z"
   },
   {
    "duration": 8,
    "start_time": "2023-05-18T21:54:07.997Z"
   },
   {
    "duration": 11,
    "start_time": "2023-05-18T21:54:08.007Z"
   },
   {
    "duration": 16,
    "start_time": "2023-05-18T21:54:08.019Z"
   },
   {
    "duration": 13,
    "start_time": "2023-05-18T21:54:08.036Z"
   },
   {
    "duration": 14,
    "start_time": "2023-05-18T21:54:29.194Z"
   },
   {
    "duration": 4,
    "start_time": "2023-05-18T21:54:49.910Z"
   },
   {
    "duration": 4,
    "start_time": "2023-05-18T21:55:01.599Z"
   },
   {
    "duration": 4,
    "start_time": "2023-05-18T21:55:32.891Z"
   },
   {
    "duration": 4,
    "start_time": "2023-05-18T21:55:43.536Z"
   },
   {
    "duration": 111,
    "start_time": "2023-05-18T21:56:15.096Z"
   },
   {
    "duration": 7,
    "start_time": "2023-05-18T21:56:22.554Z"
   },
   {
    "duration": 6,
    "start_time": "2023-05-18T21:57:04.413Z"
   },
   {
    "duration": 6,
    "start_time": "2023-05-18T21:59:04.687Z"
   },
   {
    "duration": 4,
    "start_time": "2023-05-18T21:59:17.026Z"
   },
   {
    "duration": 7,
    "start_time": "2023-05-18T21:59:24.254Z"
   },
   {
    "duration": 13,
    "start_time": "2023-05-18T21:59:30.855Z"
   },
   {
    "duration": 3,
    "start_time": "2023-05-18T21:59:34.826Z"
   },
   {
    "duration": 5,
    "start_time": "2023-05-18T21:59:40.186Z"
   },
   {
    "duration": 95,
    "start_time": "2023-05-19T04:51:47.108Z"
   },
   {
    "duration": 1469,
    "start_time": "2023-05-19T04:51:52.709Z"
   },
   {
    "duration": 640,
    "start_time": "2023-05-19T04:51:54.193Z"
   },
   {
    "duration": 87,
    "start_time": "2023-05-19T04:51:54.848Z"
   },
   {
    "duration": 88,
    "start_time": "2023-05-19T04:51:54.943Z"
   },
   {
    "duration": 65,
    "start_time": "2023-05-19T04:51:55.037Z"
   },
   {
    "duration": 1486,
    "start_time": "2023-05-19T04:51:55.109Z"
   },
   {
    "duration": 924,
    "start_time": "2023-05-19T04:51:56.597Z"
   },
   {
    "duration": 25,
    "start_time": "2023-05-19T04:51:57.527Z"
   },
   {
    "duration": 188,
    "start_time": "2023-05-19T04:51:57.559Z"
   },
   {
    "duration": 137,
    "start_time": "2023-05-19T04:51:57.762Z"
   },
   {
    "duration": 109,
    "start_time": "2023-05-19T04:51:57.906Z"
   },
   {
    "duration": 74,
    "start_time": "2023-05-19T04:51:58.034Z"
   },
   {
    "duration": 362,
    "start_time": "2023-05-19T04:51:58.120Z"
   },
   {
    "duration": 226,
    "start_time": "2023-05-19T04:51:58.489Z"
   },
   {
    "duration": 264,
    "start_time": "2023-05-19T04:51:58.732Z"
   },
   {
    "duration": 332,
    "start_time": "2023-05-19T04:51:59.007Z"
   },
   {
    "duration": 21,
    "start_time": "2023-05-19T04:51:59.341Z"
   },
   {
    "duration": 709,
    "start_time": "2023-05-19T04:51:59.364Z"
   },
   {
    "duration": 38,
    "start_time": "2023-05-19T04:52:00.075Z"
   },
   {
    "duration": 178,
    "start_time": "2023-05-19T04:52:00.121Z"
   },
   {
    "duration": 252,
    "start_time": "2023-05-19T04:52:00.307Z"
   },
   {
    "duration": 305,
    "start_time": "2023-05-19T04:52:00.562Z"
   },
   {
    "duration": 306,
    "start_time": "2023-05-19T04:52:00.875Z"
   },
   {
    "duration": 374,
    "start_time": "2023-05-19T04:52:01.184Z"
   },
   {
    "duration": 40,
    "start_time": "2023-05-19T04:52:01.572Z"
   },
   {
    "duration": 468,
    "start_time": "2023-05-19T04:52:01.616Z"
   },
   {
    "duration": 39,
    "start_time": "2023-05-19T04:52:02.092Z"
   },
   {
    "duration": 122,
    "start_time": "2023-05-19T04:52:02.144Z"
   },
   {
    "duration": 202,
    "start_time": "2023-05-19T04:52:02.275Z"
   },
   {
    "duration": 456,
    "start_time": "2023-05-19T04:52:02.486Z"
   },
   {
    "duration": 16,
    "start_time": "2023-05-19T04:52:02.951Z"
   },
   {
    "duration": 408,
    "start_time": "2023-05-19T04:52:02.971Z"
   },
   {
    "duration": 21,
    "start_time": "2023-05-19T04:52:03.381Z"
   },
   {
    "duration": 146959,
    "start_time": "2023-05-19T04:52:03.405Z"
   },
   {
    "duration": 49,
    "start_time": "2023-05-19T04:54:30.366Z"
   },
   {
    "duration": 117,
    "start_time": "2023-05-19T04:54:30.421Z"
   },
   {
    "duration": 688,
    "start_time": "2023-05-19T04:54:30.545Z"
   },
   {
    "duration": 34,
    "start_time": "2023-05-19T04:54:31.248Z"
   },
   {
    "duration": 181,
    "start_time": "2023-05-19T04:54:31.283Z"
   },
   {
    "duration": 198,
    "start_time": "2023-05-19T04:54:31.467Z"
   },
   {
    "duration": 13,
    "start_time": "2023-05-19T04:54:42.110Z"
   },
   {
    "duration": 22,
    "start_time": "2023-05-19T04:54:51.193Z"
   },
   {
    "duration": 12,
    "start_time": "2023-05-19T04:55:01.452Z"
   },
   {
    "duration": 328,
    "start_time": "2023-05-19T05:02:09.233Z"
   },
   {
    "duration": 33,
    "start_time": "2023-05-19T05:02:37.862Z"
   },
   {
    "duration": 12,
    "start_time": "2023-05-19T05:18:09.033Z"
   },
   {
    "duration": 13,
    "start_time": "2023-05-19T05:18:22.248Z"
   },
   {
    "duration": 22,
    "start_time": "2023-05-19T05:18:27.169Z"
   },
   {
    "duration": 859,
    "start_time": "2023-05-19T13:44:56.452Z"
   },
   {
    "duration": 68,
    "start_time": "2023-05-19T13:44:57.314Z"
   },
   {
    "duration": 25,
    "start_time": "2023-05-19T13:44:57.383Z"
   },
   {
    "duration": 23,
    "start_time": "2023-05-19T13:44:57.410Z"
   },
   {
    "duration": 19,
    "start_time": "2023-05-19T13:44:57.435Z"
   },
   {
    "duration": 512,
    "start_time": "2023-05-19T13:44:57.456Z"
   },
   {
    "duration": 570,
    "start_time": "2023-05-19T13:44:57.970Z"
   },
   {
    "duration": 11,
    "start_time": "2023-05-19T13:44:58.542Z"
   },
   {
    "duration": 6,
    "start_time": "2023-05-19T13:44:58.555Z"
   },
   {
    "duration": 11,
    "start_time": "2023-05-19T13:44:58.565Z"
   },
   {
    "duration": 5,
    "start_time": "2023-05-19T13:44:58.579Z"
   },
   {
    "duration": 5,
    "start_time": "2023-05-19T13:44:58.618Z"
   },
   {
    "duration": 136,
    "start_time": "2023-05-19T13:44:58.625Z"
   },
   {
    "duration": 139,
    "start_time": "2023-05-19T13:44:58.763Z"
   },
   {
    "duration": 196,
    "start_time": "2023-05-19T13:44:58.904Z"
   },
   {
    "duration": 266,
    "start_time": "2023-05-19T13:44:59.101Z"
   },
   {
    "duration": 11,
    "start_time": "2023-05-19T13:44:59.370Z"
   },
   {
    "duration": 186,
    "start_time": "2023-05-19T13:44:59.383Z"
   },
   {
    "duration": 9,
    "start_time": "2023-05-19T13:44:59.571Z"
   },
   {
    "duration": 39,
    "start_time": "2023-05-19T13:44:59.582Z"
   },
   {
    "duration": 31,
    "start_time": "2023-05-19T13:44:59.624Z"
   },
   {
    "duration": 11,
    "start_time": "2023-05-19T13:44:59.658Z"
   },
   {
    "duration": 49,
    "start_time": "2023-05-19T13:44:59.671Z"
   },
   {
    "duration": 183,
    "start_time": "2023-05-19T13:44:59.722Z"
   },
   {
    "duration": 17,
    "start_time": "2023-05-19T13:44:59.907Z"
   },
   {
    "duration": 363,
    "start_time": "2023-05-19T13:44:59.927Z"
   },
   {
    "duration": 9,
    "start_time": "2023-05-19T13:45:00.293Z"
   },
   {
    "duration": 129,
    "start_time": "2023-05-19T13:45:00.319Z"
   },
   {
    "duration": 66,
    "start_time": "2023-05-19T13:45:00.450Z"
   },
   {
    "duration": 237,
    "start_time": "2023-05-19T13:45:00.517Z"
   },
   {
    "duration": 11,
    "start_time": "2023-05-19T13:45:00.756Z"
   },
   {
    "duration": 217,
    "start_time": "2023-05-19T13:45:00.769Z"
   },
   {
    "duration": 13,
    "start_time": "2023-05-19T13:45:00.989Z"
   },
   {
    "duration": 86275,
    "start_time": "2023-05-19T13:45:01.004Z"
   },
   {
    "duration": 18,
    "start_time": "2023-05-19T13:46:27.281Z"
   },
   {
    "duration": 16,
    "start_time": "2023-05-19T13:46:27.301Z"
   },
   {
    "duration": 246,
    "start_time": "2023-05-19T13:46:27.320Z"
   },
   {
    "duration": 14,
    "start_time": "2023-05-19T13:46:27.567Z"
   },
   {
    "duration": 46,
    "start_time": "2023-05-19T13:46:27.583Z"
   },
   {
    "duration": 25,
    "start_time": "2023-05-19T13:46:27.631Z"
   },
   {
    "duration": 10,
    "start_time": "2023-05-19T13:46:27.658Z"
   },
   {
    "duration": 20,
    "start_time": "2023-05-19T13:46:27.670Z"
   },
   {
    "duration": 7,
    "start_time": "2023-05-19T13:46:27.692Z"
   }
  ],
  "kernelspec": {
   "display_name": "Python 3 (ipykernel)",
   "language": "python",
   "name": "python3"
  },
  "language_info": {
   "codemirror_mode": {
    "name": "ipython",
    "version": 3
   },
   "file_extension": ".py",
   "mimetype": "text/x-python",
   "name": "python",
   "nbconvert_exporter": "python",
   "pygments_lexer": "ipython3",
   "version": "3.9.5"
  },
  "toc": {
   "base_numbering": 1,
   "nav_menu": {},
   "number_sections": true,
   "sideBar": true,
   "skip_h1_title": true,
   "title_cell": "Содержание",
   "title_sidebar": "Contents",
   "toc_cell": true,
   "toc_position": {
    "height": "calc(100% - 180px)",
    "left": "10px",
    "top": "150px",
    "width": "257px"
   },
   "toc_section_display": true,
   "toc_window_display": false
  }
 },
 "nbformat": 4,
 "nbformat_minor": 5
}
